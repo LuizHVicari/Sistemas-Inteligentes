{
  "nbformat": 4,
  "nbformat_minor": 0,
  "metadata": {
    "colab": {
      "provenance": [],
      "authorship_tag": "ABX9TyP3gT7TZz20WNGH/DOh8oxK",
      "include_colab_link": true
    },
    "kernelspec": {
      "name": "python3",
      "display_name": "Python 3"
    },
    "language_info": {
      "name": "python"
    }
  },
  "cells": [
    {
      "cell_type": "markdown",
      "metadata": {
        "id": "view-in-github",
        "colab_type": "text"
      },
      "source": [
        "<a href=\"https://colab.research.google.com/github/LuizHVicari/Sistemas-Inteligentes/blob/main/HW10.ipynb\" target=\"_parent\"><img src=\"https://colab.research.google.com/assets/colab-badge.svg\" alt=\"Open In Colab\"/></a>"
      ]
    },
    {
      "cell_type": "code",
      "execution_count": 5,
      "metadata": {
        "id": "gJdWCVaVfOeU"
      },
      "outputs": [],
      "source": [
        "import pandas as pd\n",
        "import numpy as np\n",
        "import matplotlib.pyplot as plt\n",
        "import seaborn as sns\n",
        "from sklearn.model_selection import train_test_split\n",
        "from sklearn.preprocessing import StandardScaler"
      ]
    },
    {
      "cell_type": "code",
      "source": [
        "lista_maca_peso = [168, 201, 184, 216, 177, 230, 149, 192, 206, 219, 177, 194, 241, 162, 207]\n",
        "lista_maca_diam = [7.7, 9.2, 8.5, 9.8, 8.1, 10.1, 6.9, 8.8, 9.4, 10.0, 8.2, 9.0, 10.6, 7.5, 9.6]\n",
        "maca = ['maca' for i in range(15)]\n",
        "\n",
        "lista_laranja_peso = [150, 162, 170, 182, 195, 204, 213, 221, 234, 246, 257, 266, 278, 287, 296]\n",
        "lista_laranja_diam = [6, 6.5, 6.8, 7.1, 7.4, 7.7, 8, 8.3, 8.6, 8.9, 9.2, 9.5, 9.8, 10.1, 10.4]\n",
        "laranja = ['laranja' for i in range(15)]\n",
        "\n",
        "peso = lista_maca_peso + lista_laranja_peso\n",
        "diam = lista_maca_diam + lista_laranja_diam\n",
        "frutas = maca + laranja\n",
        "\n",
        "df = pd.DataFrame(columns=['peso', 'diametro', 'fruta'])\n",
        "df['peso'] = peso\n",
        "df['diametro'] = diam\n",
        "df['fruta'] = frutas\n",
        "\n",
        "df['fruta'] = df.apply(lambda x : 0 if x['fruta'] == 'maca' else 1, axis=1)\n",
        "# y = np.column_stack([y])\n",
        "\n",
        "X_train, X_test, y_train, y_test = train_test_split(df.drop(columns=['fruta']), df['fruta'])\n",
        "\n",
        "ss = StandardScaler()\n",
        "X_train = ss.fit_transform(X_train)\n",
        "X_test = ss.transform(X_test)"
      ],
      "metadata": {
        "id": "qej4s67lfdXZ"
      },
      "execution_count": 6,
      "outputs": []
    },
    {
      "cell_type": "code",
      "source": [
        "class Search():\n",
        "    def __init__(self, jump = 0.1, depth = 1000):\n",
        "        self.jump = jump\n",
        "        self.depth = depth\n",
        "\n",
        "\n",
        "    def create_solutions(self):\n",
        "        weights = list()\n",
        "        weights.append((0, 0, 0))\n",
        "\n",
        "        i = 0\n",
        "        for w in weights:\n",
        "            if i > self.depth:\n",
        "                break\n",
        "            i += 1\n",
        "\n",
        "            if (w[0] + self.jump, w[1], w[2]) not in weights:\n",
        "                weights.append((w[0] + self.jump, w[1], w[2]))\n",
        "\n",
        "            if (w[0] - self.jump, w[1], w[2]) not in weights:\n",
        "                weights.append((w[0] - self.jump, w[1], w[2]))\n",
        "\n",
        "            if (w[0], w[1] + self.jump, w[2]) not in weights:\n",
        "                weights.append((w[0], w[1] + self.jump, w[2]))\n",
        "\n",
        "            if (w[0], w[1] - self.jump, w[2]) not in weights:\n",
        "                weights.append((w[0], w[1] - self.jump, w[2]))\n",
        "\n",
        "            if (w[0], w[1], w[2] + self.jump) not in weights:\n",
        "                weights.append((w[0], w[1], w[2] + self.jump))\n",
        "\n",
        "            if (w[0], w[1], w[2] - self.jump) not in weights:\n",
        "                weights.append((w[0], w[1], w[2] + self.jump))\n",
        "\n",
        "        weights = weights\n",
        "        weights = list(dict.fromkeys(weights))\n",
        "        self.weights = weights\n",
        "\n",
        "    def fit(self, X, y):\n",
        "        self.create_solutions()\n",
        "        best_score = 0\n",
        "        for w in self.weights:\n",
        "            predictions = list()\n",
        "            for line in X:\n",
        "                pred = line[0] * w[0] + line[1] * w[1] + w[2]\n",
        "                pred = 0 if pred <= 0 else 1\n",
        "                predictions.append(pred)\n",
        "            predictions = np.array(predictions)\n",
        "            score = self.score(y, predictions)\n",
        "            if score > best_score:\n",
        "                best_score = score\n",
        "                self.best_weights = w\n",
        "\n",
        "    def score(self, y, y_pred):\n",
        "        return np.sum(y == y_pred) / y.shape[0]\n",
        "\n",
        "    def predict(self, X):\n",
        "        predictions = list()\n",
        "        for line in X:\n",
        "            pred = line[0] * self.best_weights[0] + line[1] * self.best_weights[1] + self.best_weights[2]\n",
        "            pred = 0 if pred <= 0 else 1\n",
        "            predictions.append(pred)\n",
        "        predictions = np.array(predictions)\n",
        "        return predictions\n",
        "\n",
        "se = Search()\n",
        "se.fit(X_train, y_train)\n",
        "pred = se.predict(X_test)\n",
        "se.score(y_test, pred)"
      ],
      "metadata": {
        "colab": {
          "base_uri": "https://localhost:8080/"
        },
        "id": "GmhiaCjtn4CQ",
        "outputId": "76486d0f-a916-4ff7-fac4-d8067e21196c"
      },
      "execution_count": 69,
      "outputs": [
        {
          "output_type": "execute_result",
          "data": {
            "text/plain": [
              "1.0"
            ]
          },
          "metadata": {},
          "execution_count": 69
        }
      ]
    },
    {
      "cell_type": "code",
      "source": [
        "import seaborn as sns\n",
        "import matplotlib.pyplot as plt\n",
        "\n",
        "y = lambda x : (-se.best_weights[0] * x - se.best_weights[2]) / se.best_weights[1]\n",
        "\n",
        "sns.scatterplot(x=X_train[:,0], y=X_train[:,1], hue=y_train.to_numpy())\n",
        "plt.plot([-1.5, 2.0], [y(-1.5), y(2.0)])"
      ],
      "metadata": {
        "colab": {
          "base_uri": "https://localhost:8080/",
          "height": 447
        },
        "id": "Uj8Vu9bmuirK",
        "outputId": "786a7e44-00d5-4afd-b62f-52a4bda5c395"
      },
      "execution_count": 61,
      "outputs": [
        {
          "output_type": "execute_result",
          "data": {
            "text/plain": [
              "[<matplotlib.lines.Line2D at 0x7fe538bfdd20>]"
            ]
          },
          "metadata": {},
          "execution_count": 61
        },
        {
          "output_type": "display_data",
          "data": {
            "text/plain": [
              "<Figure size 640x480 with 1 Axes>"
            ],
            "image/png": "[encoded data removed]"
          },
          "metadata": {}
        }
      ]
    },
    {
      "cell_type": "code",
      "source": [
        "y = lambda x : (-se.best_weights[0] * x - se.best_weights[2]) / se.best_weights[1]\n",
        "\n",
        "sns.scatterplot(x=X_test[:,0], y=X_test[:,1], hue=y_test.to_numpy())\n",
        "plt.plot([-1.5, 2.0], [y(-1.5), y(2.0)])"
      ],
      "metadata": {
        "colab": {
          "base_uri": "https://localhost:8080/",
          "height": 447
        },
        "id": "2DCyDZZYyH0N",
        "outputId": "7776a4be-fe50-493d-e44c-7076db0afee6"
      },
      "execution_count": 62,
      "outputs": [
        {
          "output_type": "execute_result",
          "data": {
            "text/plain": [
              "[<matplotlib.lines.Line2D at 0x7fe538aa9090>]"
            ]
          },
          "metadata": {},
          "execution_count": 62
        },
        {
          "output_type": "display_data",
          "data": {
            "text/plain": [
              "<Figure size 640x480 with 1 Axes>"
            ],
            "image/png": "[encoded data removed]"
          },
          "metadata": {}
        }
      ]
    },
    {
      "cell_type": "code",
      "source": [
        "from sklearn.model_selection import ShuffleSplit\n",
        "import warnings\n",
        "\n",
        "warnings.filterwarnings('ignore')\n",
        "\n",
        "rs = ShuffleSplit(n_splits=5, test_size=0.33, random_state=1)\n",
        "\n",
        "train_score = np.array([])\n",
        "test_score = np.array([])\n",
        "\n",
        "for i,(train_data, test_data)in enumerate(rs.split(df.drop(columns=['fruta']))):\n",
        "    print(f'Iteração {i+1}')\n",
        "    train_data_i = df.query(' index in @train_data')\n",
        "    X_train_i = train_data_i.drop(columns=['fruta'])\n",
        "    y_train_i = train_data_i['fruta']\n",
        "\n",
        "    test_data_i = df.query('index in @test_data')\n",
        "    X_test_i = test_data_i.drop(columns=['fruta'])\n",
        "    y_test_i = test_data_i['fruta']\n",
        "\n",
        "    X_train_i, X_test_i, y_train_i, y_test_i = X_train_i.to_numpy(), X_test_i.to_numpy(), y_train_i.to_numpy(), y_test_i.to_numpy()\n",
        "    se = Search(depth = 10000)\n",
        "\n",
        "    se.fit(X_train_i, y_train_i)\n",
        "\n",
        "    y_pred_train_i = se.predict(X_train_i)\n",
        "    y_pred_test_i = se.predict(X_test_i)\n",
        "\n",
        "    train_score_i = se.score(y_pred_train_i, y_train_i)\n",
        "    test_score_i = se.score(y_pred_test_i, y_test_i)\n",
        "\n",
        "    train_score = np.append(train_score, train_score_i)\n",
        "    test_score = np.append(test_score, test_score_i)\n",
        "\n",
        "    print(f'Precisão na base de treino: {train_score_i}')\n",
        "    print(f'Precisão na base de teste: {test_score_i}')\n",
        "\n",
        "print(f'\\nPrecisão média:\\n\\tTeste: {train_score.mean()}\\n\\tTreino: {test_score.mean()}')\n",
        "print(f'STD médio:\\n\\tTeste: {train_score.std()}\\n\\tTreino: {test_score.std()}')"
      ],
      "metadata": {
        "colab": {
          "base_uri": "https://localhost:8080/"
        },
        "id": "tb_wLntwygGb",
        "outputId": "39d18e63-9eaf-41ee-e8b3-e68a581137af"
      },
      "execution_count": 71,
      "outputs": [
        {
          "output_type": "stream",
          "name": "stdout",
          "text": [
            "Iteração 1\n",
            "Precisão na base de treino: 0.65\n",
            "Precisão na base de teste: 0.4\n",
            "Iteração 2\n",
            "Precisão na base de treino: 0.55\n",
            "Precisão na base de teste: 0.6\n",
            "Iteração 3\n",
            "Precisão na base de treino: 0.8\n",
            "Precisão na base de teste: 0.3\n",
            "Iteração 4\n",
            "Precisão na base de treino: 0.6\n",
            "Precisão na base de teste: 0.6\n",
            "Iteração 5\n",
            "Precisão na base de treino: 0.6\n",
            "Precisão na base de teste: 0.7\n",
            "\n",
            "Precisão média:\n",
            "\tTeste: 0.64\n",
            "\tTreino: 0.5199999999999999\n",
            "STD médio:\n",
            "\tTeste: 0.08602325267042628\n",
            "\tTreino: 0.14696938456699069\n"
          ]
        }
      ]
    }
  ]
}