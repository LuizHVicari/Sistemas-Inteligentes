{
  "nbformat": 4,
  "nbformat_minor": 0,
  "metadata": {
    "colab": {
      "provenance": [],
      "authorship_tag": "ABX9TyNfJd3+ZDQvuwkNuCSP7FIA",
      "include_colab_link": true
    },
    "kernelspec": {
      "name": "python3",
      "display_name": "Python 3"
    },
    "language_info": {
      "name": "python"
    }
  },
  "cells": [
    {
      "cell_type": "markdown",
      "metadata": {
        "id": "view-in-github",
        "colab_type": "text"
      },
      "source": [
        "<a href=\"https://colab.research.google.com/github/LuizHVicari/Sistemas-Inteligentes/blob/main/HW2.ipynb\" target=\"_parent\"><img src=\"https://colab.research.google.com/assets/colab-badge.svg\" alt=\"Open In Colab\"/></a>"
      ]
    },
    {
      "cell_type": "markdown",
      "source": [
        "# Trabalho 2\n",
        "Luiz Henrique Birck Vicari\n",
        "\n",
        "Sistemas Inteligentes"
      ],
      "metadata": {
        "id": "t5ZN0JRkfZfV"
      }
    },
    {
      "cell_type": "markdown",
      "source": [
        "## Importando as bibliotecas"
      ],
      "metadata": {
        "id": "9gQjGrI1fejV"
      }
    },
    {
      "cell_type": "code",
      "execution_count": null,
      "metadata": {
        "id": "OQ3qniRrYccv"
      },
      "outputs": [],
      "source": [
        "import numpy as np"
      ]
    },
    {
      "cell_type": "markdown",
      "source": [
        "## Arrays multidimensionais"
      ],
      "metadata": {
        "id": "fnIpYU3Fh64i"
      }
    },
    {
      "cell_type": "markdown",
      "source": [
        "Cria uma matriz em lista e transforma em array do np"
      ],
      "metadata": {
        "id": "-2zZBguSflOK"
      }
    },
    {
      "cell_type": "code",
      "source": [
        "lst = [[1, 2, 3], [4, 5, 6]]\n",
        "ary2d = np.array(lst)\n",
        "ary2d"
      ],
      "metadata": {
        "colab": {
          "base_uri": "https://localhost:8080/"
        },
        "id": "q7oUyS5ufviy",
        "outputId": "9b3d386d-aad8-4cd7-9b26-c9e61388d64a"
      },
      "execution_count": null,
      "outputs": [
        {
          "output_type": "execute_result",
          "data": {
            "text/plain": [
              "array([[1, 2, 3],\n",
              "       [4, 5, 6]])"
            ]
          },
          "metadata": {},
          "execution_count": 2
        }
      ]
    },
    {
      "cell_type": "markdown",
      "source": [
        "Mostra o tipo da variável"
      ],
      "metadata": {
        "id": "dbhev3HhgBrK"
      }
    },
    {
      "cell_type": "code",
      "source": [
        "ary2d.dtype"
      ],
      "metadata": {
        "colab": {
          "base_uri": "https://localhost:8080/"
        },
        "id": "fciNMzmNgDuq",
        "outputId": "4d8268af-439b-45b4-9aa3-8c4e65e6b24f"
      },
      "execution_count": null,
      "outputs": [
        {
          "output_type": "execute_result",
          "data": {
            "text/plain": [
              "dtype('int64')"
            ]
          },
          "metadata": {},
          "execution_count": 3
        }
      ]
    },
    {
      "cell_type": "markdown",
      "source": [
        "Transforma o tipo dos dados da matriz de int64 para float32"
      ],
      "metadata": {
        "id": "Xpc9LVEYgNLW"
      }
    },
    {
      "cell_type": "code",
      "source": [
        "float32_ary = ary2d.astype(np.float32)\n",
        "float32_ary, float32_ary.dtype"
      ],
      "metadata": {
        "colab": {
          "base_uri": "https://localhost:8080/"
        },
        "id": "s2tAH8XPgTLg",
        "outputId": "ae6b363b-8f26-4a04-8760-3e090e3cf756"
      },
      "execution_count": null,
      "outputs": [
        {
          "output_type": "execute_result",
          "data": {
            "text/plain": [
              "(array([[1., 2., 3.],\n",
              "        [4., 5., 6.]], dtype=float32), dtype('float32'))"
            ]
          },
          "metadata": {},
          "execution_count": 4
        }
      ]
    },
    {
      "cell_type": "markdown",
      "source": [
        "Verifica o numero de elementos no array e quantas dimensões ele tem"
      ],
      "metadata": {
        "id": "-0prYm4qgt0B"
      }
    },
    {
      "cell_type": "code",
      "source": [
        "ary2d.size, ary2d.ndim"
      ],
      "metadata": {
        "colab": {
          "base_uri": "https://localhost:8080/"
        },
        "id": "4T1tUGCzgxkQ",
        "outputId": "b1f5c44f-d498-4820-d2d0-b5915a292cdc"
      },
      "execution_count": null,
      "outputs": [
        {
          "output_type": "execute_result",
          "data": {
            "text/plain": [
              "(6, 2)"
            ]
          },
          "metadata": {},
          "execution_count": 5
        }
      ]
    },
    {
      "cell_type": "markdown",
      "source": [
        "Verifica o número de elementos em cada dimensão (quantas colunas tem cada linha e quantas linhas tem cada coluna)"
      ],
      "metadata": {
        "id": "kmdZSSnEhUsM"
      }
    },
    {
      "cell_type": "code",
      "source": [
        "ary2d.shape"
      ],
      "metadata": {
        "colab": {
          "base_uri": "https://localhost:8080/"
        },
        "id": "5K_RDqNNhl6F",
        "outputId": "6f95bbfc-18d8-459d-c4a8-c60e8ecd6351"
      },
      "execution_count": null,
      "outputs": [
        {
          "output_type": "execute_result",
          "data": {
            "text/plain": [
              "(2, 3)"
            ]
          },
          "metadata": {},
          "execution_count": 6
        }
      ]
    },
    {
      "cell_type": "markdown",
      "source": [
        "Testando com um array de apenas uma dimensão"
      ],
      "metadata": {
        "id": "JOJkiWU-hsY3"
      }
    },
    {
      "cell_type": "code",
      "source": [
        "np.array([1, 2, 3]).shape"
      ],
      "metadata": {
        "colab": {
          "base_uri": "https://localhost:8080/"
        },
        "id": "OtwZu7dDhxS6",
        "outputId": "466bbf4b-e651-4a01-9ac7-9fe8329fdb41"
      },
      "execution_count": null,
      "outputs": [
        {
          "output_type": "execute_result",
          "data": {
            "text/plain": [
              "(3,)"
            ]
          },
          "metadata": {},
          "execution_count": 7
        }
      ]
    },
    {
      "cell_type": "markdown",
      "source": [
        "## Construção de arrays"
      ],
      "metadata": {
        "id": "VPc66Livh-vu"
      }
    },
    {
      "cell_type": "markdown",
      "source": [
        "Construindo um array 3x3 de com apenas 1 e com apenas 0"
      ],
      "metadata": {
        "id": "k051uBz4iFs8"
      }
    },
    {
      "cell_type": "code",
      "source": [
        "np.ones((3, 3))"
      ],
      "metadata": {
        "colab": {
          "base_uri": "https://localhost:8080/"
        },
        "id": "9OpsbO2eiB6d",
        "outputId": "f136164a-a504-4eeb-8bc9-9a76a9ff78df"
      },
      "execution_count": null,
      "outputs": [
        {
          "output_type": "execute_result",
          "data": {
            "text/plain": [
              "array([[1., 1., 1.],\n",
              "       [1., 1., 1.],\n",
              "       [1., 1., 1.]])"
            ]
          },
          "metadata": {},
          "execution_count": 8
        }
      ]
    },
    {
      "cell_type": "code",
      "source": [
        "np.zeros((3, 3))"
      ],
      "metadata": {
        "colab": {
          "base_uri": "https://localhost:8080/"
        },
        "id": "3Twv4aVqiTlF",
        "outputId": "ba23bcb9-663b-4846-c14b-dcec39592770"
      },
      "execution_count": null,
      "outputs": [
        {
          "output_type": "execute_result",
          "data": {
            "text/plain": [
              "array([[0., 0., 0.],\n",
              "       [0., 0., 0.],\n",
              "       [0., 0., 0.]])"
            ]
          },
          "metadata": {},
          "execution_count": 9
        }
      ]
    },
    {
      "cell_type": "markdown",
      "source": [
        "Matriz identidade 3x3"
      ],
      "metadata": {
        "id": "7Zj3T_PwiWA8"
      }
    },
    {
      "cell_type": "code",
      "source": [
        "np.eye(3)"
      ],
      "metadata": {
        "colab": {
          "base_uri": "https://localhost:8080/"
        },
        "id": "uYtaITtxibb1",
        "outputId": "4930109b-c8aa-46f5-d3d7-08d74be43bd1"
      },
      "execution_count": null,
      "outputs": [
        {
          "output_type": "execute_result",
          "data": {
            "text/plain": [
              "array([[1., 0., 0.],\n",
              "       [0., 1., 0.],\n",
              "       [0., 0., 1.]])"
            ]
          },
          "metadata": {},
          "execution_count": 10
        }
      ]
    },
    {
      "cell_type": "markdown",
      "source": [
        "Matriz diagonal 3x3 com a diagonal principal preenchida por 3\n",
        "Os valores da tupla representam os valores inseridos na diagonal principal"
      ],
      "metadata": {
        "id": "w8T0Ld0gioIn"
      }
    },
    {
      "cell_type": "code",
      "source": [
        "np.diag((3, 3, 3))"
      ],
      "metadata": {
        "colab": {
          "base_uri": "https://localhost:8080/"
        },
        "id": "ySTw0G7BisuH",
        "outputId": "1e47df91-aa7d-4788-8375-b1e67745ef8f"
      },
      "execution_count": null,
      "outputs": [
        {
          "output_type": "execute_result",
          "data": {
            "text/plain": [
              "array([[3, 0, 0],\n",
              "       [0, 3, 0],\n",
              "       [0, 0, 3]])"
            ]
          },
          "metadata": {},
          "execution_count": 11
        }
      ]
    },
    {
      "cell_type": "markdown",
      "source": [
        "O método arange cria uma lista de valores em um intervalo, é possível especificar o salto do array com um terceiro parâmetro, e o formato dos números por como eles são passados para o método. Se for inserido apenas um valor, criará um array que começa em 0 e acaba antes desse valor. O último valor inserido não aparece no array"
      ],
      "metadata": {
        "id": "JR5DlRtSi6Y4"
      }
    },
    {
      "cell_type": "code",
      "source": [
        "np.arange(4., 10.)"
      ],
      "metadata": {
        "colab": {
          "base_uri": "https://localhost:8080/"
        },
        "id": "vNhj2oEDjeFJ",
        "outputId": "0725ebf7-1581-4dfd-d96f-b47670740b0d"
      },
      "execution_count": null,
      "outputs": [
        {
          "output_type": "execute_result",
          "data": {
            "text/plain": [
              "array([4., 5., 6., 7., 8., 9.])"
            ]
          },
          "metadata": {},
          "execution_count": 12
        }
      ]
    },
    {
      "cell_type": "code",
      "source": [
        "np.arange(5)"
      ],
      "metadata": {
        "colab": {
          "base_uri": "https://localhost:8080/"
        },
        "id": "zG5Bp6LCjz-i",
        "outputId": "6e7fc32d-b56b-4d00-ca7b-602eeba22c88"
      },
      "execution_count": null,
      "outputs": [
        {
          "output_type": "execute_result",
          "data": {
            "text/plain": [
              "array([0, 1, 2, 3, 4])"
            ]
          },
          "metadata": {},
          "execution_count": 13
        }
      ]
    },
    {
      "cell_type": "code",
      "source": [
        "np.arange(1., 11., 2)"
      ],
      "metadata": {
        "colab": {
          "base_uri": "https://localhost:8080/"
        },
        "id": "SyEgPH07kf2p",
        "outputId": "ec330eba-a0ca-4ccf-dea7-97d4331df5fb"
      },
      "execution_count": null,
      "outputs": [
        {
          "output_type": "execute_result",
          "data": {
            "text/plain": [
              "array([1., 3., 5., 7., 9.])"
            ]
          },
          "metadata": {},
          "execution_count": 14
        }
      ]
    },
    {
      "cell_type": "markdown",
      "source": [
        "A funcão linspace cria um array entre dois números (ambos inclusivos) com um determinado número de elementos (o qual é usado para determinar o salto)"
      ],
      "metadata": {
        "id": "302iPdvzlGog"
      }
    },
    {
      "cell_type": "code",
      "source": [
        "np.linspace(0., 1., num=5)"
      ],
      "metadata": {
        "colab": {
          "base_uri": "https://localhost:8080/"
        },
        "id": "SvO_53e0lYC7",
        "outputId": "0f09ced6-bf0d-48fc-cf0c-f6ce497eb58e"
      },
      "execution_count": null,
      "outputs": [
        {
          "output_type": "execute_result",
          "data": {
            "text/plain": [
              "array([0.  , 0.25, 0.5 , 0.75, 1.  ])"
            ]
          },
          "metadata": {},
          "execution_count": 15
        }
      ]
    },
    {
      "cell_type": "markdown",
      "source": [
        "## Acesso aos elementos do array"
      ],
      "metadata": {
        "id": "tF7ReZC8l1Qe"
      }
    },
    {
      "cell_type": "markdown",
      "source": [
        "Para acessar elementos do array, é como em listas normais do Python, entre colchetes acessa o número, : seleciona o intervalo e números negativos contam do final da lista"
      ],
      "metadata": {
        "id": "0vfEylzJl5rZ"
      }
    },
    {
      "cell_type": "code",
      "source": [
        "ary = np.array([1, 2, 3])\n",
        "ary[0], ary[:2], ary[-1]"
      ],
      "metadata": {
        "colab": {
          "base_uri": "https://localhost:8080/"
        },
        "id": "-W_3K0l-lrtr",
        "outputId": "58da8e1d-c4b6-4115-f4be-7eace537a87f"
      },
      "execution_count": null,
      "outputs": [
        {
          "output_type": "execute_result",
          "data": {
            "text/plain": [
              "(1, array([1, 2]), 3)"
            ]
          },
          "metadata": {},
          "execution_count": 16
        }
      ]
    },
    {
      "cell_type": "markdown",
      "source": [
        "Em matrizes, também funciona da mesma forma que no Python, porém é possível acessar também uma coluna inteira"
      ],
      "metadata": {
        "id": "qqrcoY_mmMRy"
      }
    },
    {
      "cell_type": "code",
      "source": [
        "ary = np.array([[1, 2, 3], [4, 5, 6]])\n",
        "# Acessa o elemento superior da esquerda do array\n",
        "ary[0, 0]"
      ],
      "metadata": {
        "colab": {
          "base_uri": "https://localhost:8080/"
        },
        "id": "Y2T3j1wbmV0V",
        "outputId": "8e11520c-5b2c-4a2f-b470-946bddb7744e"
      },
      "execution_count": null,
      "outputs": [
        {
          "output_type": "execute_result",
          "data": {
            "text/plain": [
              "1"
            ]
          },
          "metadata": {},
          "execution_count": 17
        }
      ]
    },
    {
      "cell_type": "code",
      "source": [
        "# acessa o elemento da direita inferior\n",
        "ary[-1, -1]"
      ],
      "metadata": {
        "colab": {
          "base_uri": "https://localhost:8080/"
        },
        "id": "lALaQ9UKmtpt",
        "outputId": "bd198ee0-9f88-447a-f562-36ca70d448d2"
      },
      "execution_count": null,
      "outputs": [
        {
          "output_type": "execute_result",
          "data": {
            "text/plain": [
              "6"
            ]
          },
          "metadata": {},
          "execution_count": 18
        }
      ]
    },
    {
      "cell_type": "code",
      "source": [
        "# acessa a primeira linha, segunda coluna\n",
        "ary[0, 1]"
      ],
      "metadata": {
        "colab": {
          "base_uri": "https://localhost:8080/"
        },
        "id": "_6lhfdz2mw6_",
        "outputId": "38c3897b-0c52-4fdb-aa69-d8c544a073e4"
      },
      "execution_count": null,
      "outputs": [
        {
          "output_type": "execute_result",
          "data": {
            "text/plain": [
              "2"
            ]
          },
          "metadata": {},
          "execution_count": 19
        }
      ]
    },
    {
      "cell_type": "code",
      "source": [
        "# acessa a primeira linha\n",
        "ary[0]"
      ],
      "metadata": {
        "colab": {
          "base_uri": "https://localhost:8080/"
        },
        "id": "cmT3tGsNnIu1",
        "outputId": "42dfd57e-d155-4bab-bbc7-620878130544"
      },
      "execution_count": null,
      "outputs": [
        {
          "output_type": "execute_result",
          "data": {
            "text/plain": [
              "array([1, 2, 3])"
            ]
          },
          "metadata": {},
          "execution_count": 20
        }
      ]
    },
    {
      "cell_type": "code",
      "source": [
        "# acessa a primeira coluna\n",
        "ary[:, 0]"
      ],
      "metadata": {
        "colab": {
          "base_uri": "https://localhost:8080/"
        },
        "id": "2Cr2nnOEnM5G",
        "outputId": "e0cdc3bb-1d6e-4fbc-9874-14f94229af6a"
      },
      "execution_count": null,
      "outputs": [
        {
          "output_type": "execute_result",
          "data": {
            "text/plain": [
              "array([1, 4])"
            ]
          },
          "metadata": {},
          "execution_count": 21
        }
      ]
    },
    {
      "cell_type": "code",
      "source": [
        "# acessa as duas pmeiras colunas\n",
        "ary[:, :2]"
      ],
      "metadata": {
        "colab": {
          "base_uri": "https://localhost:8080/"
        },
        "id": "F2B3tQ-knm3D",
        "outputId": "17c6be14-0a61-4df1-86d5-cdd3e3af7324"
      },
      "execution_count": null,
      "outputs": [
        {
          "output_type": "execute_result",
          "data": {
            "text/plain": [
              "array([[1, 2],\n",
              "       [4, 5]])"
            ]
          },
          "metadata": {},
          "execution_count": 22
        }
      ]
    },
    {
      "cell_type": "markdown",
      "source": [
        "## Operações matemáticas em arrays e funções universais"
      ],
      "metadata": {
        "id": "5Tc4dO5tn_D9"
      }
    },
    {
      "cell_type": "markdown",
      "source": [
        "Soma 1 em cada valor do array"
      ],
      "metadata": {
        "id": "oPgA7G1ZpQYw"
      }
    },
    {
      "cell_type": "code",
      "source": [
        "lst = [[1, 2, 3], [4, 5, 6]]\n",
        "\n",
        "for row_idx, row_val in enumerate(lst):\n",
        "    for col_idx, col_val in enumerate(row_val):\n",
        "        lst[row_idx][col_idx] += 1\n",
        "\n",
        "lst"
      ],
      "metadata": {
        "colab": {
          "base_uri": "https://localhost:8080/"
        },
        "id": "iLxceveepVis",
        "outputId": "34074373-1fc7-4621-b311-1df82f386aae"
      },
      "execution_count": null,
      "outputs": [
        {
          "output_type": "execute_result",
          "data": {
            "text/plain": [
              "[[2, 3, 4], [5, 6, 7]]"
            ]
          },
          "metadata": {},
          "execution_count": 23
        }
      ]
    },
    {
      "cell_type": "markdown",
      "source": [
        "Utilizando list comprehension"
      ],
      "metadata": {
        "id": "nbEYEWTeslM7"
      }
    },
    {
      "cell_type": "code",
      "source": [
        "lst = [[1, 2, 3], [4, 5, 6]]\n",
        "[[cell + 1 for cell in row] for row in lst]"
      ],
      "metadata": {
        "colab": {
          "base_uri": "https://localhost:8080/"
        },
        "id": "mHam6SPyspvl",
        "outputId": "e52e6c13-5c6f-4399-f90d-439af5653301"
      },
      "execution_count": null,
      "outputs": [
        {
          "output_type": "execute_result",
          "data": {
            "text/plain": [
              "[[2, 3, 4], [5, 6, 7]]"
            ]
          },
          "metadata": {},
          "execution_count": 24
        }
      ]
    },
    {
      "cell_type": "markdown",
      "source": [
        "Utilizando o numpy"
      ],
      "metadata": {
        "id": "hk64cz4Ks0QM"
      }
    },
    {
      "cell_type": "code",
      "source": [
        "ary = np.array([[1, 2, 3], [4, 5, 6]])\n",
        "ary = np.add(ary, 1)\n",
        "ary"
      ],
      "metadata": {
        "colab": {
          "base_uri": "https://localhost:8080/"
        },
        "id": "u3iG2Onas22m",
        "outputId": "246befd3-cea9-444c-af8d-ef90b9ee6764"
      },
      "execution_count": null,
      "outputs": [
        {
          "output_type": "execute_result",
          "data": {
            "text/plain": [
              "array([[2, 3, 4],\n",
              "       [5, 6, 7]])"
            ]
          },
          "metadata": {},
          "execution_count": 25
        }
      ]
    },
    {
      "cell_type": "markdown",
      "source": [
        "Com sobrecarga de operador pelo numpy"
      ],
      "metadata": {
        "id": "8wW9Wtd1tCnF"
      }
    },
    {
      "cell_type": "code",
      "source": [
        "ary + 1"
      ],
      "metadata": {
        "colab": {
          "base_uri": "https://localhost:8080/"
        },
        "id": "hGgCOHgMtFpR",
        "outputId": "39de82d2-7bcd-4f1a-bb87-348a8782786c"
      },
      "execution_count": null,
      "outputs": [
        {
          "output_type": "execute_result",
          "data": {
            "text/plain": [
              "array([[3, 4, 5],\n",
              "       [6, 7, 8]])"
            ]
          },
          "metadata": {},
          "execution_count": 26
        }
      ]
    },
    {
      "cell_type": "markdown",
      "source": [
        "Fazendo a potência de 2 com sobrecarga de operadores"
      ],
      "metadata": {
        "id": "CPDAphfctVHc"
      }
    },
    {
      "cell_type": "code",
      "source": [
        "ary ** 2"
      ],
      "metadata": {
        "id": "al037sYKtcCC",
        "outputId": "1c80bcbc-93c8-44c4-bb9a-a0dca4b02412",
        "colab": {
          "base_uri": "https://localhost:8080/"
        }
      },
      "execution_count": null,
      "outputs": [
        {
          "output_type": "execute_result",
          "data": {
            "text/plain": [
              "array([[ 4,  9, 16],\n",
              "       [25, 36, 49]])"
            ]
          },
          "metadata": {},
          "execution_count": 27
        }
      ]
    },
    {
      "cell_type": "markdown",
      "source": [
        "O método reduce executa a operação que o chamou no array, nesse caso, somamos os valores nas colunas do array (os valores são diferentes pois o array foi alterado na célula 25)"
      ],
      "metadata": {
        "id": "5j-aYeTDUTfv"
      }
    },
    {
      "cell_type": "code",
      "source": [
        "np.add.reduce(ary)"
      ],
      "metadata": {
        "colab": {
          "base_uri": "https://localhost:8080/"
        },
        "id": "LV4_fbyZUKB2",
        "outputId": "1f2ee07c-7c96-4940-981d-824fe6f19376"
      },
      "execution_count": null,
      "outputs": [
        {
          "output_type": "execute_result",
          "data": {
            "text/plain": [
              "array([ 7,  9, 11])"
            ]
          },
          "metadata": {},
          "execution_count": 28
        }
      ]
    },
    {
      "cell_type": "markdown",
      "source": [
        "Para calcular a soma das linhas, basta deixar explícito o eixo 1"
      ],
      "metadata": {
        "id": "UXGW8rgFUl51"
      }
    },
    {
      "cell_type": "code",
      "source": [
        "np.add.reduce(ary, axis=1)"
      ],
      "metadata": {
        "colab": {
          "base_uri": "https://localhost:8080/"
        },
        "id": "QEOrdS3zUs7i",
        "outputId": "cdd9f02c-fda9-41e9-ca30-4dcdbf35044e"
      },
      "execution_count": null,
      "outputs": [
        {
          "output_type": "execute_result",
          "data": {
            "text/plain": [
              "array([ 9, 18])"
            ]
          },
          "metadata": {},
          "execution_count": 29
        }
      ]
    },
    {
      "cell_type": "markdown",
      "source": [
        "Também é possível somar os valores o array com o método sum e exlpicitando o eixo desejado"
      ],
      "metadata": {
        "id": "AB4_Gtu2U_7i"
      }
    },
    {
      "cell_type": "code",
      "source": [
        "ary.sum(axis=0)"
      ],
      "metadata": {
        "colab": {
          "base_uri": "https://localhost:8080/"
        },
        "id": "f8nvT-sfU73-",
        "outputId": "ca4f740b-1673-48fb-b970-032870774bcf"
      },
      "execution_count": null,
      "outputs": [
        {
          "output_type": "execute_result",
          "data": {
            "text/plain": [
              "array([ 7,  9, 11])"
            ]
          },
          "metadata": {},
          "execution_count": 30
        }
      ]
    },
    {
      "cell_type": "markdown",
      "source": [
        "Se o eixo não estiver explicito, o método sum faz a soma de todos os valores do array"
      ],
      "metadata": {
        "id": "rc0aOtF8VLZ1"
      }
    },
    {
      "cell_type": "code",
      "source": [
        "ary.sum()"
      ],
      "metadata": {
        "colab": {
          "base_uri": "https://localhost:8080/"
        },
        "id": "8piKyF25VQwB",
        "outputId": "26ee0779-3674-4dff-c373-eb703d92d160"
      },
      "execution_count": null,
      "outputs": [
        {
          "output_type": "execute_result",
          "data": {
            "text/plain": [
              "27"
            ]
          },
          "metadata": {},
          "execution_count": 31
        }
      ]
    },
    {
      "cell_type": "markdown",
      "source": [
        "A soma dos valores de dois arrays é feita com a sobrecarga do operador +"
      ],
      "metadata": {
        "id": "kdT_yAIpVemG"
      }
    },
    {
      "cell_type": "code",
      "source": [
        "ary1 = np.array([1, 2, 3])\n",
        "ary2 = np.array([4, 5, 6])\n",
        "\n",
        "ary1 + ary2"
      ],
      "metadata": {
        "colab": {
          "base_uri": "https://localhost:8080/"
        },
        "id": "uXtWvtUvVkQu",
        "outputId": "65ec51b5-53a5-4bbf-bc82-5dd450f47e9a"
      },
      "execution_count": null,
      "outputs": [
        {
          "output_type": "execute_result",
          "data": {
            "text/plain": [
              "array([5, 7, 9])"
            ]
          },
          "metadata": {},
          "execution_count": 32
        }
      ]
    },
    {
      "cell_type": "markdown",
      "source": [
        "Se for feito uma operação arrays de diferentes dimensões, o numpy faz de forma implícita o array de menor dimensão com mais dimensões"
      ],
      "metadata": {
        "id": "WnkHw4tCVr1v"
      }
    },
    {
      "cell_type": "code",
      "source": [
        "ary3 = np.array(\n",
        "    [[4, 5, 6],\n",
        "     [7, 8, 9]]\n",
        ")\n",
        "\n",
        "ary3 + ary1"
      ],
      "metadata": {
        "colab": {
          "base_uri": "https://localhost:8080/"
        },
        "id": "1VWDUK7PV6Kl",
        "outputId": "0f256f80-ce86-41eb-959d-c38d84ac3ac1"
      },
      "execution_count": null,
      "outputs": [
        {
          "output_type": "execute_result",
          "data": {
            "text/plain": [
              "array([[ 5,  7,  9],\n",
              "       [ 8, 10, 12]])"
            ]
          },
          "metadata": {},
          "execution_count": 33
        }
      ]
    },
    {
      "cell_type": "markdown",
      "source": [
        "A atribuição de partes do array em outras variáveis é feita por apontamento na memória, não por cópia, portanto ao atribuir a uma variável uma parte de um array, as operações na nova variável serão vistas no array original"
      ],
      "metadata": {
        "id": "ueSOxIQiWQjz"
      }
    },
    {
      "cell_type": "code",
      "source": [
        "ary = np.array(\n",
        "    [[1, 2, 3],\n",
        "     [4, 5, 6]]\n",
        ")\n",
        "\n",
        "first_row = ary[0]\n",
        "first_row += 99\n",
        "ary"
      ],
      "metadata": {
        "colab": {
          "base_uri": "https://localhost:8080/"
        },
        "id": "_uvmIFttWljV",
        "outputId": "458b695d-dd8e-47bf-c979-35b826473cd8"
      },
      "execution_count": null,
      "outputs": [
        {
          "output_type": "execute_result",
          "data": {
            "text/plain": [
              "array([[100, 101, 102],\n",
              "       [  4,   5,   6]])"
            ]
          },
          "metadata": {},
          "execution_count": 34
        }
      ]
    },
    {
      "cell_type": "markdown",
      "source": [
        "O mesmo acontece com fatias do array"
      ],
      "metadata": {
        "id": "QLSsmFz8W4Hy"
      }
    },
    {
      "cell_type": "code",
      "source": [
        "ary = np.array(\n",
        "    [[1, 2, 3],\n",
        "     [4, 5, 6]]\n",
        ")\n",
        "\n",
        "first_row = ary[:1]\n",
        "first_row += 99\n",
        "ary"
      ],
      "metadata": {
        "colab": {
          "base_uri": "https://localhost:8080/"
        },
        "id": "i2EGqD7iW6Ib",
        "outputId": "3f10c7a1-9ac4-4896-c2c2-da2fa025c648"
      },
      "execution_count": null,
      "outputs": [
        {
          "output_type": "execute_result",
          "data": {
            "text/plain": [
              "array([[100, 101, 102],\n",
              "       [  4,   5,   6]])"
            ]
          },
          "metadata": {},
          "execution_count": 35
        }
      ]
    },
    {
      "cell_type": "code",
      "source": [
        "ary = np.array(\n",
        "    [[1, 2, 3],\n",
        "     [4, 5, 6]]\n",
        ")\n",
        "\n",
        "center_col = ary[:, 1]\n",
        "center_col += 99\n",
        "ary"
      ],
      "metadata": {
        "colab": {
          "base_uri": "https://localhost:8080/"
        },
        "id": "ZBjQMezNW-lT",
        "outputId": "3fe9ef90-7144-4b47-83ae-1db91028a75b"
      },
      "execution_count": null,
      "outputs": [
        {
          "output_type": "execute_result",
          "data": {
            "text/plain": [
              "array([[  1, 101,   3],\n",
              "       [  4, 104,   6]])"
            ]
          },
          "metadata": {},
          "execution_count": 36
        }
      ]
    },
    {
      "cell_type": "markdown",
      "source": [
        "Para previnir isso, usamos o método copy"
      ],
      "metadata": {
        "id": "ctB1KZiTXKq4"
      }
    },
    {
      "cell_type": "code",
      "source": [
        "ary = np.array(\n",
        "    [[1, 2, 3],\n",
        "     [4, 5, 6]]\n",
        ")\n",
        "second_row = ary[1].copy()\n",
        "second_row += 99\n",
        "ary"
      ],
      "metadata": {
        "colab": {
          "base_uri": "https://localhost:8080/"
        },
        "id": "cjMFQ1_jXITe",
        "outputId": "00f6bd10-ef3e-4362-c92e-e355123777b8"
      },
      "execution_count": null,
      "outputs": [
        {
          "output_type": "execute_result",
          "data": {
            "text/plain": [
              "array([[1, 2, 3],\n",
              "       [4, 5, 6]])"
            ]
          },
          "metadata": {},
          "execution_count": 37
        }
      ]
    },
    {
      "cell_type": "markdown",
      "source": [
        "É possível acessar partes decontínuas do array, com uma forma chamada \"fancy indexing\", essa forma sempre retorna uma cópia dos elementos do array, portanto as alterações feitas não refletem no array original"
      ],
      "metadata": {
        "id": "F_pmSeHgXbCV"
      }
    },
    {
      "cell_type": "code",
      "source": [
        "ary = np.array(\n",
        "    [[1, 2, 3],\n",
        "     [4, 5, 6]]\n",
        ")\n",
        "ary[:, [0, 2]]"
      ],
      "metadata": {
        "colab": {
          "base_uri": "https://localhost:8080/"
        },
        "id": "leiONC_LXtbS",
        "outputId": "46c2d6a0-ac54-40b3-8974-abcbf880d1cb"
      },
      "execution_count": null,
      "outputs": [
        {
          "output_type": "execute_result",
          "data": {
            "text/plain": [
              "array([[1, 3],\n",
              "       [4, 6]])"
            ]
          },
          "metadata": {},
          "execution_count": 38
        }
      ]
    },
    {
      "cell_type": "code",
      "source": [
        "this_is_a_copy = ary[:, [0, 2]]\n",
        "this_is_a_copy+= 99\n",
        "ary"
      ],
      "metadata": {
        "colab": {
          "base_uri": "https://localhost:8080/"
        },
        "id": "J0nKE-I8X1Pp",
        "outputId": "bf5ac865-18a8-45dd-c548-30e702ef947b"
      },
      "execution_count": null,
      "outputs": [
        {
          "output_type": "execute_result",
          "data": {
            "text/plain": [
              "array([[1, 2, 3],\n",
              "       [4, 5, 6]])"
            ]
          },
          "metadata": {},
          "execution_count": 39
        }
      ]
    },
    {
      "cell_type": "code",
      "source": [
        "ary[:, [2, 0]]"
      ],
      "metadata": {
        "colab": {
          "base_uri": "https://localhost:8080/"
        },
        "id": "XCS5UhaAX_zA",
        "outputId": "442b4b5c-90b0-4210-bccb-95baaeeb3baa"
      },
      "execution_count": null,
      "outputs": [
        {
          "output_type": "execute_result",
          "data": {
            "text/plain": [
              "array([[3, 1],\n",
              "       [6, 4]])"
            ]
          },
          "metadata": {},
          "execution_count": 40
        }
      ]
    },
    {
      "cell_type": "markdown",
      "source": [
        "É possível obter um array de booleanos a partir de uma expressão lógica com um array, também, é possível usar o array de booleanos para indexar elementos de um array numérico"
      ],
      "metadata": {
        "id": "k890v4ZmYFGQ"
      }
    },
    {
      "cell_type": "code",
      "source": [
        "greater3_mask = ary > 3\n",
        "greater3_mask"
      ],
      "metadata": {
        "colab": {
          "base_uri": "https://localhost:8080/"
        },
        "id": "CRXou17xYSsT",
        "outputId": "6669dc14-122d-430d-de40-6febace6fe3a"
      },
      "execution_count": null,
      "outputs": [
        {
          "output_type": "execute_result",
          "data": {
            "text/plain": [
              "array([[False, False, False],\n",
              "       [ True,  True,  True]])"
            ]
          },
          "metadata": {},
          "execution_count": 41
        }
      ]
    },
    {
      "cell_type": "code",
      "source": [
        "ary[greater3_mask]"
      ],
      "metadata": {
        "colab": {
          "base_uri": "https://localhost:8080/"
        },
        "id": "-4mibRANYYe9",
        "outputId": "48e4307e-e0ed-4c74-c9fb-5bf2060b5cb0"
      },
      "execution_count": null,
      "outputs": [
        {
          "output_type": "execute_result",
          "data": {
            "text/plain": [
              "array([4, 5, 6])"
            ]
          },
          "metadata": {},
          "execution_count": 42
        }
      ]
    },
    {
      "cell_type": "markdown",
      "source": [
        "É possível \"enriquecer\" as expressões lógicas com os operadores & ou |"
      ],
      "metadata": {
        "id": "a3oHSmrLYdIU"
      }
    },
    {
      "cell_type": "code",
      "source": [
        "ary[(ary > 3) & (ary % 2 == 0)]"
      ],
      "metadata": {
        "colab": {
          "base_uri": "https://localhost:8080/"
        },
        "id": "e14na1eeYjKm",
        "outputId": "ea5abc78-9717-4d0c-e481-4c2386a71697"
      },
      "execution_count": null,
      "outputs": [
        {
          "output_type": "execute_result",
          "data": {
            "text/plain": [
              "array([4, 6])"
            ]
          },
          "metadata": {},
          "execution_count": 43
        }
      ]
    },
    {
      "cell_type": "markdown",
      "source": [
        "## Números aleatórios"
      ],
      "metadata": {
        "id": "lchVIayfYzS2"
      }
    },
    {
      "cell_type": "markdown",
      "source": [
        "O método random.seed() garante que números aleatórios gerados com uma seed definida serão sempre os mesmos, independentemente da máquina"
      ],
      "metadata": {
        "id": "VRPEjgwrZeTr"
      }
    },
    {
      "cell_type": "code",
      "source": [
        "np.random.seed(123)"
      ],
      "metadata": {
        "id": "CqltnlpUY2CK"
      },
      "execution_count": null,
      "outputs": []
    },
    {
      "cell_type": "markdown",
      "source": [
        "O método random.rand() cria um array de números aleatórios, com o tamanho do array definido na chamada do método"
      ],
      "metadata": {
        "id": "kcSd479BZtzW"
      }
    },
    {
      "cell_type": "code",
      "source": [
        "np.random.rand(3)"
      ],
      "metadata": {
        "colab": {
          "base_uri": "https://localhost:8080/"
        },
        "id": "htJFMXGqZrZF",
        "outputId": "377d8709-7e47-4b84-b5ad-f2b6eee6bbb0"
      },
      "execution_count": null,
      "outputs": [
        {
          "output_type": "execute_result",
          "data": {
            "text/plain": [
              "array([0.69646919, 0.28613933, 0.22685145])"
            ]
          },
          "metadata": {},
          "execution_count": 45
        }
      ]
    },
    {
      "cell_type": "markdown",
      "source": [
        "É interessante instanciar objetos do tipo RandomState para não ser necessário redefinir a seed em todas as células de um notebook"
      ],
      "metadata": {
        "id": "EhwR3oILaJD2"
      }
    },
    {
      "cell_type": "code",
      "source": [
        "rng1 = np.random.RandomState(seed=123)\n",
        "rng1.rand(3)"
      ],
      "metadata": {
        "colab": {
          "base_uri": "https://localhost:8080/"
        },
        "id": "gmGrgDc7aTPg",
        "outputId": "57463f6c-24af-468e-82c7-05de7eb655cd"
      },
      "execution_count": null,
      "outputs": [
        {
          "output_type": "execute_result",
          "data": {
            "text/plain": [
              "array([0.69646919, 0.28613933, 0.22685145])"
            ]
          },
          "metadata": {},
          "execution_count": 46
        }
      ]
    },
    {
      "cell_type": "markdown",
      "source": [
        "## Redimensionando arrays"
      ],
      "metadata": {
        "id": "uDg1xWTracmc"
      }
    },
    {
      "cell_type": "markdown",
      "source": [
        "O método reshape() redimensiona um array, usando o número de linhas e colunas explicitados no método, se for explicito -1, ele calcula autmaticamente o número necessário, se for passado apenas o parâmetro -1, ele deixa o array inteiro com apenas uma linha"
      ],
      "metadata": {
        "id": "vbDnUJIxcld1"
      }
    },
    {
      "cell_type": "markdown",
      "source": [],
      "metadata": {
        "id": "jdWT0hvOcfH-"
      }
    },
    {
      "cell_type": "code",
      "source": [
        "ary1d = np.array([1, 2, 3, 4, 5, 6])\n",
        "ary2d = ary1d.reshape(2, 3)\n",
        "ary2d"
      ],
      "metadata": {
        "colab": {
          "base_uri": "https://localhost:8080/"
        },
        "id": "RuR7foyRagBR",
        "outputId": "1e1add06-19a2-451e-ab9c-697017c8a7fa"
      },
      "execution_count": null,
      "outputs": [
        {
          "output_type": "execute_result",
          "data": {
            "text/plain": [
              "array([[1, 2, 3],\n",
              "       [4, 5, 6]])"
            ]
          },
          "metadata": {},
          "execution_count": 47
        }
      ]
    },
    {
      "cell_type": "markdown",
      "source": [
        "O método may_share_memory indica se há a possiblidade de dois arrays utilizarem o mesmo espaço de memória, não significa que necessáriamente eles compartilham memória"
      ],
      "metadata": {
        "id": "tS15tDhodB6P"
      }
    },
    {
      "cell_type": "code",
      "source": [
        "np.may_share_memory(ary1d, ary2d)"
      ],
      "metadata": {
        "colab": {
          "base_uri": "https://localhost:8080/"
        },
        "id": "sg9VfqPBdBbi",
        "outputId": "c37a86d5-13aa-40e2-bdb9-ace6d1117199"
      },
      "execution_count": null,
      "outputs": [
        {
          "output_type": "execute_result",
          "data": {
            "text/plain": [
              "True"
            ]
          },
          "metadata": {},
          "execution_count": 48
        }
      ]
    },
    {
      "cell_type": "code",
      "source": [
        "# transformando em array de 2 linhas, com o número de colunas calculado pelo numpy\n",
        "ary1d.reshape(2, -1)"
      ],
      "metadata": {
        "colab": {
          "base_uri": "https://localhost:8080/"
        },
        "id": "1mfix-I6c_6a",
        "outputId": "f5160f1b-6f42-4723-8f59-3041dbd3a5e0"
      },
      "execution_count": null,
      "outputs": [
        {
          "output_type": "execute_result",
          "data": {
            "text/plain": [
              "array([[1, 2, 3],\n",
              "       [4, 5, 6]])"
            ]
          },
          "metadata": {},
          "execution_count": 49
        }
      ]
    },
    {
      "cell_type": "code",
      "source": [
        "# transformando em um array de 2 colunas, com o número de linhas calculado pelo numpy\n",
        "ary1d.reshape(-1, 2)"
      ],
      "metadata": {
        "colab": {
          "base_uri": "https://localhost:8080/"
        },
        "id": "WK64gIUadaHq",
        "outputId": "00295b5c-c611-4104-bc3e-8f13140870b8"
      },
      "execution_count": null,
      "outputs": [
        {
          "output_type": "execute_result",
          "data": {
            "text/plain": [
              "array([[1, 2],\n",
              "       [3, 4],\n",
              "       [5, 6]])"
            ]
          },
          "metadata": {},
          "execution_count": 50
        }
      ]
    },
    {
      "cell_type": "code",
      "source": [
        "# transofrmando um array multidimensional em um array de 1 dimensão\n",
        "ary = np.array(\n",
        "    [[1, 2, 3],\n",
        "     [4, 5, 6]]\n",
        ")\n",
        "ary.reshape(-1)"
      ],
      "metadata": {
        "colab": {
          "base_uri": "https://localhost:8080/"
        },
        "id": "SXBa52yJdgz-",
        "outputId": "421b5a69-2a38-43c5-bba4-c6c1a0b1aabf"
      },
      "execution_count": null,
      "outputs": [
        {
          "output_type": "execute_result",
          "data": {
            "text/plain": [
              "array([1, 2, 3, 4, 5, 6])"
            ]
          },
          "metadata": {},
          "execution_count": 51
        }
      ]
    },
    {
      "cell_type": "markdown",
      "source": [
        "O método concatenate junta dois arrays. É importante notar que combinar arrays deve ser evitado se necessário, pois é computacionalmente complexo. "
      ],
      "metadata": {
        "id": "N0qZIYyKdylY"
      }
    },
    {
      "cell_type": "code",
      "source": [
        "ary = np.array([1, 2, 3])\n",
        "np.concatenate((ary, ary))"
      ],
      "metadata": {
        "colab": {
          "base_uri": "https://localhost:8080/"
        },
        "id": "zOLDOURod9hY",
        "outputId": "99825f3d-f478-4874-9613-16a827fc27dc"
      },
      "execution_count": null,
      "outputs": [
        {
          "output_type": "execute_result",
          "data": {
            "text/plain": [
              "array([1, 2, 3, 1, 2, 3])"
            ]
          },
          "metadata": {},
          "execution_count": 52
        }
      ]
    },
    {
      "cell_type": "markdown",
      "source": [
        "Com arrays de mais de uma dimensão, para concatenar em diferentes linhas, explicitamos o eixo como 0"
      ],
      "metadata": {
        "id": "2DBLFkhYeFaF"
      }
    },
    {
      "cell_type": "code",
      "source": [
        "ary = np.array([[1, 2, 3]])\n",
        "np.concatenate((ary, ary), axis=0)"
      ],
      "metadata": {
        "colab": {
          "base_uri": "https://localhost:8080/"
        },
        "id": "MrLJf7E0eKzO",
        "outputId": "15e07c41-fa5e-4f7a-e049-2e9f7e92a772"
      },
      "execution_count": null,
      "outputs": [
        {
          "output_type": "execute_result",
          "data": {
            "text/plain": [
              "array([[1, 2, 3],\n",
              "       [1, 2, 3]])"
            ]
          },
          "metadata": {},
          "execution_count": 53
        }
      ]
    },
    {
      "cell_type": "markdown",
      "source": [
        "Da mesma forma, para concatenar nas linhas, usamos o eixo como 1"
      ],
      "metadata": {
        "id": "zfX9TENFeYRP"
      }
    },
    {
      "cell_type": "code",
      "source": [
        "np.concatenate((ary, ary), axis=1)"
      ],
      "metadata": {
        "colab": {
          "base_uri": "https://localhost:8080/"
        },
        "id": "3Oe2s4WReYDx",
        "outputId": "b21d94b5-a881-440c-bb42-6aa4aec5eef8"
      },
      "execution_count": null,
      "outputs": [
        {
          "output_type": "execute_result",
          "data": {
            "text/plain": [
              "array([[1, 2, 3, 1, 2, 3]])"
            ]
          },
          "metadata": {},
          "execution_count": 54
        }
      ]
    },
    {
      "cell_type": "markdown",
      "source": [
        "## Arrays de Booleanos e Máscaras"
      ],
      "metadata": {
        "id": "3Cn5cP-nezKE"
      }
    },
    {
      "cell_type": "markdown",
      "source": [
        "Criamos máscaras com expressões lógicas com arrays"
      ],
      "metadata": {
        "id": "Ol_hlNUVf5Ps"
      }
    },
    {
      "cell_type": "code",
      "source": [
        "ary = np.array([1, 2, 3, 4])\n",
        "mask = ary > 2\n",
        "mask"
      ],
      "metadata": {
        "colab": {
          "base_uri": "https://localhost:8080/"
        },
        "id": "yj9VHk5Xe2zi",
        "outputId": "97601bf2-a92b-44f7-f802-d174f61df2eb"
      },
      "execution_count": null,
      "outputs": [
        {
          "output_type": "execute_result",
          "data": {
            "text/plain": [
              "array([False, False,  True,  True])"
            ]
          },
          "metadata": {},
          "execution_count": 55
        }
      ]
    },
    {
      "cell_type": "markdown",
      "source": [
        "Podemos usar as máscaras para acessar valores do array (assim é usado uma cópia do array)"
      ],
      "metadata": {
        "id": "bzd_73D3gDr-"
      }
    },
    {
      "cell_type": "code",
      "source": [
        "ary[mask]"
      ],
      "metadata": {
        "colab": {
          "base_uri": "https://localhost:8080/"
        },
        "id": "ssjXrZmBgJOY",
        "outputId": "47a77f4d-5218-4ef6-8187-48845853294f"
      },
      "execution_count": null,
      "outputs": [
        {
          "output_type": "execute_result",
          "data": {
            "text/plain": [
              "array([3, 4])"
            ]
          },
          "metadata": {},
          "execution_count": 56
        }
      ]
    },
    {
      "cell_type": "markdown",
      "source": [
        "O método soma retorna a quantidade de True's dentro da máscara"
      ],
      "metadata": {
        "id": "GpkHbaC5gNUn"
      }
    },
    {
      "cell_type": "code",
      "source": [
        "mask.sum()"
      ],
      "metadata": {
        "colab": {
          "base_uri": "https://localhost:8080/"
        },
        "id": "byU3ujLDgRCh",
        "outputId": "85f8da82-f439-4bc0-a404-fd4ae74c1272"
      },
      "execution_count": null,
      "outputs": [
        {
          "output_type": "execute_result",
          "data": {
            "text/plain": [
              "2"
            ]
          },
          "metadata": {},
          "execution_count": 57
        }
      ]
    },
    {
      "cell_type": "markdown",
      "source": [
        "Com o método where, podemos passar uma exprssão lógica e substituir os verdadeiros e falsos por valores explícitos na chamada do método"
      ],
      "metadata": {
        "id": "upqSvxY8gUtl"
      }
    },
    {
      "cell_type": "code",
      "source": [
        "np.where(ary > 2, 1, 0)"
      ],
      "metadata": {
        "colab": {
          "base_uri": "https://localhost:8080/"
        },
        "id": "WDGUT99PgT2q",
        "outputId": "aa0448dd-efd9-4ffc-db77-bd1545335805"
      },
      "execution_count": null,
      "outputs": [
        {
          "output_type": "execute_result",
          "data": {
            "text/plain": [
              "array([0, 0, 1, 1])"
            ]
          },
          "metadata": {},
          "execution_count": 58
        }
      ]
    },
    {
      "cell_type": "markdown",
      "source": [
        "Também é possível usar operadores bit a bit"
      ],
      "metadata": {
        "id": "ED72E3kFg0nx"
      }
    },
    {
      "cell_type": "code",
      "source": [
        "# atribui 1 onde a máscara é verdeira e 0 onde não é\n",
        "ary[mask] = 1\n",
        "ary[~mask] = 0\n",
        "ary"
      ],
      "metadata": {
        "colab": {
          "base_uri": "https://localhost:8080/"
        },
        "id": "s2vT8Vwng4fR",
        "outputId": "d38eedb0-acfd-42a7-92be-601c8d9f9f54"
      },
      "execution_count": null,
      "outputs": [
        {
          "output_type": "execute_result",
          "data": {
            "text/plain": [
              "array([0, 0, 1, 1])"
            ]
          },
          "metadata": {},
          "execution_count": 59
        }
      ]
    },
    {
      "cell_type": "markdown",
      "source": [
        "Os operadores bit a bit são: & (and), | (ou), ^(XOR) e ~(NOT)"
      ],
      "metadata": {
        "id": "eB-9bIsWhIZE"
      }
    },
    {
      "cell_type": "markdown",
      "source": [
        "É possível gerar máscaras com expressões mais complexas"
      ],
      "metadata": {
        "id": "a6fe44mVhUbW"
      }
    },
    {
      "cell_type": "code",
      "source": [
        "ary = np.array([1, 2, 3, 4])\n",
        "(ary > 3) | (ary < 2)"
      ],
      "metadata": {
        "colab": {
          "base_uri": "https://localhost:8080/"
        },
        "id": "wkTmvxKjhcLF",
        "outputId": "a4842787-8f3a-45d1-a71a-4d391d88f025"
      },
      "execution_count": null,
      "outputs": [
        {
          "output_type": "execute_result",
          "data": {
            "text/plain": [
              "array([ True, False, False,  True])"
            ]
          },
          "metadata": {},
          "execution_count": 60
        }
      ]
    },
    {
      "cell_type": "code",
      "source": [
        "~((ary > 3) | (ary < 2))"
      ],
      "metadata": {
        "colab": {
          "base_uri": "https://localhost:8080/"
        },
        "id": "mSu5Qf-hhg75",
        "outputId": "b6c6fdc3-7789-48ef-c5ae-2c8e56ae9f53"
      },
      "execution_count": null,
      "outputs": [
        {
          "output_type": "execute_result",
          "data": {
            "text/plain": [
              "array([False,  True,  True, False])"
            ]
          },
          "metadata": {},
          "execution_count": 61
        }
      ]
    },
    {
      "cell_type": "markdown",
      "source": [
        "## Álgebra Linear com Arrays Numpy"
      ],
      "metadata": {
        "id": "X1ENzS1sSWa_"
      }
    },
    {
      "cell_type": "markdown",
      "source": [
        "Arrays do numpy de uma dimensão podem representar vetores de linha"
      ],
      "metadata": {
        "id": "ucr3p7JfSl7B"
      }
    },
    {
      "cell_type": "code",
      "source": [
        "row_vector = np.array([1, 2, 3])\n",
        "row_vector"
      ],
      "metadata": {
        "colab": {
          "base_uri": "https://localhost:8080/"
        },
        "id": "FXUE-C8LSZ5z",
        "outputId": "f1bce4dc-b188-41a4-9897-0d1d8d1d1c07"
      },
      "execution_count": null,
      "outputs": [
        {
          "output_type": "execute_result",
          "data": {
            "text/plain": [
              "array([1, 2, 3])"
            ]
          },
          "metadata": {},
          "execution_count": 62
        }
      ]
    },
    {
      "cell_type": "markdown",
      "source": [
        "Arrays de duas dimensões com apenas uma coluna podem representar vetores em coluna"
      ],
      "metadata": {
        "id": "QttKAC5NSyJn"
      }
    },
    {
      "cell_type": "code",
      "source": [
        "column_vector = np.array([[1, 2, 3]]).reshape(-1, 1)\n",
        "column_vector"
      ],
      "metadata": {
        "colab": {
          "base_uri": "https://localhost:8080/"
        },
        "id": "OonvDESBS6LG",
        "outputId": "be6e679d-0563-45d1-9bc4-491d8e68e050"
      },
      "execution_count": null,
      "outputs": [
        {
          "output_type": "execute_result",
          "data": {
            "text/plain": [
              "array([[1],\n",
              "       [2],\n",
              "       [3]])"
            ]
          },
          "metadata": {},
          "execution_count": 65
        }
      ]
    },
    {
      "cell_type": "markdown",
      "source": [
        "Também é possível transformar um vetor linha em um vetor coluna adicionando um novo eixo ao vetor"
      ],
      "metadata": {
        "id": "IEh2wh0QTHOA"
      }
    },
    {
      "cell_type": "code",
      "source": [
        "row_vector[:, np.newaxis]"
      ],
      "metadata": {
        "colab": {
          "base_uri": "https://localhost:8080/"
        },
        "id": "sS35sYXkTPNb",
        "outputId": "a3181b62-737f-4761-a240-9472446d386a"
      },
      "execution_count": null,
      "outputs": [
        {
          "output_type": "execute_result",
          "data": {
            "text/plain": [
              "array([[1],\n",
              "       [2],\n",
              "       [3]])"
            ]
          },
          "metadata": {},
          "execution_count": 66
        }
      ]
    },
    {
      "cell_type": "markdown",
      "source": [
        "Ou também com a sintaxe"
      ],
      "metadata": {
        "id": "ysQO36ooTTlh"
      }
    },
    {
      "cell_type": "code",
      "source": [
        "row_vector[:, None]"
      ],
      "metadata": {
        "colab": {
          "base_uri": "https://localhost:8080/"
        },
        "id": "OhD62CUNTVdh",
        "outputId": "58b19300-add2-4e5b-d438-70b1f8f07541"
      },
      "execution_count": null,
      "outputs": [
        {
          "output_type": "execute_result",
          "data": {
            "text/plain": [
              "array([[1],\n",
              "       [2],\n",
              "       [3]])"
            ]
          },
          "metadata": {},
          "execution_count": 67
        }
      ]
    },
    {
      "cell_type": "markdown",
      "source": [
        "Podemos criar uma matriz com uma lista de arrays numpy e fazer multiplicações com maltmul()"
      ],
      "metadata": {
        "id": "md45OvcmTibk"
      }
    },
    {
      "cell_type": "code",
      "source": [
        "matrix = np.array([\n",
        "    [1, 2, 3],\n",
        "    [4, 5, 6]\n",
        "])\n",
        "np.matmul(matrix, column_vector)"
      ],
      "metadata": {
        "colab": {
          "base_uri": "https://localhost:8080/"
        },
        "id": "uppgA5jWTqPO",
        "outputId": "18fcca2a-a5c8-4c1a-9532-5a668fed351e"
      },
      "execution_count": null,
      "outputs": [
        {
          "output_type": "execute_result",
          "data": {
            "text/plain": [
              "array([[14],\n",
              "       [32]])"
            ]
          },
          "metadata": {},
          "execution_count": 71
        }
      ]
    },
    {
      "cell_type": "code",
      "source": [
        "np.matmul(matrix, row_vector)"
      ],
      "metadata": {
        "colab": {
          "base_uri": "https://localhost:8080/"
        },
        "id": "0ZgZIwX4T7k6",
        "outputId": "5f3a6783-6f7c-4c75-c478-7cc077ba7280"
      },
      "execution_count": null,
      "outputs": [
        {
          "output_type": "execute_result",
          "data": {
            "text/plain": [
              "array([14, 32])"
            ]
          },
          "metadata": {},
          "execution_count": 75
        }
      ]
    },
    {
      "cell_type": "code",
      "source": [
        "np.matmul(row_vector, row_vector)"
      ],
      "metadata": {
        "colab": {
          "base_uri": "https://localhost:8080/"
        },
        "id": "i6YlR-WwUb5i",
        "outputId": "b859b2c1-05d9-4e7f-9b54-3a0b02e09a50"
      },
      "execution_count": null,
      "outputs": [
        {
          "output_type": "execute_result",
          "data": {
            "text/plain": [
              "14"
            ]
          },
          "metadata": {},
          "execution_count": 76
        }
      ]
    },
    {
      "cell_type": "markdown",
      "source": [
        "A função dot faz a mesma coisa que matmult, porém a implementação é diferente, portanto o desempenho pode ser diferente dependendo do uso"
      ],
      "metadata": {
        "id": "q3MavGfdUEpV"
      }
    },
    {
      "cell_type": "code",
      "source": [
        "np.dot(row_vector, row_vector)"
      ],
      "metadata": {
        "colab": {
          "base_uri": "https://localhost:8080/"
        },
        "id": "QNJfMmiBUPpd",
        "outputId": "c45967b8-044a-4352-a46b-98c427fd0562"
      },
      "execution_count": null,
      "outputs": [
        {
          "output_type": "execute_result",
          "data": {
            "text/plain": [
              "14"
            ]
          },
          "metadata": {},
          "execution_count": 73
        }
      ]
    },
    {
      "cell_type": "code",
      "source": [
        "np.dot(matrix, row_vector)"
      ],
      "metadata": {
        "colab": {
          "base_uri": "https://localhost:8080/"
        },
        "id": "k11VUbMTUTC-",
        "outputId": "e1742f58-2ee8-4c81-8b4f-9ca0659cd5ca"
      },
      "execution_count": null,
      "outputs": [
        {
          "output_type": "execute_result",
          "data": {
            "text/plain": [
              "array([14, 32])"
            ]
          },
          "metadata": {},
          "execution_count": 77
        }
      ]
    },
    {
      "cell_type": "code",
      "source": [
        "np.dot(matrix, column_vector)"
      ],
      "metadata": {
        "colab": {
          "base_uri": "https://localhost:8080/"
        },
        "id": "STdj7LJcUjrf",
        "outputId": "12c196fa-410f-4163-d564-2061d50ad85b"
      },
      "execution_count": null,
      "outputs": [
        {
          "output_type": "execute_result",
          "data": {
            "text/plain": [
              "array([[14],\n",
              "       [32]])"
            ]
          },
          "metadata": {},
          "execution_count": 80
        }
      ]
    },
    {
      "cell_type": "markdown",
      "source": [
        "O método transpose() calcula a matriz transposta"
      ],
      "metadata": {
        "id": "BxgvJID9UwXP"
      }
    },
    {
      "cell_type": "code",
      "source": [
        "matrix.transpose()"
      ],
      "metadata": {
        "colab": {
          "base_uri": "https://localhost:8080/"
        },
        "id": "EgWt69P_U26M",
        "outputId": "367342be-ce19-43e6-b9d5-091669be0ad8"
      },
      "execution_count": null,
      "outputs": [
        {
          "output_type": "execute_result",
          "data": {
            "text/plain": [
              "array([[1, 4],\n",
              "       [2, 5],\n",
              "       [3, 6]])"
            ]
          },
          "metadata": {},
          "execution_count": 81
        }
      ]
    },
    {
      "cell_type": "code",
      "source": [
        "np.matmul(matrix, matrix.transpose())"
      ],
      "metadata": {
        "colab": {
          "base_uri": "https://localhost:8080/"
        },
        "id": "stA8-i6eU6fN",
        "outputId": "0a2ddac2-f2f8-4f13-d64a-59f16c5a322b"
      },
      "execution_count": null,
      "outputs": [
        {
          "output_type": "execute_result",
          "data": {
            "text/plain": [
              "array([[14, 32],\n",
              "       [32, 77]])"
            ]
          },
          "metadata": {},
          "execution_count": 82
        }
      ]
    },
    {
      "cell_type": "markdown",
      "source": [
        "Pode se abreviar transpose como T"
      ],
      "metadata": {
        "id": "CrcfC5RIVAG-"
      }
    },
    {
      "cell_type": "code",
      "source": [
        "matrix.T"
      ],
      "metadata": {
        "colab": {
          "base_uri": "https://localhost:8080/"
        },
        "id": "BJt0D8IAVDX3",
        "outputId": "4b415401-41f1-4e9d-f82e-a261bcee5539"
      },
      "execution_count": null,
      "outputs": [
        {
          "output_type": "execute_result",
          "data": {
            "text/plain": [
              "array([[1, 4],\n",
              "       [2, 5],\n",
              "       [3, 6]])"
            ]
          },
          "metadata": {},
          "execution_count": 83
        }
      ]
    },
    {
      "cell_type": "markdown",
      "source": [
        "## Plotando Gráficos com Matplotlib"
      ],
      "metadata": {
        "id": "F3JrYKCfY8bh"
      }
    },
    {
      "cell_type": "markdown",
      "source": [
        "### Funções e linhas"
      ],
      "metadata": {
        "id": "81KqALsqZJoS"
      }
    },
    {
      "cell_type": "markdown",
      "source": [
        "Plotando um seno de 0 a 10"
      ],
      "metadata": {
        "id": "k4ypxvvjZdUi"
      }
    },
    {
      "cell_type": "code",
      "source": [
        "import matplotlib.pyplot as plt\n",
        "\n",
        "x = np.linspace(0, 10, 100)\n",
        "plt.plot(x, np.sin(x))\n",
        "plt.show()"
      ],
      "metadata": {
        "colab": {
          "base_uri": "https://localhost:8080/",
          "height": 265
        },
        "id": "UQgxIY1mZOK0",
        "outputId": "8f01f8c9-9019-46e4-a9af-00dd32eb217d"
      },
      "execution_count": null,
      "outputs": [
        {
          "output_type": "display_data",
          "data": {
            "text/plain": [
              "<Figure size 432x288 with 1 Axes>"
            ],
            "image/png": "[encoded data removed]"
          },
          "metadata": {
            "needs_background": "light"
          }
        }
      ]
    },
    {
      "cell_type": "markdown",
      "source": [],
      "metadata": {
        "id": "Bpr2ekAqZi7I"
      }
    },
    {
      "cell_type": "code",
      "source": [
        "# imprime a função seno\n",
        "x = np.linspace(0, 10, 100)\n",
        "plt.plot(x, np.sin(x))\n",
        "\n",
        "# limita o tamanho dos eixos\n",
        "plt.xlim([2, 8])\n",
        "plt.ylim([0, 0.75])\n",
        "\n",
        "# nomeia os eixos\n",
        "plt.xlabel('x-axis')\n",
        "plt.ylabel('y-axis')\n",
        "\n",
        "plt.show()"
      ],
      "metadata": {
        "colab": {
          "base_uri": "https://localhost:8080/",
          "height": 279
        },
        "id": "pDtD5GXNZkK7",
        "outputId": "d6a8cca4-d203-4d23-a764-d562e650dcac"
      },
      "execution_count": null,
      "outputs": [
        {
          "output_type": "display_data",
          "data": {
            "text/plain": [
              "<Figure size 432x288 with 1 Axes>"
            ],
            "image/png": "[encoded data removed]"
          },
          "metadata": {
            "needs_background": "light"
          }
        }
      ]
    },
    {
      "cell_type": "code",
      "source": [
        "x = np.linspace(0, 10, 100)\n",
        "\n",
        "# imprime a função seno\n",
        "plt.plot(x, np.sin(x), label=('sin(x)'))\n",
        "\n",
        "# imprime a função cosseno\n",
        "plt.plot(x, np.cos(x), label=('cos(x)'))\n",
        "\n",
        "# nomeia os eixos\n",
        "plt.xlabel('x-axis')\n",
        "plt.ylabel('y-axis')\n",
        "\n",
        "# coloca a legenda no canto inferior esquerdo\n",
        "plt.legend(loc='lower left')\n",
        "\n",
        "plt.show()"
      ],
      "metadata": {
        "colab": {
          "base_uri": "https://localhost:8080/",
          "height": 279
        },
        "id": "YyvnIsabaDB6",
        "outputId": "f9c3bc4f-4be4-463f-f25d-6622b313ddd3"
      },
      "execution_count": null,
      "outputs": [
        {
          "output_type": "display_data",
          "data": {
            "text/plain": [
              "<Figure size 432x288 with 1 Axes>"
            ],
            "image/png": "[encoded data removed]"
          },
          "metadata": {
            "needs_background": "light"
          }
        }
      ]
    },
    {
      "cell_type": "markdown",
      "source": [
        "### Gráfico esparsos"
      ],
      "metadata": {
        "id": "3cmO7LF0aenE"
      }
    },
    {
      "cell_type": "code",
      "source": [
        "rng = np.random.RandomState(123)\n",
        "\n",
        "# cria dois vetores de tamanho 500 seguindo a distribuição normal\n",
        "x = rng.normal(size=500)\n",
        "y = rng.normal(size=500)\n",
        "\n",
        "# imprime o gráfico esparso\n",
        "plt.scatter(x, y)\n",
        "\n",
        "plt.show()"
      ],
      "metadata": {
        "colab": {
          "base_uri": "https://localhost:8080/",
          "height": 265
        },
        "id": "w4si-X4IaiyY",
        "outputId": "a04479dd-5b87-4faa-8e4e-ad483e67b3aa"
      },
      "execution_count": null,
      "outputs": [
        {
          "output_type": "display_data",
          "data": {
            "text/plain": [
              "<Figure size 432x288 with 1 Axes>"
            ],
            "image/png": "[encoded data removed]"
          },
          "metadata": {
            "needs_background": "light"
          }
        }
      ]
    },
    {
      "cell_type": "markdown",
      "source": [
        "### Gráficos de barra"
      ],
      "metadata": {
        "id": "1uUg2SXsa8Gi"
      }
    },
    {
      "cell_type": "code",
      "source": [
        "means = [1, 2, 3] # tamanho da barra\n",
        "stddevs = [0.2, 0.4, 0.5] # barras de erro vertical (em y)\n",
        "bar_labels = ['bar 1', 'bar 2', 'bar 3'] # label para as barras \n",
        "\n",
        "x_pos = list(range(len(bar_labels))) # coordenadas do centro em x de cada barra\n",
        "\n",
        "plt.bar(x_pos, means, yerr=stddevs)\n",
        "\n",
        "plt.show()"
      ],
      "metadata": {
        "colab": {
          "base_uri": "https://localhost:8080/",
          "height": 282
        },
        "id": "oV1TZwBUbAsK",
        "outputId": "d26777f1-31e2-4cdb-b4e7-e246660cf949"
      },
      "execution_count": null,
      "outputs": [
        {
          "output_type": "display_data",
          "data": {
            "text/plain": [
              "<Figure size 432x288 with 1 Axes>"
            ],
            "image/png": "[encoded data removed]"
          },
          "metadata": {
            "needs_background": "light"
          }
        },
        {
          "output_type": "execute_result",
          "data": {
            "text/plain": [
              "[0, 1, 2]"
            ]
          },
          "metadata": {},
          "execution_count": 93
        }
      ]
    },
    {
      "cell_type": "markdown",
      "source": [
        "### Histogramas"
      ],
      "metadata": {
        "id": "YOHj1tYqb7T4"
      }
    },
    {
      "cell_type": "code",
      "source": [
        "rng = np.random.RandomState(123)\n",
        "x = rng.normal(0, 20, 1000)\n",
        "\n",
        "# tamanho das \"barras\"\n",
        "bins = np.arange(-100, 100, 5)\n",
        "\n",
        "plt.hist(x, bins=bins)\n",
        "plt.show()"
      ],
      "metadata": {
        "colab": {
          "base_uri": "https://localhost:8080/",
          "height": 265
        },
        "id": "23YAvefUb8oL",
        "outputId": "892e1bc1-99b7-4b56-98a5-26d0e2bd1ecb"
      },
      "execution_count": null,
      "outputs": [
        {
          "output_type": "display_data",
          "data": {
            "text/plain": [
              "<Figure size 432x288 with 1 Axes>"
            ],
            "image/png": "[encoded data removed]"
          },
          "metadata": {
            "needs_background": "light"
          }
        }
      ]
    },
    {
      "cell_type": "markdown",
      "source": [
        "Para imprimir dois histogramas em apenas uma imagem, é só informar dois .hist() antes do .show()"
      ],
      "metadata": {
        "id": "64eQhI_WcPpK"
      }
    },
    {
      "cell_type": "code",
      "source": [
        "rng = np.random.RandomState(123)\n",
        "x1 = rng.normal(0, 20, 1000)\n",
        "x2 = rng.normal(15, 10, 1000)\n",
        "\n",
        "# tamanho das \"barras\"\n",
        "bins = np.arange(-100, 100, 5)\n",
        "\n",
        "# alpha controla a transparência do gráfico\n",
        "plt.hist(x1, bins=bins, alpha=0.5)\n",
        "plt.hist(x2, bins=bins, alpha=0.5)\n",
        "plt.show()"
      ],
      "metadata": {
        "colab": {
          "base_uri": "https://localhost:8080/",
          "height": 265
        },
        "id": "thJRF15xcZSR",
        "outputId": "9d195663-b85d-4207-b6a7-bf6d837af15a"
      },
      "execution_count": null,
      "outputs": [
        {
          "output_type": "display_data",
          "data": {
            "text/plain": [
              "<Figure size 432x288 with 1 Axes>"
            ],
            "image/png": "[encoded data removed]"
          },
          "metadata": {
            "needs_background": "light"
          }
        }
      ]
    },
    {
      "cell_type": "markdown",
      "source": [
        "### Subplots"
      ],
      "metadata": {
        "id": "lrZsfHXwc4Yv"
      }
    },
    {
      "cell_type": "markdown",
      "source": [
        "Plota vários gráficos em uma imagem só"
      ],
      "metadata": {
        "id": "aTpD1QcFc_dO"
      }
    },
    {
      "cell_type": "code",
      "source": [
        "x = range(11)\n",
        "y = range(11)\n",
        "\n",
        "fig, ax = plt.subplots(\n",
        "    nrows=2, # número de linhas\n",
        "    ncols=3, # número de colunas\n",
        "    sharex=True, # compartilha o eixo x\n",
        "    sharey=True # compartilha o eixo y\n",
        ")\n",
        "\n",
        "for row in ax:\n",
        "    for col in row:\n",
        "        # imprime o gráfico em cada espaço do subplot\n",
        "        col.plot(x, y)\n",
        "\n",
        "plt.show()"
      ],
      "metadata": {
        "colab": {
          "base_uri": "https://localhost:8080/",
          "height": 265
        },
        "id": "xxEj5-BIdNKf",
        "outputId": "fb9345fe-7340-494d-ef5e-8c406fb8ce5e"
      },
      "execution_count": null,
      "outputs": [
        {
          "output_type": "display_data",
          "data": {
            "text/plain": [
              "<Figure size 432x288 with 6 Axes>"
            ],
            "image/png": "[encoded data removed]"
          },
          "metadata": {
            "needs_background": "light"
          }
        }
      ]
    },
    {
      "cell_type": "markdown",
      "source": [
        "### Cores e marcadores"
      ],
      "metadata": {
        "id": "VDZAop6EeFpM"
      }
    },
    {
      "cell_type": "markdown",
      "source": [
        "O parâmetro color na função define a cor dos dados, o parâmtro marker define o estilo de marcação dos dados, o parametro linestyle define o estilo de linha do gráfico"
      ],
      "metadata": {
        "id": "KutAxPX5eIGB"
      }
    },
    {
      "cell_type": "code",
      "source": [
        "x = np.linspace(0, 10, 100)\n",
        "plt.plot(\n",
        "    x,\n",
        "    np.sin(x),\n",
        "    color='orange',\n",
        "    marker='^',\n",
        "    linestyle=''\n",
        ")\n",
        "\n",
        "plt.show()"
      ],
      "metadata": {
        "colab": {
          "base_uri": "https://localhost:8080/",
          "height": 265
        },
        "id": "YvEwLq92eHs8",
        "outputId": "5a91de70-0bc0-45a6-b510-bb12f2945889"
      },
      "execution_count": null,
      "outputs": [
        {
          "output_type": "display_data",
          "data": {
            "text/plain": [
              "<Figure size 432x288 with 1 Axes>"
            ],
            "image/png": "[encoded data removed]"
          },
          "metadata": {
            "needs_background": "light"
          }
        }
      ]
    },
    {
      "cell_type": "markdown",
      "source": [
        "### Salvar gráficos"
      ],
      "metadata": {
        "id": "BGFtLGZheoMP"
      }
    },
    {
      "cell_type": "markdown",
      "source": [
        "O método savefig salva o gráfico, o primeiro parâmetro define o nome do arquivo em disco, o parâmetro dpi define a qualidade do gráfico (pontos por pixel)"
      ],
      "metadata": {
        "id": "1x1AF-0KeqV5"
      }
    },
    {
      "cell_type": "code",
      "source": [
        "x = np.linspace(0, 10, 100)\n",
        "plt.plot(\n",
        "    x,\n",
        "    np.sin(x),\n",
        ")\n",
        "\n",
        "plt.savefig('myplot.png', dpi=300)\n",
        "plt.savefig('myplot.pdf')\n",
        "\n",
        "plt.show()"
      ],
      "metadata": {
        "colab": {
          "base_uri": "https://localhost:8080/",
          "height": 265
        },
        "id": "MFHi0xyIe1Xo",
        "outputId": "db3663bf-5e7e-48d8-bcc8-e753e3f9e010"
      },
      "execution_count": null,
      "outputs": [
        {
          "output_type": "display_data",
          "data": {
            "text/plain": [
              "<Figure size 432x288 with 1 Axes>"
            ],
            "image/png": "[encoded data removed]"
          },
          "metadata": {
            "needs_background": "light"
          }
        }
      ]
    }
  ]
}