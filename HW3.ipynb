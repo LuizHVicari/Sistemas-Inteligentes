{
  "nbformat": 4,
  "nbformat_minor": 0,
  "metadata": {
    "colab": {
      "provenance": [],
      "authorship_tag": "ABX9TyMHMJLSYKgqVCQoAlo6ibyR",
      "include_colab_link": true
    },
    "kernelspec": {
      "name": "python3",
      "display_name": "Python 3"
    },
    "language_info": {
      "name": "python"
    }
  },
  "cells": [
    {
      "cell_type": "markdown",
      "metadata": {
        "id": "view-in-github",
        "colab_type": "text"
      },
      "source": [
        "<a href=\"https://colab.research.google.com/github/LuizHVicari/Sistemas-Inteligentes/blob/main/HW3.ipynb\" target=\"_parent\"><img src=\"https://colab.research.google.com/assets/colab-badge.svg\" alt=\"Open In Colab\"/></a>"
      ]
    },
    {
      "cell_type": "markdown",
      "source": [
        "# Tarefa 3\n",
        "\n",
        "Crie um sistema especialista capaz de imitar a tomada de decisões de um especialista humano. A base de conhecimento a ser utilizada é a base do trabalho 1. Vc deve criar regras que separam as 2 classes de interesse e programa-las como um mecanismo de inferência. Para isso siga os seguintes passos:\n",
        "\n",
        "1. Separe a base de dados em treinamento e teste. Essa separação deve resultar em 2 conjuntos de dados distintos: X_train e X_test, assim como 2 conjuntos de rótulos distintos: y_train e y_test. A base de treino deve ter 66% dos dados e a base de teste deve ter 33% dos dados.\n",
        "\n",
        "1. Crie um scatterplot da base de treinamento\n",
        "\n",
        "1. Visualize e interprete os dados, de forma a criar alguma regra de inferencia que separe as duas classes\n",
        "\n",
        "1. Implemente a regra na forma de if/else, criando assim um mecanismo de inferência\n",
        "\n",
        "1. Aplique as regras a cada amostra da base de dados de treino e verifique se classificou corretamente ou não. Calcule a média de acertos.\n",
        "\n",
        "1. Com base na regra criada, determine a reta de decisão obtida e plote a mesma sobre o scatterplot\n",
        "\n",
        "1. Crie um scatterplot 2, para a base de teste, plote a reta de decisão\n",
        "\n",
        "1. Aplique as regras a cada amostra da base de dados de teste e verifique se classificou corretamente ou não. Calcule a média de acertos."
      ],
      "metadata": {
        "id": "VaqYh0d1wdG8"
      }
    },
    {
      "cell_type": "markdown",
      "source": [
        "## Criado o DataFrame"
      ],
      "metadata": {
        "id": "pFn53DLKwpXh"
      }
    },
    {
      "cell_type": "code",
      "source": [
        "lista_maca_peso = [168, 201, 184, 216, 177, 230, 149, 192, 206, 219, 177, 194, 241, 162, 207]\n",
        "lista_maca_diam = [7.7, 9.2, 8.5, 9.8, 8.1, 10.1, 6.9, 8.8, 9.4, 10.0, 8.2, 9.0, 10.6, 7.5, 9.6]\n",
        "maca = ['maca' for i in range(15)]\n",
        "\n",
        "lista_laranja_peso = [150, 162, 170, 182, 195, 204, 213, 221, 234, 246, 257, 266, 278, 287, 296]\n",
        "lista_laranja_diam = [6, 6.5, 6.8, 7.1, 7.4, 7.7, 8, 8.3, 8.6, 8.9, 9.2, 9.5, 9.8, 10.1, 10.4]\n",
        "laranja = ['laranja' for i in range(15)]"
      ],
      "metadata": {
        "id": "8OPmiPWphBNt"
      },
      "execution_count": null,
      "outputs": []
    },
    {
      "cell_type": "code",
      "source": [
        "peso = lista_maca_peso + lista_laranja_peso\n",
        "diam = lista_maca_diam + lista_laranja_diam\n",
        "frutas = maca + laranja"
      ],
      "metadata": {
        "id": "Hewc1wG37DkR"
      },
      "execution_count": null,
      "outputs": []
    },
    {
      "cell_type": "code",
      "source": [
        "import pandas as pd\n",
        "\n",
        "df = pd.DataFrame(columns=['peso', 'diametro', 'fruta'])\n",
        "df['peso'] = peso\n",
        "df['diametro'] = diam\n",
        "df['fruta'] = frutas\n",
        "df"
      ],
      "metadata": {
        "colab": {
          "base_uri": "https://localhost:8080/",
          "height": 990
        },
        "id": "ZHcNNUM0jUj1",
        "outputId": "5de640a6-217d-494d-85f7-bfd54df2a549"
      },
      "execution_count": null,
      "outputs": [
        {
          "output_type": "execute_result",
          "data": {
            "text/plain": [
              "    peso  diametro    fruta\n",
              "0    168       7.7     maca\n",
              "1    201       9.2     maca\n",
              "2    184       8.5     maca\n",
              "3    216       9.8     maca\n",
              "4    177       8.1     maca\n",
              "5    230      10.1     maca\n",
              "6    149       6.9     maca\n",
              "7    192       8.8     maca\n",
              "8    206       9.4     maca\n",
              "9    219      10.0     maca\n",
              "10   177       8.2     maca\n",
              "11   194       9.0     maca\n",
              "12   241      10.6     maca\n",
              "13   162       7.5     maca\n",
              "14   207       9.6     maca\n",
              "15   150       6.0  laranja\n",
              "16   162       6.5  laranja\n",
              "17   170       6.8  laranja\n",
              "18   182       7.1  laranja\n",
              "19   195       7.4  laranja\n",
              "20   204       7.7  laranja\n",
              "21   213       8.0  laranja\n",
              "22   221       8.3  laranja\n",
              "23   234       8.6  laranja\n",
              "24   246       8.9  laranja\n",
              "25   257       9.2  laranja\n",
              "26   266       9.5  laranja\n",
              "27   278       9.8  laranja\n",
              "28   287      10.1  laranja\n",
              "29   296      10.4  laranja"
            ],
            "text/html": [
              "\n",
              "  <div id=\"df-cbf77292-627f-408b-9ea1-50d8ceb59e54\">\n",
              "    <div class=\"colab-df-container\">\n",
              "      <div>\n",
              "<style scoped>\n",
              "    .dataframe tbody tr th:only-of-type {\n",
              "        vertical-align: middle;\n",
              "    }\n",
              "\n",
              "    .dataframe tbody tr th {\n",
              "        vertical-align: top;\n",
              "    }\n",
              "\n",
              "    .dataframe thead th {\n",
              "        text-align: right;\n",
              "    }\n",
              "</style>\n",
              "<table border=\"1\" class=\"dataframe\">\n",
              "  <thead>\n",
              "    <tr style=\"text-align: right;\">\n",
              "      <th></th>\n",
              "      <th>peso</th>\n",
              "      <th>diametro</th>\n",
              "      <th>fruta</th>\n",
              "    </tr>\n",
              "  </thead>\n",
              "  <tbody>\n",
              "    <tr>\n",
              "      <th>0</th>\n",
              "      <td>168</td>\n",
              "      <td>7.7</td>\n",
              "      <td>maca</td>\n",
              "    </tr>\n",
              "    <tr>\n",
              "      <th>1</th>\n",
              "      <td>201</td>\n",
              "      <td>9.2</td>\n",
              "      <td>maca</td>\n",
              "    </tr>\n",
              "    <tr>\n",
              "      <th>2</th>\n",
              "      <td>184</td>\n",
              "      <td>8.5</td>\n",
              "      <td>maca</td>\n",
              "    </tr>\n",
              "    <tr>\n",
              "      <th>3</th>\n",
              "      <td>216</td>\n",
              "      <td>9.8</td>\n",
              "      <td>maca</td>\n",
              "    </tr>\n",
              "    <tr>\n",
              "      <th>4</th>\n",
              "      <td>177</td>\n",
              "      <td>8.1</td>\n",
              "      <td>maca</td>\n",
              "    </tr>\n",
              "    <tr>\n",
              "      <th>5</th>\n",
              "      <td>230</td>\n",
              "      <td>10.1</td>\n",
              "      <td>maca</td>\n",
              "    </tr>\n",
              "    <tr>\n",
              "      <th>6</th>\n",
              "      <td>149</td>\n",
              "      <td>6.9</td>\n",
              "      <td>maca</td>\n",
              "    </tr>\n",
              "    <tr>\n",
              "      <th>7</th>\n",
              "      <td>192</td>\n",
              "      <td>8.8</td>\n",
              "      <td>maca</td>\n",
              "    </tr>\n",
              "    <tr>\n",
              "      <th>8</th>\n",
              "      <td>206</td>\n",
              "      <td>9.4</td>\n",
              "      <td>maca</td>\n",
              "    </tr>\n",
              "    <tr>\n",
              "      <th>9</th>\n",
              "      <td>219</td>\n",
              "      <td>10.0</td>\n",
              "      <td>maca</td>\n",
              "    </tr>\n",
              "    <tr>\n",
              "      <th>10</th>\n",
              "      <td>177</td>\n",
              "      <td>8.2</td>\n",
              "      <td>maca</td>\n",
              "    </tr>\n",
              "    <tr>\n",
              "      <th>11</th>\n",
              "      <td>194</td>\n",
              "      <td>9.0</td>\n",
              "      <td>maca</td>\n",
              "    </tr>\n",
              "    <tr>\n",
              "      <th>12</th>\n",
              "      <td>241</td>\n",
              "      <td>10.6</td>\n",
              "      <td>maca</td>\n",
              "    </tr>\n",
              "    <tr>\n",
              "      <th>13</th>\n",
              "      <td>162</td>\n",
              "      <td>7.5</td>\n",
              "      <td>maca</td>\n",
              "    </tr>\n",
              "    <tr>\n",
              "      <th>14</th>\n",
              "      <td>207</td>\n",
              "      <td>9.6</td>\n",
              "      <td>maca</td>\n",
              "    </tr>\n",
              "    <tr>\n",
              "      <th>15</th>\n",
              "      <td>150</td>\n",
              "      <td>6.0</td>\n",
              "      <td>laranja</td>\n",
              "    </tr>\n",
              "    <tr>\n",
              "      <th>16</th>\n",
              "      <td>162</td>\n",
              "      <td>6.5</td>\n",
              "      <td>laranja</td>\n",
              "    </tr>\n",
              "    <tr>\n",
              "      <th>17</th>\n",
              "      <td>170</td>\n",
              "      <td>6.8</td>\n",
              "      <td>laranja</td>\n",
              "    </tr>\n",
              "    <tr>\n",
              "      <th>18</th>\n",
              "      <td>182</td>\n",
              "      <td>7.1</td>\n",
              "      <td>laranja</td>\n",
              "    </tr>\n",
              "    <tr>\n",
              "      <th>19</th>\n",
              "      <td>195</td>\n",
              "      <td>7.4</td>\n",
              "      <td>laranja</td>\n",
              "    </tr>\n",
              "    <tr>\n",
              "      <th>20</th>\n",
              "      <td>204</td>\n",
              "      <td>7.7</td>\n",
              "      <td>laranja</td>\n",
              "    </tr>\n",
              "    <tr>\n",
              "      <th>21</th>\n",
              "      <td>213</td>\n",
              "      <td>8.0</td>\n",
              "      <td>laranja</td>\n",
              "    </tr>\n",
              "    <tr>\n",
              "      <th>22</th>\n",
              "      <td>221</td>\n",
              "      <td>8.3</td>\n",
              "      <td>laranja</td>\n",
              "    </tr>\n",
              "    <tr>\n",
              "      <th>23</th>\n",
              "      <td>234</td>\n",
              "      <td>8.6</td>\n",
              "      <td>laranja</td>\n",
              "    </tr>\n",
              "    <tr>\n",
              "      <th>24</th>\n",
              "      <td>246</td>\n",
              "      <td>8.9</td>\n",
              "      <td>laranja</td>\n",
              "    </tr>\n",
              "    <tr>\n",
              "      <th>25</th>\n",
              "      <td>257</td>\n",
              "      <td>9.2</td>\n",
              "      <td>laranja</td>\n",
              "    </tr>\n",
              "    <tr>\n",
              "      <th>26</th>\n",
              "      <td>266</td>\n",
              "      <td>9.5</td>\n",
              "      <td>laranja</td>\n",
              "    </tr>\n",
              "    <tr>\n",
              "      <th>27</th>\n",
              "      <td>278</td>\n",
              "      <td>9.8</td>\n",
              "      <td>laranja</td>\n",
              "    </tr>\n",
              "    <tr>\n",
              "      <th>28</th>\n",
              "      <td>287</td>\n",
              "      <td>10.1</td>\n",
              "      <td>laranja</td>\n",
              "    </tr>\n",
              "    <tr>\n",
              "      <th>29</th>\n",
              "      <td>296</td>\n",
              "      <td>10.4</td>\n",
              "      <td>laranja</td>\n",
              "    </tr>\n",
              "  </tbody>\n",
              "</table>\n",
              "</div>\n",
              "      <button class=\"colab-df-convert\" onclick=\"convertToInteractive('df-cbf77292-627f-408b-9ea1-50d8ceb59e54')\"\n",
              "              title=\"Convert this dataframe to an interactive table.\"\n",
              "              style=\"display:none;\">\n",
              "        \n",
              "  <svg xmlns=\"http://www.w3.org/2000/svg\" height=\"24px\"viewBox=\"0 0 24 24\"\n",
              "       width=\"24px\">\n",
              "    <path d=\"M0 0h24v24H0V0z\" fill=\"none\"/>\n",
              "    <path d=\"M18.56 5.44l.94 2.06.94-2.06 2.06-.94-2.06-.94-.94-2.06-.94 2.06-2.06.94zm-11 1L8.5 8.5l.94-2.06 2.06-.94-2.06-.94L8.5 2.5l-.94 2.06-2.06.94zm10 10l.94 2.06.94-2.06 2.06-.94-2.06-.94-.94-2.06-.94 2.06-2.06.94z\"/><path d=\"M17.41 7.96l-1.37-1.37c-.4-.4-.92-.59-1.43-.59-.52 0-1.04.2-1.43.59L10.3 9.45l-7.72 7.72c-.78.78-.78 2.05 0 2.83L4 21.41c.39.39.9.59 1.41.59.51 0 1.02-.2 1.41-.59l7.78-7.78 2.81-2.81c.8-.78.8-2.07 0-2.86zM5.41 20L4 18.59l7.72-7.72 1.47 1.35L5.41 20z\"/>\n",
              "  </svg>\n",
              "      </button>\n",
              "      \n",
              "  <style>\n",
              "    .colab-df-container {\n",
              "      display:flex;\n",
              "      flex-wrap:wrap;\n",
              "      gap: 12px;\n",
              "    }\n",
              "\n",
              "    .colab-df-convert {\n",
              "      background-color: #E8F0FE;\n",
              "      border: none;\n",
              "      border-radius: 50%;\n",
              "      cursor: pointer;\n",
              "      display: none;\n",
              "      fill: #1967D2;\n",
              "      height: 32px;\n",
              "      padding: 0 0 0 0;\n",
              "      width: 32px;\n",
              "    }\n",
              "\n",
              "    .colab-df-convert:hover {\n",
              "      background-color: #E2EBFA;\n",
              "      box-shadow: 0px 1px 2px rgba(60, 64, 67, 0.3), 0px 1px 3px 1px rgba(60, 64, 67, 0.15);\n",
              "      fill: #174EA6;\n",
              "    }\n",
              "\n",
              "    [theme=dark] .colab-df-convert {\n",
              "      background-color: #3B4455;\n",
              "      fill: #D2E3FC;\n",
              "    }\n",
              "\n",
              "    [theme=dark] .colab-df-convert:hover {\n",
              "      background-color: #434B5C;\n",
              "      box-shadow: 0px 1px 3px 1px rgba(0, 0, 0, 0.15);\n",
              "      filter: drop-shadow(0px 1px 2px rgba(0, 0, 0, 0.3));\n",
              "      fill: #FFFFFF;\n",
              "    }\n",
              "  </style>\n",
              "\n",
              "      <script>\n",
              "        const buttonEl =\n",
              "          document.querySelector('#df-cbf77292-627f-408b-9ea1-50d8ceb59e54 button.colab-df-convert');\n",
              "        buttonEl.style.display =\n",
              "          google.colab.kernel.accessAllowed ? 'block' : 'none';\n",
              "\n",
              "        async function convertToInteractive(key) {\n",
              "          const element = document.querySelector('#df-cbf77292-627f-408b-9ea1-50d8ceb59e54');\n",
              "          const dataTable =\n",
              "            await google.colab.kernel.invokeFunction('convertToInteractive',\n",
              "                                                     [key], {});\n",
              "          if (!dataTable) return;\n",
              "\n",
              "          const docLinkHtml = 'Like what you see? Visit the ' +\n",
              "            '<a target=\"_blank\" href=https://colab.research.google.com/notebooks/data_table.ipynb>data table notebook</a>'\n",
              "            + ' to learn more about interactive tables.';\n",
              "          element.innerHTML = '';\n",
              "          dataTable['output_type'] = 'display_data';\n",
              "          await google.colab.output.renderOutput(dataTable, element);\n",
              "          const docLink = document.createElement('div');\n",
              "          docLink.innerHTML = docLinkHtml;\n",
              "          element.appendChild(docLink);\n",
              "        }\n",
              "      </script>\n",
              "    </div>\n",
              "  </div>\n",
              "  "
            ]
          },
          "metadata": {},
          "execution_count": 194
        }
      ]
    },
    {
      "cell_type": "markdown",
      "source": [
        "## Separando os modelos"
      ],
      "metadata": {
        "id": "URKyj8zPwsVJ"
      }
    },
    {
      "cell_type": "code",
      "source": [
        "from sklearn.model_selection import train_test_split\n",
        "import numpy as np\n",
        "\n",
        "SEED = 1\n",
        "np.random.seed(SEED)\n",
        "\n",
        "df['fruta'] = df.apply(lambda x : 0 if x['fruta'] == 'maca' else 1, axis=1)\n",
        "\n",
        "X = df[['peso', 'diametro']]\n",
        "y = df['fruta']\n",
        "\n",
        "X_train, X_test, y_train, y_test = train_test_split(X, y, stratify=y, test_size=0.33)"
      ],
      "metadata": {
        "id": "NtzaLVAPlsX_"
      },
      "execution_count": null,
      "outputs": []
    },
    {
      "cell_type": "markdown",
      "source": [
        "## Scatter Plot da base de treinamento"
      ],
      "metadata": {
        "id": "31Dw3Rk9w2zV"
      }
    },
    {
      "cell_type": "code",
      "source": [
        "import matplotlib.pyplot as plt\n",
        "import seaborn as sns\n",
        "\n",
        "plt.figure(figsize=(12,6))\n",
        "ax = sns.scatterplot(data=X_train, x='peso', y='diametro', hue=y_train, palette='Pastel1')\n",
        "plt.show()"
      ],
      "metadata": {
        "colab": {
          "base_uri": "https://localhost:8080/",
          "height": 388
        },
        "id": "GuAgP_-ItEfo",
        "outputId": "9dcd82ac-0d82-4564-c5a4-0f0bd35ae719"
      },
      "execution_count": null,
      "outputs": [
        {
          "output_type": "display_data",
          "data": {
            "text/plain": [
              "<Figure size 864x432 with 1 Axes>"
            ],
            "image/png": "[encoded data removed]"
          },
          "metadata": {
            "needs_background": "light"
          }
        }
      ]
    },
    {
      "cell_type": "markdown",
      "source": [
        "## Criando a classe com os métodos necessários para o modelo"
      ],
      "metadata": {
        "id": "mLH4HM_Bw8_U"
      }
    },
    {
      "cell_type": "code",
      "source": [
        "class Specialist:\n",
        "    def __init__(self, coef=24):\n",
        "        # self.__trained = False\n",
        "        self.__coef = coef\n",
        "\n",
        "    # def train(self, X_train, y_train):\n",
        "    #     df_train = pd.DataFrame()\n",
        "    #     df_train[['peso', 'diam']] = X_train\n",
        "    #     df_train['fruta'] = y_train\n",
        "    #     df_train['prop'] = df_train['peso'] / df_train['diam']\n",
        "    #     medias = df_train.groupby('fruta')['prop'].mean()\n",
        "    #     self.__coef = medias.mean()\n",
        "    #     self.__trained = True\n",
        "\n",
        "    def predict(self, X):\n",
        "        # if not(self.__trained) : raise Exception('O modelo não foi treinado ainda')\n",
        "        # return X.apply(lambda x : 0 if x['peso'] / x['diametro'] < self.__coef else 1, axis = 1)\n",
        "        return np.where( X['peso'] / X['diametro'] > self.__coef, 1, 0)\n",
        "\n",
        "    def score(self, y_predict, y):\n",
        "        return np.sum(y == y_predict) / len(y)\n",
        "\n",
        "    def get_coef(self):\n",
        "        return self.__coef"
      ],
      "metadata": {
        "id": "WSIYKWNVlv-m"
      },
      "execution_count": null,
      "outputs": []
    },
    {
      "cell_type": "markdown",
      "source": [
        "## Instanciando o objeto, prevendo e testando os resultados"
      ],
      "metadata": {
        "id": "603VPsorxBo_"
      }
    },
    {
      "cell_type": "code",
      "source": [
        "sp = Specialist()\n",
        "\n",
        "# sp.train(X_train, y_train)\n",
        "\n",
        "pred = sp.predict(X_train)\n",
        "score_train = sp.score(pred, y_train)\n",
        "\n",
        "pred_test = sp.predict(X_test)\n",
        "score_test = sp.score(pred_test, y_test)\n",
        "\n",
        "print(f'O score no treinamento foi: {score_train * 100} %\\n' +\n",
        "      f'O score no teste foi: {score_test * 100} %')"
      ],
      "metadata": {
        "colab": {
          "base_uri": "https://localhost:8080/"
        },
        "id": "-_uzEQfmvzoR",
        "outputId": "5bfa30bb-0d1e-4464-d30b-2db6f0d1508d"
      },
      "execution_count": null,
      "outputs": [
        {
          "output_type": "stream",
          "name": "stdout",
          "text": [
            "O score no treinamento foi: 100.0 %\n",
            "O score no teste foi: 100.0 %\n"
          ]
        }
      ]
    },
    {
      "cell_type": "markdown",
      "source": [
        "## Plot do teste com a reta"
      ],
      "metadata": {
        "id": "ZM4Xt0vQx1KV"
      }
    },
    {
      "cell_type": "code",
      "source": [
        "plt.figure(figsize=(12,6))\n",
        "ax = sns.scatterplot(data=X_train, x='peso', y='diametro', hue=y_train, palette='Pastel1')\n",
        "plt.plot([0, 300], [0, 300 / sp.get_coef()])\n",
        "plt.show()"
      ],
      "metadata": {
        "colab": {
          "base_uri": "https://localhost:8080/",
          "height": 388
        },
        "id": "aJBDJ-BDxKfA",
        "outputId": "b3328893-b258-410a-9550-e001ace0a5bc"
      },
      "execution_count": null,
      "outputs": [
        {
          "output_type": "display_data",
          "data": {
            "text/plain": [
              "<Figure size 864x432 with 1 Axes>"
            ],
            "image/png": "[encoded data removed]"
          },
          "metadata": {
            "needs_background": "light"
          }
        }
      ]
    },
    {
      "cell_type": "code",
      "source": [
        "plt.figure(figsize=(12,6))\n",
        "ax = sns.scatterplot(data=X_test, x='peso', y='diametro', hue=y_test, palette='Pastel1')\n",
        "plt.plot([0, 300], [0, 300 / sp.get_coef()])\n",
        "plt.show()"
      ],
      "metadata": {
        "colab": {
          "base_uri": "https://localhost:8080/",
          "height": 388
        },
        "id": "waKX1qCFxtuT",
        "outputId": "3575f5ac-cec5-43da-8c63-12c0974e5888"
      },
      "execution_count": null,
      "outputs": [
        {
          "output_type": "display_data",
          "data": {
            "text/plain": [
              "<Figure size 864x432 with 1 Axes>"
            ],
            "image/png": "[encoded data removed]"
          },
          "metadata": {
            "needs_background": "light"
          }
        }
      ]
    }
  ]
}