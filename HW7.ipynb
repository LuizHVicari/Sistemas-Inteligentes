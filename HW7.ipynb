{
  "nbformat": 4,
  "nbformat_minor": 0,
  "metadata": {
    "colab": {
      "provenance": [],
      "authorship_tag": "ABX9TyM6TFYCEbAr7ZMIY7BqzD73",
      "include_colab_link": true
    },
    "kernelspec": {
      "name": "python3",
      "display_name": "Python 3"
    },
    "language_info": {
      "name": "python"
    }
  },
  "cells": [
    {
      "cell_type": "markdown",
      "metadata": {
        "id": "view-in-github",
        "colab_type": "text"
      },
      "source": [
        "<a href=\"https://colab.research.google.com/github/LuizHVicari/Sistemas-Inteligentes/blob/main/HW7.ipynb\" target=\"_parent\"><img src=\"https://colab.research.google.com/assets/colab-badge.svg\" alt=\"Open In Colab\"/></a>"
      ]
    },
    {
      "cell_type": "code",
      "execution_count": null,
      "metadata": {
        "id": "dwPB36fOLyrO"
      },
      "outputs": [],
      "source": [
        "import pandas as pd\n",
        "import numpy as np\n",
        "import matplotlib.pyplot as plt\n",
        "import seaborn as sns"
      ]
    },
    {
      "cell_type": "code",
      "source": [
        "lista_maca_peso = [168, 201, 184, 216, 177, 230, 149, 192, 206, 219, 177, 194, 241, 162, 207]\n",
        "lista_maca_diam = [7.7, 9.2, 8.5, 9.8, 8.1, 10.1, 6.9, 8.8, 9.4, 10.0, 8.2, 9.0, 10.6, 7.5, 9.6]\n",
        "maca = ['maca' for i in range(15)]\n",
        "\n",
        "lista_laranja_peso = [150, 162, 170, 182, 195, 204, 213, 221, 234, 246, 257, 266, 278, 287, 296]\n",
        "lista_laranja_diam = [6, 6.5, 6.8, 7.1, 7.4, 7.7, 8, 8.3, 8.6, 8.9, 9.2, 9.5, 9.8, 10.1, 10.4]\n",
        "laranja = ['laranja' for i in range(15)]\n",
        "\n",
        "peso = lista_maca_peso + lista_laranja_peso\n",
        "diam = lista_maca_diam + lista_laranja_diam\n",
        "frutas = maca + laranja\n",
        "\n",
        "df = pd.DataFrame(columns=['peso', 'diametro', 'fruta'])\n",
        "df['peso'] = peso\n",
        "df['diametro'] = diam\n",
        "df['fruta'] = frutas\n",
        "\n",
        "df['fruta'] = df.apply(lambda x : 0 if x['fruta'] == 'maca' else 1, axis=1)\n",
        "mat = df.to_numpy()\n",
        "X, y = mat[:, :-1], mat[:, -1]"
      ],
      "metadata": {
        "id": "G0PrvGdaMPAS"
      },
      "execution_count": null,
      "outputs": []
    },
    {
      "cell_type": "code",
      "source": [
        "from sklearn.preprocessing import StandardScaler\n",
        "from sklearn.model_selection import train_test_split\n",
        "\n",
        "X_train, X_test, y_train, y_test = train_test_split(X, y, stratify=y)\n",
        "ss = StandardScaler()\n",
        "ss.fit(X_train)\n",
        "X_train = ss.transform(X_train)\n",
        "X_test = ss.transform(X_test)\n",
        "X_train, X_test"
      ],
      "metadata": {
        "colab": {
          "base_uri": "https://localhost:8080/"
        },
        "id": "hlYzyBhXPf4w",
        "outputId": "d8dadc2e-cf74-4b0f-8225-4cca43116bb3"
      },
      "execution_count": null,
      "outputs": [
        {
          "output_type": "execute_result",
          "data": {
            "text/plain": [
              "(array([[-0.04302661,  0.76565612],\n",
              "        [ 1.90423491,  1.1202758 ],\n",
              "        [-1.01665737, -1.53937178],\n",
              "        [-0.3405249 , -1.00744226],\n",
              "        [-0.69211379, -1.27340702],\n",
              "        [-1.07074797, -0.74147751],\n",
              "        [ 1.03878534,  0.32238152],\n",
              "        [-0.82734028, -0.38685783],\n",
              "        [ 1.33628363,  0.58834628],\n",
              "        [-1.55756335, -2.24861113],\n",
              "        [-0.63802319, -0.03223815],\n",
              "        [-0.01598131,  0.94296596],\n",
              "        [ 0.71424176,  0.05641677],\n",
              "        [ 0.30856227,  1.29758564],\n",
              "        [ 0.14629048, -0.47551275],\n",
              "        [-1.23301976, -0.91878734],\n",
              "        [ 0.36265287, -0.20954799],\n",
              "        [-0.3675702 ,  0.41103644],\n",
              "        [-0.17825311,  0.58834628],\n",
              "        [-0.82734028, -0.29820291],\n",
              "        [ 0.60606056,  1.38624056],\n",
              "        [ 2.39105029,  1.65220531]]),\n",
              " array([[-0.09711721, -0.74147751],\n",
              "        [-0.4216608 ,  0.23372661],\n",
              "        [-1.23301976, -1.80533654],\n",
              "        [ 0.22742638,  1.1202758 ],\n",
              "        [ 1.57969132,  0.85431104],\n",
              "        [ 2.1476426 ,  1.38624056],\n",
              "        [ 0.90355885,  1.82951515],\n",
              "        [-1.58460865, -1.45071686]]))"
            ]
          },
          "metadata": {},
          "execution_count": 112
        }
      ]
    },
    {
      "cell_type": "code",
      "source": [
        "import numpy as np\n",
        "\n",
        "class Adaline:\n",
        "    def __init__(self, learning_rate=0.01, num_epochs=50):\n",
        "        self.learning_rate = learning_rate\n",
        "        self.num_epochs = num_epochs\n",
        "        self.weights = None\n",
        "        self.bias = None\n",
        "\n",
        "    def fit(self, X, y):\n",
        "        num_samples, num_features = X.shape\n",
        "        self.weights = np.zeros(num_features)\n",
        "        self.bias = 0\n",
        "\n",
        "        for _ in range(self.num_epochs):\n",
        "            for i in range(num_samples):\n",
        "                output = self.activation_function(X[i])\n",
        "                error = y[i] - output\n",
        "                self.weights += self.learning_rate * X[i] * error\n",
        "                self.bias += self.learning_rate * error\n",
        "\n",
        "    def activation_function(self, X):\n",
        "        return np.dot(X, self.weights) + self.bias\n",
        "\n",
        "    def predict(self, X):\n",
        "        pred = list()\n",
        "\n",
        "        for line in X:\n",
        "            p = 0 if np.dot(line, self.weights) + self.bias <= 0 else 1\n",
        "            pred.append(p)\n",
        "\n",
        "        return np.array(pred)\n",
        "\n",
        "    def score(self, y, y_predict):\n",
        "        return np.sum(y == y_predict) / y_predict.shape[0]\n"
      ],
      "metadata": {
        "id": "w6I0q2CoTx0e"
      },
      "execution_count": null,
      "outputs": []
    },
    {
      "cell_type": "code",
      "source": [
        "# Create an instance of Adaline classifier\n",
        "adaline = Adaline(learning_rate=0.1, num_epochs=10000)\n",
        "adaline.fit(X_train, y_train)\n",
        "\n",
        "predictions = adaline.predict(X_test)\n",
        "print(adaline.score(y_test, predictions), adaline.score(adaline.predict(X_train), y_train))"
      ],
      "metadata": {
        "colab": {
          "base_uri": "https://localhost:8080/"
        },
        "id": "svh8hZXxLc5P",
        "outputId": "522dfa2b-7911-46a8-bd58-e708f44ca52a"
      },
      "execution_count": null,
      "outputs": [
        {
          "output_type": "stream",
          "name": "stdout",
          "text": [
            "0.75 0.7727272727272727\n"
          ]
        }
      ]
    },
    {
      "cell_type": "code",
      "source": [
        "print(predictions), (y_test)"
      ],
      "metadata": {
        "colab": {
          "base_uri": "https://localhost:8080/"
        },
        "id": "UwJHMd1KSW_q",
        "outputId": "d2aeb393-da34-4d91-da63-510ec0861c87"
      },
      "execution_count": null,
      "outputs": [
        {
          "output_type": "stream",
          "name": "stdout",
          "text": [
            "[1 1 1 0 1 1 0 1]\n"
          ]
        },
        {
          "output_type": "execute_result",
          "data": {
            "text/plain": [
              "(None, array([1., 0., 1., 0., 1., 1., 0., 0.]))"
            ]
          },
          "metadata": {},
          "execution_count": 152
        }
      ]
    },
    {
      "cell_type": "code",
      "source": [
        "from sklearn.model_selection import ShuffleSplit\n",
        "import warnings\n",
        "\n",
        "warnings.filterwarnings('ignore')\n",
        "\n",
        "rs = ShuffleSplit(n_splits=5, test_size=0.33)\n",
        "\n",
        "train_score = np.array([])\n",
        "test_score = np.array([])\n",
        "\n",
        "for i,(train_data, test_data)in enumerate(rs.split(df.drop(columns=['fruta']))):\n",
        "    print(f'Iteração {i+1}')\n",
        "    X_i = train_data_i.drop(columns=['fruta']).to_numpy()\n",
        "    y_i = train_data_i['fruta'].to_numpy()\n",
        "\n",
        "    X_train_i, X_test_i, y_train_i, y_test_i = train_test_split(X_i, y_i, stratify=y_i)\n",
        "\n",
        "    ss = StandardScaler()\n",
        "    ss.fit(X_train_i)\n",
        "    X_train_i = ss.transform(X_train_i)\n",
        "    X_test_i = ss.transform(X_test_i)\n",
        "\n",
        "    adaline = Adaline(learning_rate=0.1)\n",
        "\n",
        "    adaline.fit(X_train_i, y_train_i)\n",
        "\n",
        "    y_pred_train_i = adaline.predict(X_train_i)\n",
        "    y_pred_test_i = adaline.predict(X_test_i)\n",
        "\n",
        "    train_score_i = adaline.score(y_pred_train_i, y_train_i)\n",
        "    test_score_i = adaline.score(y_pred_test_i, y_test_i)\n",
        "\n",
        "    train_score = np.append(train_score, train_score_i)\n",
        "    test_score = np.append(test_score, test_score_i)\n",
        "\n",
        "    print(f'Precisão na base de treino: {train_score_i}')\n",
        "    print(f'Precisão na base de teste: {test_score_i}')\n",
        "\n",
        "print(f'\\nPrecisão média:\\n\\tTeste: {train_score.mean()}\\n\\tTreino: {test_score.mean()}')\n",
        "print(f'STD médio:\\n\\tTeste: {train_score.std()}\\n\\tTreino: {test_score.std()}')"
      ],
      "metadata": {
        "colab": {
          "base_uri": "https://localhost:8080/"
        },
        "id": "Z_M00AU9P4Ml",
        "outputId": "62522774-2622-4fc0-a8cd-d190761f2c47"
      },
      "execution_count": null,
      "outputs": [
        {
          "output_type": "stream",
          "name": "stdout",
          "text": [
            "Iteração 1\n",
            "Precisão na base de treino: 0.6666666666666666\n",
            "Precisão na base de teste: 0.8\n",
            "Iteração 2\n",
            "Precisão na base de treino: 0.8\n",
            "Precisão na base de teste: 0.8\n",
            "Iteração 3\n",
            "Precisão na base de treino: 0.6666666666666666\n",
            "Precisão na base de teste: 0.4\n",
            "Iteração 4\n",
            "Precisão na base de treino: 0.7333333333333333\n",
            "Precisão na base de teste: 0.4\n",
            "Iteração 5\n",
            "Precisão na base de treino: 0.7333333333333333\n",
            "Precisão na base de teste: 0.8\n",
            "\n",
            "Precisão média:\n",
            "\tTeste: 0.72\n",
            "\tTreino: 0.64\n",
            "STD médio:\n",
            "\tTeste: 0.049888765156985905\n",
            "\tTreino: 0.19595917942265426\n"
          ]
        }
      ]
    }
  ]
}