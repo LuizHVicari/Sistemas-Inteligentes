{
  "nbformat": 4,
  "nbformat_minor": 0,
  "metadata": {
    "colab": {
      "provenance": [],
      "authorship_tag": "ABX9TyMlhelUTOe2GCxOhn4DjeWe",
      "include_colab_link": true
    },
    "kernelspec": {
      "name": "python3",
      "display_name": "Python 3"
    },
    "language_info": {
      "name": "python"
    }
  },
  "cells": [
    {
      "cell_type": "markdown",
      "metadata": {
        "id": "view-in-github",
        "colab_type": "text"
      },
      "source": [
        "<a href=\"https://colab.research.google.com/github/LuizHVicari/Sistemas-Inteligentes/blob/main/HW8.ipynb\" target=\"_parent\"><img src=\"https://colab.research.google.com/assets/colab-badge.svg\" alt=\"Open In Colab\"/></a>"
      ]
    },
    {
      "cell_type": "markdown",
      "source": [
        "# Regressão Linear"
      ],
      "metadata": {
        "id": "nOP55oRfitRO"
      }
    },
    {
      "cell_type": "markdown",
      "source": [
        "Crie um classificador do tipo regressão linear por método exato, mínimos quadrados (ver slide 18 L06)\n",
        "\n",
        "O objeto final deve conter os métodos fit(), predict() e score()\n",
        "\n",
        "A base de dados deve ser separada em base de treino e teste. A base de treino deve ter 66% dos dados e a base de teste deve ter 33% dos dados.\n",
        "\n",
        "Deve ser plotado o scatterplot dos pontos e a reta de decisão obtida\n",
        "\n",
        "A acurácia final deve ser medida na base de treino e na base de teste"
      ],
      "metadata": {
        "id": "FFDi2SIuirxZ"
      }
    },
    {
      "cell_type": "code",
      "source": [
        "import pandas as pd\n",
        "import seaborn as sns\n",
        "import matplotlib.pyplot as plt\n",
        "import numpy as np\n",
        "\n",
        "lista_maca_peso = [168, 201, 184, 216, 177, 230, 149, 192, 206, 219, 177, 194, 241, 162, 207]\n",
        "lista_maca_diam = [7.7, 9.2, 8.5, 9.8, 8.1, 10.1, 6.9, 8.8, 9.4, 10.0, 8.2, 9.0, 10.6, 7.5, 9.6]\n",
        "maca = ['maca' for i in range(15)]\n",
        "\n",
        "lista_laranja_peso = [150, 162, 170, 182, 195, 204, 213, 221, 234, 246, 257, 266, 278, 287, 296]\n",
        "lista_laranja_diam = [6, 6.5, 6.8, 7.1, 7.4, 7.7, 8, 8.3, 8.6, 8.9, 9.2, 9.5, 9.8, 10.1, 10.4]\n",
        "laranja = ['laranja' for i in range(15)]\n",
        "\n",
        "peso = lista_maca_peso + lista_laranja_peso\n",
        "diam = lista_maca_diam + lista_laranja_diam\n",
        "frutas = maca + laranja\n",
        "\n",
        "df = pd.DataFrame(columns=['peso', 'diametro', 'fruta'])\n",
        "df['peso'] = peso\n",
        "df['diametro'] = diam\n",
        "df['fruta'] = frutas\n",
        "\n",
        "df['fruta'] = df.apply(lambda x : 0 if x['fruta'] == 'maca' else 1, axis=1)"
      ],
      "metadata": {
        "id": "dNqVjZQDwmbY"
      },
      "execution_count": 1,
      "outputs": []
    },
    {
      "cell_type": "code",
      "source": [
        "from sklearn.model_selection import train_test_split\n",
        "\n",
        "X_train, X_test, y_train, y_test = train_test_split(df.drop(columns=['fruta']), df['fruta'])"
      ],
      "metadata": {
        "id": "kUU-UhTUxXpz"
      },
      "execution_count": 2,
      "outputs": []
    },
    {
      "cell_type": "code",
      "source": [
        "class LinearRegressor():\n",
        "    def fit(self, X_train, y_train):\n",
        "        X = np.c_[np.ones((X_train.shape[0], 1)), X_train]\n",
        "        self.weights = np.linalg.inv(X.T.dot(X)).dot(X.T).dot(y_train)\n",
        "\n",
        "    def predict(self, X):\n",
        "        X_ = np.c_[np.ones((X.shape[0], 1)), X]\n",
        "        return X_.dot(self.weights)\n",
        "\n",
        "    def MSE(self, y, pred):\n",
        "        return np.sum(np.square(y - pred)) / y.shape[0]\n",
        "\n",
        "lr = LinearRegressor()\n",
        "lr.fit(X_train, y_train)\n"
      ],
      "metadata": {
        "id": "2ShgIkrIDq-4"
      },
      "execution_count": 3,
      "outputs": []
    },
    {
      "cell_type": "code",
      "source": [
        "pred = lr.predict(X_train)\n",
        "pred, y_train.to_numpy()"
      ],
      "metadata": {
        "colab": {
          "base_uri": "https://localhost:8080/"
        },
        "id": "1jPHRDxwFIJS",
        "outputId": "4f09a3e9-7a93-4504-84e4-32411879ddfc"
      },
      "execution_count": 4,
      "outputs": [
        {
          "output_type": "execute_result",
          "data": {
            "text/plain": [
              "(array([ 0.97748984,  1.05834967, -0.01946658,  0.88119722,  1.05066278,\n",
              "         0.04852275,  0.25505305, -0.09258051,  0.93512345, -0.09383214,\n",
              "         0.95049722, -0.04383789,  1.09302917,  0.94281033,  0.07545635,\n",
              "        -0.03358871,  0.12163667, -0.15544525,  0.90818985,  0.18193912,\n",
              "         1.10071606,  0.85807755]),\n",
              " array([1, 1, 0, 1, 1, 0, 0, 0, 1, 0, 1, 0, 1, 1, 0, 0, 0, 0, 1, 0, 1, 1]))"
            ]
          },
          "metadata": {},
          "execution_count": 4
        }
      ]
    },
    {
      "cell_type": "code",
      "source": [
        "lr.MSE(y_train, pred)"
      ],
      "metadata": {
        "colab": {
          "base_uri": "https://localhost:8080/"
        },
        "id": "33vy7u2AFwXw",
        "outputId": "0acc1e10-d010-4e39-9b02-8547b6044734"
      },
      "execution_count": 5,
      "outputs": [
        {
          "output_type": "execute_result",
          "data": {
            "text/plain": [
              "0.011084402369677995"
            ]
          },
          "metadata": {},
          "execution_count": 5
        }
      ]
    },
    {
      "cell_type": "code",
      "source": [
        "import seaborn as sns\n",
        "\n",
        "line = lambda x: (lr.weights[1]*x+lr.weights[0])/-lr.weights[2] \n",
        "\n",
        "X = X_train.to_numpy()\n",
        "sns.scatterplot(x=X[:,0], y=X[:,1], hue=y_train)\n",
        "plt.plot([140, 280], [line(140), line(280)])"
      ],
      "metadata": {
        "colab": {
          "base_uri": "https://localhost:8080/",
          "height": 447
        },
        "id": "VTWkfhgGGrHp",
        "outputId": "64e3cb6c-247d-4d65-b8f7-791d5ec1e13d"
      },
      "execution_count": 6,
      "outputs": [
        {
          "output_type": "execute_result",
          "data": {
            "text/plain": [
              "[<matplotlib.lines.Line2D at 0x7f87475ddea0>]"
            ]
          },
          "metadata": {},
          "execution_count": 6
        },
        {
          "output_type": "display_data",
          "data": {
            "text/plain": [
              "<Figure size 640x480 with 1 Axes>"
            ],
            "image/png": "[encoded data removed]"
          },
          "metadata": {}
        }
      ]
    },
    {
      "cell_type": "code",
      "source": [
        "from sklearn.model_selection import ShuffleSplit\n",
        "import warnings\n",
        "\n",
        "warnings.filterwarnings('ignore')\n",
        "\n",
        "rs = ShuffleSplit(n_splits=5, test_size=0.33, random_state=1)\n",
        "\n",
        "train_score = np.array([])\n",
        "test_score = np.array([])\n",
        "\n",
        "for i,(train_data, test_data)in enumerate(rs.split(df.drop(columns=['fruta']))):\n",
        "    print(f'Iteração {i+1}')\n",
        "    train_data_i = df.query(' index in @train_data')\n",
        "    X_train_i = train_data_i.drop(columns=['fruta'])\n",
        "    y_train_i = train_data_i['fruta']\n",
        "\n",
        "    y_train_i = y_train_i[:,np.newaxis]\n",
        "\n",
        "    test_data_i = df.query('index in @test_data')\n",
        "    X_test_i = test_data_i.drop(columns=['fruta'])\n",
        "    y_test_i = test_data_i['fruta']\n",
        "\n",
        "    y_test_i = y_test_i[:,np.newaxis]\n",
        "\n",
        "    lr = LinearRegressor()\n",
        "\n",
        "    lr.fit(X_train_i, y_train_i)\n",
        "\n",
        "    y_pred_train_i = lr.predict(X_train_i)\n",
        "    y_pred_test_i = lr.predict(X_test_i)\n",
        "\n",
        "    train_score_i = lr.MSE(y_pred_train_i, y_train_i)\n",
        "    test_score_i = lr.MSE(y_pred_test_i, y_test_i)\n",
        "\n",
        "    train_score = np.append(train_score, train_score_i)\n",
        "    test_score = np.append(test_score, test_score_i)\n",
        "\n",
        "    print(f'MSE na base de treino: {train_score_i}')\n",
        "    print(f'MSE na base de teste: {test_score_i}')\n",
        "\n",
        "print(f'\\nMSE médio:\\n\\tTeste: {train_score.mean()}\\n\\tTreino: {test_score.mean()}')\n",
        "print(f'STD:\\n\\tTeste: {train_score.std()}\\n\\tTreino: {test_score.std()}')"
      ],
      "metadata": {
        "colab": {
          "base_uri": "https://localhost:8080/"
        },
        "id": "NsspHnmFIr8-",
        "outputId": "f47cddd2-86f1-4e5a-aecf-d8c77ee9cee6"
      },
      "execution_count": 7,
      "outputs": [
        {
          "output_type": "stream",
          "name": "stdout",
          "text": [
            "Iteração 1\n",
            "MSE na base de treino: 0.018220876659026046\n",
            "MSE na base de teste: 0.016523873018584267\n",
            "Iteração 2\n",
            "MSE na base de treino: 0.01358213507902235\n",
            "MSE na base de teste: 0.024498406380254363\n",
            "Iteração 3\n",
            "MSE na base de treino: 0.014204734153338283\n",
            "MSE na base de teste: 0.038468627280451806\n",
            "Iteração 4\n",
            "MSE na base de treino: 0.015946049888723893\n",
            "MSE na base de teste: 0.01794345430212816\n",
            "Iteração 5\n",
            "MSE na base de treino: 0.011717017095848239\n",
            "MSE na base de teste: 0.02895494174519956\n",
            "\n",
            "MSE médio:\n",
            "\tTeste: 0.01473416257519176\n",
            "\tTreino: 0.025277860545323626\n",
            "STD:\n",
            "\tTeste: 0.002206194670124473\n",
            "\tTreino: 0.007981862120646058\n"
          ]
        }
      ]
    }
  ]
}