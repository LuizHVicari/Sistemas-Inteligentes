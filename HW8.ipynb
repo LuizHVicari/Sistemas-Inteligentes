{
  "nbformat": 4,
  "nbformat_minor": 0,
  "metadata": {
    "colab": {
      "provenance": [],
      "authorship_tag": "ABX9TyNkxW6hOJgekRPuFfqacMua",
      "include_colab_link": true
    },
    "kernelspec": {
      "name": "python3",
      "display_name": "Python 3"
    },
    "language_info": {
      "name": "python"
    }
  },
  "cells": [
    {
      "cell_type": "markdown",
      "metadata": {
        "id": "view-in-github",
        "colab_type": "text"
      },
      "source": [
        "<a href=\"https://colab.research.google.com/github/LuizHVicari/Sistemas-Inteligentes/blob/main/HW8.ipynb\" target=\"_parent\"><img src=\"https://colab.research.google.com/assets/colab-badge.svg\" alt=\"Open In Colab\"/></a>"
      ]
    },
    {
      "cell_type": "markdown",
      "source": [
        "# Regressão Linear"
      ],
      "metadata": {
        "id": "nOP55oRfitRO"
      }
    },
    {
      "cell_type": "markdown",
      "source": [
        "Crie um classificador do tipo regressão linear por método exato, mínimos quadrados (ver slide 18 L06)\n",
        "\n",
        "O objeto final deve conter os métodos fit(), predict() e score()\n",
        "\n",
        "A base de dados deve ser separada em base de treino e teste. A base de treino deve ter 66% dos dados e a base de teste deve ter 33% dos dados.\n",
        "\n",
        "Deve ser plotado o scatterplot dos pontos e a reta de decisão obtida\n",
        "\n",
        "A acurácia final deve ser medida na base de treino e na base de teste"
      ],
      "metadata": {
        "id": "FFDi2SIuirxZ"
      }
    },
    {
      "cell_type": "code",
      "source": [
        "import pandas as pd\n",
        "import seaborn as sns\n",
        "import matplotlib.pyplot as plt\n",
        "import numpy as np\n",
        "\n",
        "lista_maca_peso = [168, 201, 184, 216, 177, 230, 149, 192, 206, 219, 177, 194, 241, 162, 207]\n",
        "lista_maca_diam = [7.7, 9.2, 8.5, 9.8, 8.1, 10.1, 6.9, 8.8, 9.4, 10.0, 8.2, 9.0, 10.6, 7.5, 9.6]\n",
        "maca = ['maca' for i in range(15)]\n",
        "\n",
        "lista_laranja_peso = [150, 162, 170, 182, 195, 204, 213, 221, 234, 246, 257, 266, 278, 287, 296]\n",
        "lista_laranja_diam = [6, 6.5, 6.8, 7.1, 7.4, 7.7, 8, 8.3, 8.6, 8.9, 9.2, 9.5, 9.8, 10.1, 10.4]\n",
        "laranja = ['laranja' for i in range(15)]\n",
        "\n",
        "peso = lista_maca_peso + lista_laranja_peso\n",
        "diam = lista_maca_diam + lista_laranja_diam\n",
        "frutas = maca + laranja\n",
        "\n",
        "df = pd.DataFrame(columns=['peso', 'diametro', 'fruta'])\n",
        "df['peso'] = peso\n",
        "df['diametro'] = diam\n",
        "df['fruta'] = frutas\n",
        "\n",
        "df['fruta'] = df.apply(lambda x : 1 if x['fruta'] == 'maca' else 0, axis=1)"
      ],
      "metadata": {
        "id": "dNqVjZQDwmbY"
      },
      "execution_count": 88,
      "outputs": []
    },
    {
      "cell_type": "code",
      "source": [
        "df"
      ],
      "metadata": {
        "colab": {
          "base_uri": "https://localhost:8080/",
          "height": 990
        },
        "id": "G7tpZtxKT9VW",
        "outputId": "889f8e49-05c7-4900-8d5f-3e5955481793"
      },
      "execution_count": 89,
      "outputs": [
        {
          "output_type": "execute_result",
          "data": {
            "text/plain": [
              "    peso  diametro  fruta\n",
              "0    168       7.7      1\n",
              "1    201       9.2      1\n",
              "2    184       8.5      1\n",
              "3    216       9.8      1\n",
              "4    177       8.1      1\n",
              "5    230      10.1      1\n",
              "6    149       6.9      1\n",
              "7    192       8.8      1\n",
              "8    206       9.4      1\n",
              "9    219      10.0      1\n",
              "10   177       8.2      1\n",
              "11   194       9.0      1\n",
              "12   241      10.6      1\n",
              "13   162       7.5      1\n",
              "14   207       9.6      1\n",
              "15   150       6.0      0\n",
              "16   162       6.5      0\n",
              "17   170       6.8      0\n",
              "18   182       7.1      0\n",
              "19   195       7.4      0\n",
              "20   204       7.7      0\n",
              "21   213       8.0      0\n",
              "22   221       8.3      0\n",
              "23   234       8.6      0\n",
              "24   246       8.9      0\n",
              "25   257       9.2      0\n",
              "26   266       9.5      0\n",
              "27   278       9.8      0\n",
              "28   287      10.1      0\n",
              "29   296      10.4      0"
            ],
            "text/html": [
              "\n",
              "  <div id=\"df-4da140ff-7982-42ad-a8c2-f3853e678e67\">\n",
              "    <div class=\"colab-df-container\">\n",
              "      <div>\n",
              "<style scoped>\n",
              "    .dataframe tbody tr th:only-of-type {\n",
              "        vertical-align: middle;\n",
              "    }\n",
              "\n",
              "    .dataframe tbody tr th {\n",
              "        vertical-align: top;\n",
              "    }\n",
              "\n",
              "    .dataframe thead th {\n",
              "        text-align: right;\n",
              "    }\n",
              "</style>\n",
              "<table border=\"1\" class=\"dataframe\">\n",
              "  <thead>\n",
              "    <tr style=\"text-align: right;\">\n",
              "      <th></th>\n",
              "      <th>peso</th>\n",
              "      <th>diametro</th>\n",
              "      <th>fruta</th>\n",
              "    </tr>\n",
              "  </thead>\n",
              "  <tbody>\n",
              "    <tr>\n",
              "      <th>0</th>\n",
              "      <td>168</td>\n",
              "      <td>7.7</td>\n",
              "      <td>1</td>\n",
              "    </tr>\n",
              "    <tr>\n",
              "      <th>1</th>\n",
              "      <td>201</td>\n",
              "      <td>9.2</td>\n",
              "      <td>1</td>\n",
              "    </tr>\n",
              "    <tr>\n",
              "      <th>2</th>\n",
              "      <td>184</td>\n",
              "      <td>8.5</td>\n",
              "      <td>1</td>\n",
              "    </tr>\n",
              "    <tr>\n",
              "      <th>3</th>\n",
              "      <td>216</td>\n",
              "      <td>9.8</td>\n",
              "      <td>1</td>\n",
              "    </tr>\n",
              "    <tr>\n",
              "      <th>4</th>\n",
              "      <td>177</td>\n",
              "      <td>8.1</td>\n",
              "      <td>1</td>\n",
              "    </tr>\n",
              "    <tr>\n",
              "      <th>5</th>\n",
              "      <td>230</td>\n",
              "      <td>10.1</td>\n",
              "      <td>1</td>\n",
              "    </tr>\n",
              "    <tr>\n",
              "      <th>6</th>\n",
              "      <td>149</td>\n",
              "      <td>6.9</td>\n",
              "      <td>1</td>\n",
              "    </tr>\n",
              "    <tr>\n",
              "      <th>7</th>\n",
              "      <td>192</td>\n",
              "      <td>8.8</td>\n",
              "      <td>1</td>\n",
              "    </tr>\n",
              "    <tr>\n",
              "      <th>8</th>\n",
              "      <td>206</td>\n",
              "      <td>9.4</td>\n",
              "      <td>1</td>\n",
              "    </tr>\n",
              "    <tr>\n",
              "      <th>9</th>\n",
              "      <td>219</td>\n",
              "      <td>10.0</td>\n",
              "      <td>1</td>\n",
              "    </tr>\n",
              "    <tr>\n",
              "      <th>10</th>\n",
              "      <td>177</td>\n",
              "      <td>8.2</td>\n",
              "      <td>1</td>\n",
              "    </tr>\n",
              "    <tr>\n",
              "      <th>11</th>\n",
              "      <td>194</td>\n",
              "      <td>9.0</td>\n",
              "      <td>1</td>\n",
              "    </tr>\n",
              "    <tr>\n",
              "      <th>12</th>\n",
              "      <td>241</td>\n",
              "      <td>10.6</td>\n",
              "      <td>1</td>\n",
              "    </tr>\n",
              "    <tr>\n",
              "      <th>13</th>\n",
              "      <td>162</td>\n",
              "      <td>7.5</td>\n",
              "      <td>1</td>\n",
              "    </tr>\n",
              "    <tr>\n",
              "      <th>14</th>\n",
              "      <td>207</td>\n",
              "      <td>9.6</td>\n",
              "      <td>1</td>\n",
              "    </tr>\n",
              "    <tr>\n",
              "      <th>15</th>\n",
              "      <td>150</td>\n",
              "      <td>6.0</td>\n",
              "      <td>0</td>\n",
              "    </tr>\n",
              "    <tr>\n",
              "      <th>16</th>\n",
              "      <td>162</td>\n",
              "      <td>6.5</td>\n",
              "      <td>0</td>\n",
              "    </tr>\n",
              "    <tr>\n",
              "      <th>17</th>\n",
              "      <td>170</td>\n",
              "      <td>6.8</td>\n",
              "      <td>0</td>\n",
              "    </tr>\n",
              "    <tr>\n",
              "      <th>18</th>\n",
              "      <td>182</td>\n",
              "      <td>7.1</td>\n",
              "      <td>0</td>\n",
              "    </tr>\n",
              "    <tr>\n",
              "      <th>19</th>\n",
              "      <td>195</td>\n",
              "      <td>7.4</td>\n",
              "      <td>0</td>\n",
              "    </tr>\n",
              "    <tr>\n",
              "      <th>20</th>\n",
              "      <td>204</td>\n",
              "      <td>7.7</td>\n",
              "      <td>0</td>\n",
              "    </tr>\n",
              "    <tr>\n",
              "      <th>21</th>\n",
              "      <td>213</td>\n",
              "      <td>8.0</td>\n",
              "      <td>0</td>\n",
              "    </tr>\n",
              "    <tr>\n",
              "      <th>22</th>\n",
              "      <td>221</td>\n",
              "      <td>8.3</td>\n",
              "      <td>0</td>\n",
              "    </tr>\n",
              "    <tr>\n",
              "      <th>23</th>\n",
              "      <td>234</td>\n",
              "      <td>8.6</td>\n",
              "      <td>0</td>\n",
              "    </tr>\n",
              "    <tr>\n",
              "      <th>24</th>\n",
              "      <td>246</td>\n",
              "      <td>8.9</td>\n",
              "      <td>0</td>\n",
              "    </tr>\n",
              "    <tr>\n",
              "      <th>25</th>\n",
              "      <td>257</td>\n",
              "      <td>9.2</td>\n",
              "      <td>0</td>\n",
              "    </tr>\n",
              "    <tr>\n",
              "      <th>26</th>\n",
              "      <td>266</td>\n",
              "      <td>9.5</td>\n",
              "      <td>0</td>\n",
              "    </tr>\n",
              "    <tr>\n",
              "      <th>27</th>\n",
              "      <td>278</td>\n",
              "      <td>9.8</td>\n",
              "      <td>0</td>\n",
              "    </tr>\n",
              "    <tr>\n",
              "      <th>28</th>\n",
              "      <td>287</td>\n",
              "      <td>10.1</td>\n",
              "      <td>0</td>\n",
              "    </tr>\n",
              "    <tr>\n",
              "      <th>29</th>\n",
              "      <td>296</td>\n",
              "      <td>10.4</td>\n",
              "      <td>0</td>\n",
              "    </tr>\n",
              "  </tbody>\n",
              "</table>\n",
              "</div>\n",
              "      <button class=\"colab-df-convert\" onclick=\"convertToInteractive('df-4da140ff-7982-42ad-a8c2-f3853e678e67')\"\n",
              "              title=\"Convert this dataframe to an interactive table.\"\n",
              "              style=\"display:none;\">\n",
              "        \n",
              "  <svg xmlns=\"http://www.w3.org/2000/svg\" height=\"24px\"viewBox=\"0 0 24 24\"\n",
              "       width=\"24px\">\n",
              "    <path d=\"M0 0h24v24H0V0z\" fill=\"none\"/>\n",
              "    <path d=\"M18.56 5.44l.94 2.06.94-2.06 2.06-.94-2.06-.94-.94-2.06-.94 2.06-2.06.94zm-11 1L8.5 8.5l.94-2.06 2.06-.94-2.06-.94L8.5 2.5l-.94 2.06-2.06.94zm10 10l.94 2.06.94-2.06 2.06-.94-2.06-.94-.94-2.06-.94 2.06-2.06.94z\"/><path d=\"M17.41 7.96l-1.37-1.37c-.4-.4-.92-.59-1.43-.59-.52 0-1.04.2-1.43.59L10.3 9.45l-7.72 7.72c-.78.78-.78 2.05 0 2.83L4 21.41c.39.39.9.59 1.41.59.51 0 1.02-.2 1.41-.59l7.78-7.78 2.81-2.81c.8-.78.8-2.07 0-2.86zM5.41 20L4 18.59l7.72-7.72 1.47 1.35L5.41 20z\"/>\n",
              "  </svg>\n",
              "      </button>\n",
              "      \n",
              "  <style>\n",
              "    .colab-df-container {\n",
              "      display:flex;\n",
              "      flex-wrap:wrap;\n",
              "      gap: 12px;\n",
              "    }\n",
              "\n",
              "    .colab-df-convert {\n",
              "      background-color: #E8F0FE;\n",
              "      border: none;\n",
              "      border-radius: 50%;\n",
              "      cursor: pointer;\n",
              "      display: none;\n",
              "      fill: #1967D2;\n",
              "      height: 32px;\n",
              "      padding: 0 0 0 0;\n",
              "      width: 32px;\n",
              "    }\n",
              "\n",
              "    .colab-df-convert:hover {\n",
              "      background-color: #E2EBFA;\n",
              "      box-shadow: 0px 1px 2px rgba(60, 64, 67, 0.3), 0px 1px 3px 1px rgba(60, 64, 67, 0.15);\n",
              "      fill: #174EA6;\n",
              "    }\n",
              "\n",
              "    [theme=dark] .colab-df-convert {\n",
              "      background-color: #3B4455;\n",
              "      fill: #D2E3FC;\n",
              "    }\n",
              "\n",
              "    [theme=dark] .colab-df-convert:hover {\n",
              "      background-color: #434B5C;\n",
              "      box-shadow: 0px 1px 3px 1px rgba(0, 0, 0, 0.15);\n",
              "      filter: drop-shadow(0px 1px 2px rgba(0, 0, 0, 0.3));\n",
              "      fill: #FFFFFF;\n",
              "    }\n",
              "  </style>\n",
              "\n",
              "      <script>\n",
              "        const buttonEl =\n",
              "          document.querySelector('#df-4da140ff-7982-42ad-a8c2-f3853e678e67 button.colab-df-convert');\n",
              "        buttonEl.style.display =\n",
              "          google.colab.kernel.accessAllowed ? 'block' : 'none';\n",
              "\n",
              "        async function convertToInteractive(key) {\n",
              "          const element = document.querySelector('#df-4da140ff-7982-42ad-a8c2-f3853e678e67');\n",
              "          const dataTable =\n",
              "            await google.colab.kernel.invokeFunction('convertToInteractive',\n",
              "                                                     [key], {});\n",
              "          if (!dataTable) return;\n",
              "\n",
              "          const docLinkHtml = 'Like what you see? Visit the ' +\n",
              "            '<a target=\"_blank\" href=https://colab.research.google.com/notebooks/data_table.ipynb>data table notebook</a>'\n",
              "            + ' to learn more about interactive tables.';\n",
              "          element.innerHTML = '';\n",
              "          dataTable['output_type'] = 'display_data';\n",
              "          await google.colab.output.renderOutput(dataTable, element);\n",
              "          const docLink = document.createElement('div');\n",
              "          docLink.innerHTML = docLinkHtml;\n",
              "          element.appendChild(docLink);\n",
              "        }\n",
              "      </script>\n",
              "    </div>\n",
              "  </div>\n",
              "  "
            ]
          },
          "metadata": {},
          "execution_count": 89
        }
      ]
    },
    {
      "cell_type": "code",
      "source": [
        "from sklearn.model_selection import train_test_split\n",
        "\n",
        "X_train, X_test, y_train, y_test = train_test_split(df.drop(columns=['fruta']), df['fruta'])"
      ],
      "metadata": {
        "id": "kUU-UhTUxXpz"
      },
      "execution_count": 90,
      "outputs": []
    },
    {
      "cell_type": "code",
      "source": [
        "from sklearn.preprocessing import StandardScaler\n",
        "\n",
        "class LinearRegressor():\n",
        "    def fit(self, X_train, y_train):\n",
        "        X = np.c_[np.ones((X_train.shape[0], 1)), X_train]\n",
        "        self.weights = np.linalg.inv(X.T.dot(X)).dot(X.T).dot(y_train)\n",
        "\n",
        "    def predict(self, X):\n",
        "        X_ = np.c_[np.ones((X.shape[0], 1)), X]\n",
        "        return X_.dot(self.weights)\n",
        "\n",
        "    def MSE(self, y, pred):\n",
        "        return np.sum(np.square(y - pred)) / y.shape[0]\n",
        "\n",
        "lr = LinearRegressor()\n",
        "ss = StandardScaler()\n",
        "X_train = ss.fit_transform(X_train)\n",
        "lr.fit(X_train, y_train)\n"
      ],
      "metadata": {
        "id": "2ShgIkrIDq-4"
      },
      "execution_count": 91,
      "outputs": []
    },
    {
      "cell_type": "code",
      "source": [
        "lr.weights"
      ],
      "metadata": {
        "colab": {
          "base_uri": "https://localhost:8080/"
        },
        "id": "_aVy7VaRN-aw",
        "outputId": "8670bad3-c7ba-4cfe-cec2-61e20f1a6938"
      },
      "execution_count": 92,
      "outputs": [
        {
          "output_type": "execute_result",
          "data": {
            "text/plain": [
              "array([ 0.5       , -0.72957164,  0.73630326])"
            ]
          },
          "metadata": {},
          "execution_count": 92
        }
      ]
    },
    {
      "cell_type": "code",
      "source": [
        "pred = lr.predict(X_train)\n",
        "pred, y_train.to_numpy()"
      ],
      "metadata": {
        "colab": {
          "base_uri": "https://localhost:8080/"
        },
        "id": "1jPHRDxwFIJS",
        "outputId": "d4d93d6c-858d-463a-b2c0-f6a2d589ba58"
      },
      "execution_count": 93,
      "outputs": [
        {
          "output_type": "execute_result",
          "data": {
            "text/plain": [
              "(array([ 0.17336415,  0.05687758,  0.68100042, -0.06161881,  1.0329863 ,\n",
              "         1.09575169, -0.10111761,  0.99549732,  1.05256821,  0.78426952,\n",
              "         0.05587267,  0.11093373,  0.94963408,  1.1571772 ,  0.07813435,\n",
              "         0.78493947,  1.15583731,  0.05486775, -0.15785353, -0.00186816,\n",
              "         0.90812545,  0.19462092]),\n",
              " array([0, 0, 1, 0, 1, 1, 0, 1, 1, 1, 0, 0, 1, 1, 0, 1, 1, 0, 0, 0, 1, 0]))"
            ]
          },
          "metadata": {},
          "execution_count": 93
        }
      ]
    },
    {
      "cell_type": "code",
      "source": [
        "import seaborn as sns\n",
        "\n",
        "line = lambda x: (x*-0.75)/-0.58\n",
        "\n",
        "X = X_train#.to_numpy()\n",
        "sns.scatterplot(x=X[:,0], y=X[:,1], hue=y_train)\n",
        "plt.plot([-1.5, 2.0], [line(-1.5), line(2.0)])"
      ],
      "metadata": {
        "colab": {
          "base_uri": "https://localhost:8080/",
          "height": 447
        },
        "id": "3B1av-zqQcYx",
        "outputId": "41801140-df29-4cdb-c50d-4a5e36f2c0d2"
      },
      "execution_count": 94,
      "outputs": [
        {
          "output_type": "execute_result",
          "data": {
            "text/plain": [
              "[<matplotlib.lines.Line2D at 0x7fb3d4760160>]"
            ]
          },
          "metadata": {},
          "execution_count": 94
        },
        {
          "output_type": "display_data",
          "data": {
            "text/plain": [
              "<Figure size 640x480 with 1 Axes>"
            ],
            "image/png": "[encoded data removed]"
          },
          "metadata": {}
        }
      ]
    },
    {
      "cell_type": "code",
      "source": [
        "lr.MSE(X_train[:, 1], pred)"
      ],
      "metadata": {
        "colab": {
          "base_uri": "https://localhost:8080/"
        },
        "id": "33vy7u2AFwXw",
        "outputId": "c18aafb3-dbbc-4eb5-ff8a-fa91908b0df6"
      },
      "execution_count": 95,
      "outputs": [
        {
          "output_type": "execute_result",
          "data": {
            "text/plain": [
              "1.1536118766909844"
            ]
          },
          "metadata": {},
          "execution_count": 95
        }
      ]
    },
    {
      "cell_type": "code",
      "source": [
        "def regressor_classifier(value):\n",
        "    return 0 if value <= 0.5 else 1"
      ],
      "metadata": {
        "id": "XWHvBL7BIl6T"
      },
      "execution_count": 96,
      "outputs": []
    },
    {
      "cell_type": "code",
      "source": [
        "from sklearn.model_selection import ShuffleSplit\n",
        "import warnings\n",
        "\n",
        "warnings.filterwarnings('ignore')\n",
        "\n",
        "rs = ShuffleSplit(n_splits=5, test_size=0.33, random_state=1)\n",
        "\n",
        "train_score = np.array([])\n",
        "test_score = np.array([])\n",
        "\n",
        "train_accuracy = np.array([])\n",
        "test_accuracy = np.array([])\n",
        "\n",
        "for i,(train_data, test_data)in enumerate(rs.split(df.drop(columns=['fruta']))):\n",
        "    print(f'Iteração {i+1}')\n",
        "    train_data_i = df.query(' index in @train_data')\n",
        "    X_train_i = train_data_i.drop(columns=['fruta'])\n",
        "    y_train_i = train_data_i['fruta']\n",
        "\n",
        "    y_train_i = y_train_i[:,np.newaxis]\n",
        "\n",
        "    test_data_i = df.query('index in @test_data')\n",
        "    X_test_i = test_data_i.drop(columns=['fruta'])\n",
        "    y_test_i = test_data_i['fruta']\n",
        "\n",
        "    ss = StandardScaler()\n",
        "    ss.fit(X_train_i)\n",
        "    X_train_i = ss.transform(X_train_i)\n",
        "    X_test_i = ss.transform(X_test_i)\n",
        "\n",
        "    y_test_i = y_test_i[:,np.newaxis]\n",
        "\n",
        "    lr = LinearRegressor()\n",
        "\n",
        "    lr.fit(X_train_i, y_train_i)\n",
        "\n",
        "    y_pred_train_i = lr.predict(X_train_i)\n",
        "    y_pred_test_i = lr.predict(X_test_i)\n",
        "\n",
        "    pred_i = list()\n",
        "\n",
        "    for value in y_pred_train_i:\n",
        "        pred_i.append(regressor_classifier(value))\n",
        "    pred_i = np.c_[pred_i]\n",
        "    train_acc = np.sum(pred_i == y_train_i)/ y_train_i.shape[0]\n",
        "    print('Precisão na base de treino: ', train_acc)\n",
        "\n",
        "    pred_i = list()\n",
        "\n",
        "    for value in y_pred_test_i:\n",
        "        pred_i.append(regressor_classifier(value))\n",
        "    pred_i = np.c_[pred_i]\n",
        "    test_acc = np.sum(pred_i == y_test_i)/ y_test_i.shape[0]\n",
        "    print('Precisão na base de teste: ', test_acc)\n",
        "\n",
        "    train_accuracy = np.append(train_accuracy, train_acc)\n",
        "    test_accuracy = np.append(test_accuracy, test_acc)\n",
        "\n",
        "    train_score_i = lr.MSE(y_pred_train_i, y_train_i)\n",
        "    test_score_i = lr.MSE(y_pred_test_i, y_test_i)\n",
        "\n",
        "    train_score = np.append(train_score, train_score_i)\n",
        "    test_score = np.append(test_score, test_score_i)\n",
        "\n",
        "    print(f'MSE na base de treino: {train_score_i}')\n",
        "    print(f'MSE na base de teste: {test_score_i}')\n",
        "\n",
        "print(f'\\nMSE médio:\\n\\tTreino: {train_score.mean()}\\n\\tTeste: {test_score.mean()}')\n",
        "print(f'STD:\\n\\tTreino: {train_score.std()}\\n\\tTeste: {test_score.std()}')\n",
        "print(f'Acurácia média:\\n\\tTreino: {train_accuracy.mean()}\\n\\tTeste: {test_accuracy.mean()}')\n",
        "print(f'STD:\\n\\tTreino: {train_accuracy.std()}\\n\\tTeste: {test_accuracy.std()}')"
      ],
      "metadata": {
        "id": "NsspHnmFIr8-",
        "colab": {
          "base_uri": "https://localhost:8080/"
        },
        "outputId": "6a954852-e0a2-47d8-aeba-3a3e567e9283"
      },
      "execution_count": 97,
      "outputs": [
        {
          "output_type": "stream",
          "name": "stdout",
          "text": [
            "Iteração 1\n",
            "Precisão na base de treino:  1.0\n",
            "Precisão na base de teste:  1.0\n",
            "MSE na base de treino: 0.018220876659026067\n",
            "MSE na base de teste: 0.01652387301858506\n",
            "Iteração 2\n",
            "Precisão na base de treino:  1.0\n",
            "Precisão na base de teste:  1.0\n",
            "MSE na base de treino: 0.013582135079022312\n",
            "MSE na base de teste: 0.02449840638025439\n",
            "Iteração 3\n",
            "Precisão na base de treino:  1.0\n",
            "Precisão na base de teste:  1.0\n",
            "MSE na base de treino: 0.014204734153338274\n",
            "MSE na base de teste: 0.0384686272804571\n",
            "Iteração 4\n",
            "Precisão na base de treino:  1.0\n",
            "Precisão na base de teste:  1.0\n",
            "MSE na base de treino: 0.01594604988872389\n",
            "MSE na base de teste: 0.017943454302128937\n",
            "Iteração 5\n",
            "Precisão na base de treino:  1.0\n",
            "Precisão na base de teste:  1.0\n",
            "MSE na base de treino: 0.011717017095848237\n",
            "MSE na base de teste: 0.028954941745200045\n",
            "\n",
            "MSE médio:\n",
            "\tTreino: 0.014734162575191756\n",
            "\tTeste: 0.02527786054532511\n",
            "STD:\n",
            "\tTreino: 0.0022061946701244844\n",
            "\tTeste: 0.007981862120647535\n",
            "Acurácia média:\n",
            "\tTreino: 1.0\n",
            "\tTeste: 1.0\n",
            "STD:\n",
            "\tTreino: 0.0\n",
            "\tTeste: 0.0\n"
          ]
        }
      ]
    }
  ]
}