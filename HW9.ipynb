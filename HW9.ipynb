{
  "nbformat": 4,
  "nbformat_minor": 0,
  "metadata": {
    "colab": {
      "provenance": [],
      "authorship_tag": "ABX9TyMpJn7G5A22N7u93akw727G",
      "include_colab_link": true
    },
    "kernelspec": {
      "name": "python3",
      "display_name": "Python 3"
    },
    "language_info": {
      "name": "python"
    }
  },
  "cells": [
    {
      "cell_type": "markdown",
      "metadata": {
        "id": "view-in-github",
        "colab_type": "text"
      },
      "source": [
        "<a href=\"https://colab.research.google.com/github/LuizHVicari/Sistemas-Inteligentes/blob/main/HW9.ipynb\" target=\"_parent\"><img src=\"https://colab.research.google.com/assets/colab-badge.svg\" alt=\"Open In Colab\"/></a>"
      ]
    },
    {
      "cell_type": "code",
      "execution_count": 175,
      "metadata": {
        "id": "Sf3r8LlRwt5A"
      },
      "outputs": [],
      "source": [
        "import pandas as pd\n",
        "import numpy as np\n",
        "import matplotlib.pyplot as plt\n",
        "import seaborn as sns"
      ]
    },
    {
      "cell_type": "code",
      "source": [
        "lista_maca_peso = [168, 201, 184, 216, 177, 230, 149, 192, 206, 219, 177, 194, 241, 162, 207]\n",
        "lista_maca_diam = [7.7, 9.2, 8.5, 9.8, 8.1, 10.1, 6.9, 8.8, 9.4, 10.0, 8.2, 9.0, 10.6, 7.5, 9.6]\n",
        "maca = ['maca' for i in range(15)]\n",
        "\n",
        "lista_laranja_peso = [150, 162, 170, 182, 195, 204, 213, 221, 234, 246, 257, 266, 278, 287, 296]\n",
        "lista_laranja_diam = [6, 6.5, 6.8, 7.1, 7.4, 7.7, 8, 8.3, 8.6, 8.9, 9.2, 9.5, 9.8, 10.1, 10.4]\n",
        "laranja = ['laranja' for i in range(15)]\n",
        "\n",
        "peso = lista_maca_peso + lista_laranja_peso\n",
        "diam = lista_maca_diam + lista_laranja_diam\n",
        "frutas = maca + laranja\n",
        "\n",
        "df = pd.DataFrame(columns=['peso', 'diametro', 'fruta'])\n",
        "df['peso'] = peso\n",
        "df['diametro'] = diam\n",
        "df['fruta'] = frutas\n",
        "\n",
        "df['fruta'] = df.apply(lambda x : 0 if x['fruta'] == 'maca' else 1, axis=1)\n",
        "# y = np.column_stack([y])"
      ],
      "metadata": {
        "id": "jPbxRhVPz3H8"
      },
      "execution_count": 176,
      "outputs": []
    },
    {
      "cell_type": "code",
      "source": [
        "from sklearn.model_selection import train_test_split\n",
        "\n",
        "X_train, X_test, y_train, y_test = train_test_split(df.drop(columns=['fruta']), df['fruta'])"
      ],
      "metadata": {
        "id": "HzsRaQDuA17S"
      },
      "execution_count": 177,
      "outputs": []
    },
    {
      "cell_type": "code",
      "source": [
        "from sklearn.preprocessing import StandardScaler\n",
        "\n",
        "ss = StandardScaler()\n",
        "X_train = ss.fit_transform(X_train)\n",
        "X_test = ss.transform(X_test)"
      ],
      "metadata": {
        "id": "yANnfyVcBKVP"
      },
      "execution_count": 178,
      "outputs": []
    },
    {
      "cell_type": "code",
      "source": [
        "class Particle():\n",
        "    def __init__(self, pb_importance, nb_importance):\n",
        "        self.pb_importance = pb_importance\n",
        "        self.nb_importance = nb_importance\n",
        "        self.velocity = np.array([0, 0, 0])\n",
        "        self.position = np.array([np.random.randint(-1000, 1000), np.random.randint(-1000, 1000), np.random.randint(-1000, 1000)]) / 1000\n",
        "        self.pb = self.position\n",
        "        self.pb_score = 0\n",
        "\n",
        "    def update_velocity(self, gbest):\n",
        "        try:\n",
        "            rand = np.random.randint(-1000, 1000) / 1000\n",
        "            self.velocity[0] = self.velocity[0] + self.pb_importance * rand * self.pb[0] + self.nb_importance * rand * gbest[0]\n",
        "            self.velocity[1] = self.velocity[1] + self.pb_importance * rand * self.pb[1] + self.nb_importance * rand * gbest[1]\n",
        "            self.velocity[2] = self.velocity[2] + self.pb_importance * rand * self.pb[2] + self.nb_importance * rand * gbest[2]\n",
        "        except OverflowError:\n",
        "            pass\n",
        "\n",
        "    def update_position(self):\n",
        "        self.position += self.velocity\n",
        "\n",
        "    def update_personal_best(self, new_score, new_position):\n",
        "        if new_score > self.pb_score:\n",
        "            self.pb_score = new_score\n",
        "            self.pb = new_position\n",
        "\n",
        "    def predict(self, X):\n",
        "        y = X[0] * self.position[0] + X[1] * self.position[1] + self.position[2]\n",
        "        return 0 if y < 0 else 1"
      ],
      "metadata": {
        "id": "Q-a1068i0g3e"
      },
      "execution_count": 179,
      "outputs": []
    },
    {
      "cell_type": "code",
      "source": [
        "class PSO():\n",
        "    def __init__(self, n_particles : int = 20, pb_importance : float = 1.0, nb_importance : float = 3.0, n_iterations : int = 100):\n",
        "        self.particles = [Particle(pb_importance, nb_importance) for _ in range(n_particles)]\n",
        "        self.n_particles = n_particles\n",
        "        self.g_best = None\n",
        "        self.g_best_score = 0\n",
        "        self.best_particle = None\n",
        "        self.n_iterations = n_iterations\n",
        "\n",
        "    def fit(self, X_train, y_train):\n",
        "        best_score = 0\n",
        "        for _ in range(self.n_iterations):\n",
        "            p_score = list()\n",
        "            for i, particle in enumerate(self.particles):\n",
        "                y_pred = list()\n",
        "                for line in X_train:\n",
        "                    y_pred.append(particle.predict(line))\n",
        "                y_pred = np.array(y_pred)\n",
        "\n",
        "                p_score.append(self.score(y_train, y_pred))\n",
        "                particle.update_personal_best(p_score[i], particle.position)\n",
        "\n",
        "            g_best_score = max(p_score)\n",
        "            g_best_pos = p_score.index(g_best_score)\n",
        "\n",
        "            if g_best_score > self.g_best_score:\n",
        "                self.g_best_score = g_best_score\n",
        "                self.best_particle = self.particles[g_best_pos]\n",
        "                self.g_best = self.best_particle.position\n",
        "\n",
        "                if self.g_best_score == 1.0:\n",
        "                    break\n",
        "\n",
        "            for i, particle in enumerate(self.particles):\n",
        "                particle.update_velocity(self.g_best)\n",
        "                particle.update_position()\n",
        "\n",
        "    def score(self, y, y_pred):\n",
        "        # print(y)\n",
        "        # print(y_pred)\n",
        "        # print(y_pred.shape)\n",
        "        return (np.sum(y == y_pred) / y_pred.shape)[0]\n",
        "\n",
        "    def predict(self, X):\n",
        "        if self.best_particle != None:\n",
        "            y_pred = list()\n",
        "            for line in X:\n",
        "                y_pred.append(self.best_particle.predict(line))\n",
        "            return np.array(y_pred)\n",
        "        else:\n",
        "            raise Exception(\"Não há partículas treinadas\")\n",
        "\n",
        "pso = PSO(n_iterations = 100)\n",
        "pso.fit(X_train, y_train)\n",
        "pred = pso.predict(X_test)\n",
        "pso.score(pred, y_test)"
      ],
      "metadata": {
        "colab": {
          "base_uri": "https://localhost:8080/"
        },
        "id": "UdbW4W6w9zGc",
        "outputId": "35dc0608-fd39-4801-c6e3-65c663e9c056"
      },
      "execution_count": 180,
      "outputs": [
        {
          "output_type": "execute_result",
          "data": {
            "text/plain": [
              "1.0"
            ]
          },
          "metadata": {},
          "execution_count": 180
        }
      ]
    },
    {
      "cell_type": "code",
      "source": [
        "pso.best_particle.position"
      ],
      "metadata": {
        "colab": {
          "base_uri": "https://localhost:8080/"
        },
        "id": "Iv7nh2E6N6JV",
        "outputId": "a1d43459-6d57-4db3-b071-cdba838aeedf"
      },
      "execution_count": 181,
      "outputs": [
        {
          "output_type": "execute_result",
          "data": {
            "text/plain": [
              "array([ 4.709, -3.223,  0.756])"
            ]
          },
          "metadata": {},
          "execution_count": 181
        }
      ]
    },
    {
      "cell_type": "code",
      "source": [
        "from sklearn.model_selection import ShuffleSplit\n",
        "import warnings\n",
        "\n",
        "warnings.filterwarnings('ignore')\n",
        "\n",
        "rs = ShuffleSplit(n_splits=5, test_size=0.33, random_state=1)\n",
        "\n",
        "train_score = np.array([])\n",
        "test_score = np.array([])\n",
        "\n",
        "for i,(train_data, test_data)in enumerate(rs.split(df.drop(columns=['fruta']))):\n",
        "    print(f'Iteração {i+1}')\n",
        "    train_data_i = df.query(' index in @train_data')\n",
        "    X_train_i = train_data_i.drop(columns=['fruta'])\n",
        "    y_train_i = train_data_i['fruta']\n",
        "\n",
        "    test_data_i = df.query('index in @test_data')\n",
        "    X_test_i = test_data_i.drop(columns=['fruta'])\n",
        "    y_test_i = test_data_i['fruta']\n",
        "\n",
        "    X_train_i, X_test_i = X_train_i.to_numpy(), X_test_i.to_numpy()\n",
        "\n",
        "\n",
        "    pso = PSO(n_iterations=100)\n",
        "\n",
        "    pso.fit(X_train_i, y_train_i)\n",
        "\n",
        "    y_pred_train_i = pso.predict(X_train_i)\n",
        "    y_pred_test_i = pso.predict(X_test_i)\n",
        "\n",
        "    train_score_i = pso.score(y_pred_train_i, y_train_i)\n",
        "    test_score_i = pso.score(y_pred_test_i, y_test_i)\n",
        "\n",
        "    train_score = np.append(train_score, train_score_i)\n",
        "    test_score = np.append(test_score, test_score_i)\n",
        "\n",
        "    print(f'Precisão na base de treino: {train_score_i}')\n",
        "    print(f'Precisão na base de teste: {test_score_i}')\n",
        "\n",
        "print(f'\\nPrecisão média:\\n\\tTeste: {train_score.mean()}\\n\\tTreino: {test_score.mean()}')\n",
        "print(f'STD médio:\\n\\tTeste: {train_score.std()}\\n\\tTreino: {test_score.std()}')"
      ],
      "metadata": {
        "colab": {
          "base_uri": "https://localhost:8080/"
        },
        "id": "3p0jwTl2DLl2",
        "outputId": "b66b4569-3c09-4451-b557-43e2c4a6e572"
      },
      "execution_count": 182,
      "outputs": [
        {
          "output_type": "stream",
          "name": "stdout",
          "text": [
            "Iteração 1\n",
            "Precisão na base de treino: 1.0\n",
            "Precisão na base de teste: 1.0\n",
            "Iteração 2\n",
            "Precisão na base de treino: 0.5\n",
            "Precisão na base de teste: 0.5\n",
            "Iteração 3\n",
            "Precisão na base de treino: 0.55\n",
            "Precisão na base de teste: 0.4\n",
            "Iteração 4\n",
            "Precisão na base de treino: 0.5\n",
            "Precisão na base de teste: 0.5\n",
            "Iteração 5\n",
            "Precisão na base de treino: 0.55\n",
            "Precisão na base de teste: 0.4\n",
            "\n",
            "Precisão média:\n",
            "\tTeste: 0.6199999999999999\n",
            "\tTreino: 0.5599999999999999\n",
            "STD médio:\n",
            "\tTeste: 0.19131126469708992\n",
            "\tTreino: 0.22449944320643647\n"
          ]
        }
      ]
    }
  ]
}