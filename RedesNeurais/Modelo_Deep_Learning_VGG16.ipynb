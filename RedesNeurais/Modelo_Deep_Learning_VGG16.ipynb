{
  "cells": [
    {
      "cell_type": "markdown",
      "metadata": {
        "id": "view-in-github",
        "colab_type": "text"
      },
      "source": [
        "<a href=\"https://colab.research.google.com/github/LuizHVicari/Sistemas-Inteligentes/blob/main/RedesNeurais/Modelo_Deep_Learning_VGG16.ipynb\" target=\"_parent\"><img src=\"https://colab.research.google.com/assets/colab-badge.svg\" alt=\"Open In Colab\"/></a>"
      ]
    },
    {
      "cell_type": "markdown",
      "metadata": {
        "id": "wPCZQ9vj_3HK"
      },
      "source": [
        "# Modelo Deep Learning\n",
        "\n",
        "- Utilizar a base de dados CIFAR100 e ambiente google Colab\n",
        "\n",
        "- Criar uma rede convolucional. Vc deve definir o número de camadas, filtros e kernel, como vc quiser. Inspire-se nos modelos LeNet, AlexNet, VGG e outras vistos em sala. Utilize como exemplo os códigos keras que estão na pasta L13 do github\n",
        "\n",
        "- Treinar a rede na base de treino\n",
        "\n",
        "- Testar a rede na base de teste\n",
        "\n",
        "- Medir acurácia\n",
        "\n",
        "- Compartilhar o código para avaliação"
      ]
    },
    {
      "cell_type": "markdown",
      "metadata": {
        "id": "gCF6qqP9AFcL"
      },
      "source": [
        "## Importando as bibliotecas"
      ]
    },
    {
      "cell_type": "code",
      "execution_count": 1,
      "metadata": {
        "id": "E2pa-AkT_mRb"
      },
      "outputs": [],
      "source": [
        "import numpy as np\n",
        "import tensorflow as tf\n",
        "from tensorflow import keras\n",
        "from keras.models import Sequential\n",
        "from tensorflow.keras.datasets import cifar100\n",
        "from keras.layers import Dense, Conv2D, MaxPool2D, Flatten\n",
        "from keras import Input"
      ]
    },
    {
      "cell_type": "code",
      "execution_count": 2,
      "metadata": {
        "colab": {
          "base_uri": "https://localhost:8080/",
          "height": 35
        },
        "id": "wvz9J9EXUla4",
        "outputId": "384df83b-8fa5-4427-e6d2-95eb93e03687"
      },
      "outputs": [
        {
          "output_type": "execute_result",
          "data": {
            "text/plain": [
              "'2.12.0'"
            ],
            "application/vnd.google.colaboratory.intrinsic+json": {
              "type": "string"
            }
          },
          "metadata": {},
          "execution_count": 2
        }
      ],
      "source": [
        "tf.__version__"
      ]
    },
    {
      "cell_type": "markdown",
      "metadata": {
        "id": "IPwMOGqRAzE6"
      },
      "source": [
        "## Baixando os dados de treino e teste"
      ]
    },
    {
      "cell_type": "code",
      "execution_count": 3,
      "metadata": {
        "colab": {
          "base_uri": "https://localhost:8080/"
        },
        "id": "umtTnj6hAK-k",
        "outputId": "83ed2695-fe95-4acd-88b4-68f9a8f5afda"
      },
      "outputs": [
        {
          "output_type": "stream",
          "name": "stdout",
          "text": [
            "Downloading data from https://www.cs.toronto.edu/~kriz/cifar-100-python.tar.gz\n",
            "169001437/169001437 [==============================] - 13s 0us/step\n"
          ]
        }
      ],
      "source": [
        "(X_train, y_train), (X_test, y_test) = cifar100.load_data()\n",
        "\n",
        "X_train = X_train / 255.0\n",
        "X_test = X_test / 255.0"
      ]
    },
    {
      "cell_type": "code",
      "execution_count": 4,
      "metadata": {
        "colab": {
          "base_uri": "https://localhost:8080/"
        },
        "id": "g1BQsXhhVYVY",
        "outputId": "dbdae0c5-eec7-4402-85f5-b933e71eab83"
      },
      "outputs": [
        {
          "output_type": "execute_result",
          "data": {
            "text/plain": [
              "(50000, 32, 32, 3)"
            ]
          },
          "metadata": {},
          "execution_count": 4
        }
      ],
      "source": [
        "X_train.shape"
      ]
    },
    {
      "cell_type": "markdown",
      "metadata": {
        "id": "H0f4shdvA27G"
      },
      "source": [
        "## Construindo a Rede Neural VGG16\n",
        "\n",
        "![imagem](https://deeplearningmath.org/images/vgg19.png)"
      ]
    },
    {
      "cell_type": "markdown",
      "source": [
        "A priori esse modelo ser a rede VGG16, porém, por questões de tempo de treinamento, algumas camadas intermediárias estão omitidas."
      ],
      "metadata": {
        "id": "hglOKA5TFUet"
      }
    },
    {
      "cell_type": "code",
      "execution_count": 7,
      "metadata": {
        "colab": {
          "base_uri": "https://localhost:8080/"
        },
        "id": "3eRFkmI8A2G5",
        "outputId": "1d060e64-d37a-4518-dea7-0ef963eeb208"
      },
      "outputs": [
        {
          "output_type": "stream",
          "name": "stdout",
          "text": [
            "Model: \"sequential_1\"\n",
            "_________________________________________________________________\n",
            " Layer (type)                Output Shape              Param #   \n",
            "=================================================================\n",
            " conv2d_8 (Conv2D)           (None, 32, 32, 64)        1792      \n",
            "                                                                 \n",
            " conv2d_9 (Conv2D)           (None, 32, 32, 64)        36928     \n",
            "                                                                 \n",
            " max_pooling2d_3 (MaxPooling  (None, 16, 16, 64)       0         \n",
            " 2D)                                                             \n",
            "                                                                 \n",
            " conv2d_10 (Conv2D)          (None, 16, 16, 128)       73856     \n",
            "                                                                 \n",
            " conv2d_11 (Conv2D)          (None, 16, 16, 128)       147584    \n",
            "                                                                 \n",
            " max_pooling2d_4 (MaxPooling  (None, 8, 8, 128)        0         \n",
            " 2D)                                                             \n",
            "                                                                 \n",
            " flatten_1 (Flatten)         (None, 8192)              0         \n",
            "                                                                 \n",
            " dense_3 (Dense)             (None, 4096)              33558528  \n",
            "                                                                 \n",
            " dense_4 (Dense)             (None, 4096)              16781312  \n",
            "                                                                 \n",
            " dense_5 (Dense)             (None, 100)               409700    \n",
            "                                                                 \n",
            "=================================================================\n",
            "Total params: 51,009,700\n",
            "Trainable params: 51,009,700\n",
            "Non-trainable params: 0\n",
            "_________________________________________________________________\n"
          ]
        }
      ],
      "source": [
        "model = Sequential()\n",
        "\n",
        "# Input layer\n",
        "model.add(Input(shape=(32, 32, 3)))\n",
        "\n",
        "# First layer\n",
        "model.add(Conv2D(filters=64, kernel_size=(3, 3), padding='same', activation='relu'))\n",
        "model.add(Conv2D(filters=64, kernel_size=(3, 3), padding='same', activation='relu'))\n",
        "\n",
        "# First maxpool\n",
        "model.add(MaxPool2D(pool_size=(2, 2), strides=(2,2)))\n",
        "\n",
        "# Second layer\n",
        "model.add(Conv2D(filters=128, kernel_size=(3, 3), padding='same', activation='relu'))\n",
        "model.add(Conv2D(filters=128, kernel_size=(3, 3), padding='same', activation='relu'))\n",
        "\n",
        "# Second maxpool\n",
        "model.add(MaxPool2D(pool_size=(2, 2), strides=(2, 2)))\n",
        "\n",
        "# Third layer\n",
        "# model.add(Conv2D(filters=256, kernel_size=(3, 3), padding='same', activation='relu'))\n",
        "# model.add(Conv2D(filters=256, kernel_size=(3, 3), padding='same', activation='relu'))\n",
        "# model.add(Conv2D(filters=256, kernel_size=(3, 3), padding='same', activation='relu'))\n",
        "# model.add(Conv2D(filters=256, kernel_size=(3, 3), padding='same', activation='relu'))\n",
        "\n",
        "# Third maxpool\n",
        "# model.add(MaxPool2D(pool_size=(2, 2), strides=(2, 2)))\n",
        "\n",
        "# # Fourth layer\n",
        "# model.add(Conv2D(filters=512, kernel_size=(3, 3), padding='same', activation='relu'))\n",
        "# model.add(Conv2D(filters=512, kernel_size=(3, 3), padding='same', activation='relu'))\n",
        "# model.add(Conv2D(filters=512, kernel_size=(3, 3), padding='same', activation='relu'))\n",
        "# model.add(Conv2D(filters=512, kernel_size=(3, 3), padding='same', activation='relu'))\n",
        "\n",
        "# # Fourth maxpool\n",
        "# model.add(MaxPool2D(pool_size=(2, 2), strides=(2, 2)))\n",
        "\n",
        "# # Fifth layer\n",
        "# model.add(Conv2D(filters=512, kernel_size=(3, 3), padding='same', activation='relu'))\n",
        "# model.add(Conv2D(filters=512, kernel_size=(3, 3), padding='same', activation='relu'))\n",
        "# model.add(Conv2D(filters=512, kernel_size=(3, 3), padding='same', activation='relu'))\n",
        "# model.add(Conv2D(filters=512, kernel_size=(3, 3), padding='same', activation='relu'))\n",
        "\n",
        "# Fifth maxpool\n",
        "# model.add(MaxPool2D(pool_size=(2, 2), strides=(2, 2)))\n",
        "\n",
        "# Dense layer\n",
        "model.add(Flatten())\n",
        "model.add(Dense(units=4096, activation='relu'))\n",
        "model.add(Dense(units=4096, activation='relu'))\n",
        "\n",
        "# Output layer\n",
        "model.add(Dense(units=100, activation='softmax'))\n",
        "\n",
        "optimizer = keras.optimizers.Adam()\n",
        "\n",
        "model.compile(optimizer=optimizer, loss='sparse_categorical_crossentropy', metrics=['sparse_categorical_accuracy'])\n",
        "model.summary()\n"
      ]
    },
    {
      "cell_type": "markdown",
      "metadata": {
        "id": "nuT2-IxsG4Sq"
      },
      "source": [
        "## Training"
      ]
    },
    {
      "cell_type": "code",
      "execution_count": 9,
      "metadata": {
        "colab": {
          "base_uri": "https://localhost:8080/"
        },
        "id": "Q2wOZicOG3Sp",
        "outputId": "591b834f-aa1d-467f-c9a7-e8676927f0fe"
      },
      "outputs": [
        {
          "output_type": "stream",
          "name": "stdout",
          "text": [
            "Epoch 1/100\n",
            "450/450 [==============================] - 14s 30ms/step - loss: 2.5956 - sparse_categorical_accuracy: 0.3310 - val_loss: 2.6496 - val_sparse_categorical_accuracy: 0.3286\n",
            "Epoch 2/100\n",
            "450/450 [==============================] - 14s 31ms/step - loss: 2.1041 - sparse_categorical_accuracy: 0.4380 - val_loss: 2.5193 - val_sparse_categorical_accuracy: 0.3638\n",
            "Epoch 3/100\n",
            "450/450 [==============================] - 14s 30ms/step - loss: 1.5940 - sparse_categorical_accuracy: 0.5543 - val_loss: 2.5123 - val_sparse_categorical_accuracy: 0.4050\n",
            "Epoch 4/100\n",
            "450/450 [==============================] - 14s 31ms/step - loss: 1.0409 - sparse_categorical_accuracy: 0.6937 - val_loss: 2.8414 - val_sparse_categorical_accuracy: 0.3888\n",
            "Epoch 5/100\n",
            "450/450 [==============================] - 14s 31ms/step - loss: 0.5345 - sparse_categorical_accuracy: 0.8343 - val_loss: 3.5917 - val_sparse_categorical_accuracy: 0.3794\n",
            "Epoch 6/100\n",
            "450/450 [==============================] - 14s 31ms/step - loss: 0.3013 - sparse_categorical_accuracy: 0.9073 - val_loss: 4.2260 - val_sparse_categorical_accuracy: 0.3816\n",
            "Epoch 7/100\n",
            "450/450 [==============================] - 14s 31ms/step - loss: 0.2044 - sparse_categorical_accuracy: 0.9373 - val_loss: 4.8111 - val_sparse_categorical_accuracy: 0.3744\n",
            "Epoch 8/100\n",
            "450/450 [==============================] - 14s 31ms/step - loss: 0.1799 - sparse_categorical_accuracy: 0.9472 - val_loss: 4.8475 - val_sparse_categorical_accuracy: 0.3736\n",
            "Epoch 9/100\n",
            "450/450 [==============================] - 14s 31ms/step - loss: 0.1567 - sparse_categorical_accuracy: 0.9535 - val_loss: 5.0546 - val_sparse_categorical_accuracy: 0.3808\n",
            "Epoch 10/100\n",
            "450/450 [==============================] - 14s 30ms/step - loss: 0.1247 - sparse_categorical_accuracy: 0.9618 - val_loss: 5.1912 - val_sparse_categorical_accuracy: 0.3742\n",
            "Epoch 11/100\n",
            "450/450 [==============================] - 14s 31ms/step - loss: 0.1292 - sparse_categorical_accuracy: 0.9604 - val_loss: 5.4233 - val_sparse_categorical_accuracy: 0.3770\n",
            "Epoch 12/100\n",
            "450/450 [==============================] - 14s 31ms/step - loss: 0.1099 - sparse_categorical_accuracy: 0.9669 - val_loss: 5.9515 - val_sparse_categorical_accuracy: 0.3748\n",
            "Epoch 13/100\n",
            "450/450 [==============================] - 14s 30ms/step - loss: 0.1126 - sparse_categorical_accuracy: 0.9647 - val_loss: 5.7292 - val_sparse_categorical_accuracy: 0.3652\n",
            "Epoch 14/100\n",
            "450/450 [==============================] - 14s 31ms/step - loss: 0.1106 - sparse_categorical_accuracy: 0.9674 - val_loss: 5.9658 - val_sparse_categorical_accuracy: 0.3642\n",
            "Epoch 15/100\n",
            "450/450 [==============================] - 14s 31ms/step - loss: 0.1024 - sparse_categorical_accuracy: 0.9692 - val_loss: 6.1851 - val_sparse_categorical_accuracy: 0.3654\n",
            "Epoch 16/100\n",
            "450/450 [==============================] - 14s 31ms/step - loss: 0.1005 - sparse_categorical_accuracy: 0.9705 - val_loss: 6.2901 - val_sparse_categorical_accuracy: 0.3546\n",
            "Epoch 17/100\n",
            "450/450 [==============================] - 14s 30ms/step - loss: 0.0908 - sparse_categorical_accuracy: 0.9730 - val_loss: 6.4791 - val_sparse_categorical_accuracy: 0.3630\n",
            "Epoch 18/100\n",
            "450/450 [==============================] - 15s 32ms/step - loss: 0.0977 - sparse_categorical_accuracy: 0.9713 - val_loss: 6.2553 - val_sparse_categorical_accuracy: 0.3592\n",
            "Epoch 19/100\n",
            "450/450 [==============================] - 14s 31ms/step - loss: 0.0920 - sparse_categorical_accuracy: 0.9719 - val_loss: 6.4605 - val_sparse_categorical_accuracy: 0.3694\n",
            "Epoch 20/100\n",
            "450/450 [==============================] - 14s 32ms/step - loss: 0.0824 - sparse_categorical_accuracy: 0.9767 - val_loss: 6.5791 - val_sparse_categorical_accuracy: 0.3704\n",
            "Epoch 21/100\n",
            "450/450 [==============================] - 14s 31ms/step - loss: 0.0916 - sparse_categorical_accuracy: 0.9730 - val_loss: 6.5255 - val_sparse_categorical_accuracy: 0.3674\n",
            "Epoch 22/100\n",
            "450/450 [==============================] - 14s 31ms/step - loss: 0.0790 - sparse_categorical_accuracy: 0.9767 - val_loss: 6.9791 - val_sparse_categorical_accuracy: 0.3508\n",
            "Epoch 23/100\n",
            "450/450 [==============================] - 14s 31ms/step - loss: 0.0976 - sparse_categorical_accuracy: 0.9718 - val_loss: 6.8485 - val_sparse_categorical_accuracy: 0.3594\n",
            "Epoch 24/100\n",
            "450/450 [==============================] - 14s 31ms/step - loss: 0.0825 - sparse_categorical_accuracy: 0.9752 - val_loss: 7.0901 - val_sparse_categorical_accuracy: 0.3682\n",
            "Epoch 25/100\n",
            "450/450 [==============================] - 13s 30ms/step - loss: 0.0808 - sparse_categorical_accuracy: 0.9773 - val_loss: 6.9339 - val_sparse_categorical_accuracy: 0.3596\n",
            "Epoch 26/100\n",
            "450/450 [==============================] - 14s 30ms/step - loss: 0.0771 - sparse_categorical_accuracy: 0.9779 - val_loss: 7.1037 - val_sparse_categorical_accuracy: 0.3622\n",
            "Epoch 27/100\n",
            "450/450 [==============================] - 14s 30ms/step - loss: 0.0811 - sparse_categorical_accuracy: 0.9779 - val_loss: 6.8441 - val_sparse_categorical_accuracy: 0.3718\n",
            "Epoch 28/100\n",
            "450/450 [==============================] - 14s 30ms/step - loss: 0.0631 - sparse_categorical_accuracy: 0.9826 - val_loss: 6.8084 - val_sparse_categorical_accuracy: 0.3682\n",
            "Epoch 29/100\n",
            "450/450 [==============================] - 14s 30ms/step - loss: 0.0806 - sparse_categorical_accuracy: 0.9773 - val_loss: 6.9381 - val_sparse_categorical_accuracy: 0.3594\n",
            "Epoch 30/100\n",
            "450/450 [==============================] - 14s 31ms/step - loss: 0.0797 - sparse_categorical_accuracy: 0.9775 - val_loss: 7.4944 - val_sparse_categorical_accuracy: 0.3518\n",
            "Epoch 31/100\n",
            "450/450 [==============================] - 14s 31ms/step - loss: 0.0803 - sparse_categorical_accuracy: 0.9779 - val_loss: 7.4183 - val_sparse_categorical_accuracy: 0.3556\n",
            "Epoch 32/100\n",
            "450/450 [==============================] - 14s 31ms/step - loss: 0.0675 - sparse_categorical_accuracy: 0.9817 - val_loss: 7.2072 - val_sparse_categorical_accuracy: 0.3498\n",
            "Epoch 33/100\n",
            "450/450 [==============================] - 14s 30ms/step - loss: 0.0598 - sparse_categorical_accuracy: 0.9838 - val_loss: 7.7787 - val_sparse_categorical_accuracy: 0.3524\n",
            "Epoch 34/100\n",
            "450/450 [==============================] - 14s 31ms/step - loss: 0.0704 - sparse_categorical_accuracy: 0.9805 - val_loss: 7.9679 - val_sparse_categorical_accuracy: 0.3538\n",
            "Epoch 35/100\n",
            "450/450 [==============================] - 14s 31ms/step - loss: 0.0725 - sparse_categorical_accuracy: 0.9811 - val_loss: 7.4087 - val_sparse_categorical_accuracy: 0.3568\n",
            "Epoch 36/100\n",
            "450/450 [==============================] - 14s 31ms/step - loss: 0.0661 - sparse_categorical_accuracy: 0.9813 - val_loss: 7.5796 - val_sparse_categorical_accuracy: 0.3594\n",
            "Epoch 37/100\n",
            "450/450 [==============================] - 14s 30ms/step - loss: 0.0602 - sparse_categorical_accuracy: 0.9842 - val_loss: 8.0079 - val_sparse_categorical_accuracy: 0.3584\n",
            "Epoch 38/100\n",
            "450/450 [==============================] - 14s 31ms/step - loss: 0.0776 - sparse_categorical_accuracy: 0.9797 - val_loss: 8.0872 - val_sparse_categorical_accuracy: 0.3504\n",
            "Epoch 39/100\n",
            "450/450 [==============================] - 14s 31ms/step - loss: 0.0590 - sparse_categorical_accuracy: 0.9841 - val_loss: 7.8640 - val_sparse_categorical_accuracy: 0.3618\n",
            "Epoch 40/100\n",
            "450/450 [==============================] - 13s 30ms/step - loss: 0.0599 - sparse_categorical_accuracy: 0.9832 - val_loss: 7.9690 - val_sparse_categorical_accuracy: 0.3544\n",
            "Epoch 41/100\n",
            "450/450 [==============================] - 13s 30ms/step - loss: 0.0604 - sparse_categorical_accuracy: 0.9841 - val_loss: 8.0536 - val_sparse_categorical_accuracy: 0.3562\n",
            "Epoch 42/100\n",
            "450/450 [==============================] - 13s 30ms/step - loss: 0.0587 - sparse_categorical_accuracy: 0.9843 - val_loss: 8.6203 - val_sparse_categorical_accuracy: 0.3494\n",
            "Epoch 43/100\n",
            "450/450 [==============================] - 14s 31ms/step - loss: 0.0651 - sparse_categorical_accuracy: 0.9819 - val_loss: 8.1815 - val_sparse_categorical_accuracy: 0.3492\n",
            "Epoch 44/100\n",
            "450/450 [==============================] - 14s 30ms/step - loss: 0.0723 - sparse_categorical_accuracy: 0.9809 - val_loss: 8.1026 - val_sparse_categorical_accuracy: 0.3624\n",
            "Epoch 45/100\n",
            "450/450 [==============================] - 14s 30ms/step - loss: 0.0671 - sparse_categorical_accuracy: 0.9817 - val_loss: 8.2676 - val_sparse_categorical_accuracy: 0.3500\n",
            "Epoch 46/100\n",
            "450/450 [==============================] - 14s 31ms/step - loss: 0.0479 - sparse_categorical_accuracy: 0.9874 - val_loss: 8.2867 - val_sparse_categorical_accuracy: 0.3556\n",
            "Epoch 47/100\n",
            "450/450 [==============================] - 14s 31ms/step - loss: 0.0573 - sparse_categorical_accuracy: 0.9850 - val_loss: 8.6201 - val_sparse_categorical_accuracy: 0.3524\n",
            "Epoch 48/100\n",
            "450/450 [==============================] - 14s 31ms/step - loss: 0.0611 - sparse_categorical_accuracy: 0.9838 - val_loss: 8.8552 - val_sparse_categorical_accuracy: 0.3542\n",
            "Epoch 49/100\n",
            "450/450 [==============================] - 14s 31ms/step - loss: 0.0699 - sparse_categorical_accuracy: 0.9827 - val_loss: 8.8149 - val_sparse_categorical_accuracy: 0.3530\n",
            "Epoch 50/100\n",
            "450/450 [==============================] - 14s 31ms/step - loss: 0.0561 - sparse_categorical_accuracy: 0.9857 - val_loss: 8.5146 - val_sparse_categorical_accuracy: 0.3544\n",
            "Epoch 51/100\n",
            "450/450 [==============================] - 14s 30ms/step - loss: 0.0556 - sparse_categorical_accuracy: 0.9851 - val_loss: 8.8109 - val_sparse_categorical_accuracy: 0.3616\n",
            "Epoch 52/100\n",
            "450/450 [==============================] - 13s 30ms/step - loss: 0.0650 - sparse_categorical_accuracy: 0.9835 - val_loss: 8.7104 - val_sparse_categorical_accuracy: 0.3526\n",
            "Epoch 53/100\n",
            "450/450 [==============================] - 14s 30ms/step - loss: 0.0498 - sparse_categorical_accuracy: 0.9872 - val_loss: 9.1421 - val_sparse_categorical_accuracy: 0.3516\n",
            "Epoch 54/100\n",
            "450/450 [==============================] - 14s 31ms/step - loss: 0.0465 - sparse_categorical_accuracy: 0.9874 - val_loss: 9.3816 - val_sparse_categorical_accuracy: 0.3458\n",
            "Epoch 55/100\n",
            "450/450 [==============================] - 14s 30ms/step - loss: 0.0743 - sparse_categorical_accuracy: 0.9814 - val_loss: 9.4352 - val_sparse_categorical_accuracy: 0.3460\n",
            "Epoch 56/100\n",
            "450/450 [==============================] - 14s 30ms/step - loss: 0.0590 - sparse_categorical_accuracy: 0.9852 - val_loss: 9.2583 - val_sparse_categorical_accuracy: 0.3540\n",
            "Epoch 57/100\n",
            "450/450 [==============================] - 14s 31ms/step - loss: 0.0488 - sparse_categorical_accuracy: 0.9881 - val_loss: 8.9518 - val_sparse_categorical_accuracy: 0.3406\n",
            "Epoch 58/100\n",
            "450/450 [==============================] - 14s 31ms/step - loss: 0.0519 - sparse_categorical_accuracy: 0.9869 - val_loss: 9.0737 - val_sparse_categorical_accuracy: 0.3520\n",
            "Epoch 59/100\n",
            "450/450 [==============================] - 13s 30ms/step - loss: 0.0550 - sparse_categorical_accuracy: 0.9866 - val_loss: 9.2539 - val_sparse_categorical_accuracy: 0.3514\n",
            "Epoch 60/100\n",
            "450/450 [==============================] - 14s 30ms/step - loss: 0.0740 - sparse_categorical_accuracy: 0.9824 - val_loss: 8.7178 - val_sparse_categorical_accuracy: 0.3598\n",
            "Epoch 61/100\n",
            "450/450 [==============================] - 14s 31ms/step - loss: 0.0502 - sparse_categorical_accuracy: 0.9876 - val_loss: 9.2546 - val_sparse_categorical_accuracy: 0.3526\n",
            "Epoch 62/100\n",
            "450/450 [==============================] - 14s 30ms/step - loss: 0.0400 - sparse_categorical_accuracy: 0.9891 - val_loss: 10.6334 - val_sparse_categorical_accuracy: 0.3474\n",
            "Epoch 63/100\n",
            "450/450 [==============================] - 14s 31ms/step - loss: 0.0720 - sparse_categorical_accuracy: 0.9824 - val_loss: 10.0581 - val_sparse_categorical_accuracy: 0.3422\n",
            "Epoch 64/100\n",
            "450/450 [==============================] - 14s 30ms/step - loss: 0.0600 - sparse_categorical_accuracy: 0.9855 - val_loss: 10.0023 - val_sparse_categorical_accuracy: 0.3528\n",
            "Epoch 65/100\n",
            "450/450 [==============================] - 14s 30ms/step - loss: 0.0644 - sparse_categorical_accuracy: 0.9851 - val_loss: 9.8319 - val_sparse_categorical_accuracy: 0.3554\n",
            "Epoch 66/100\n",
            "450/450 [==============================] - 14s 31ms/step - loss: 0.0642 - sparse_categorical_accuracy: 0.9860 - val_loss: 9.0844 - val_sparse_categorical_accuracy: 0.3476\n",
            "Epoch 67/100\n",
            "450/450 [==============================] - 13s 30ms/step - loss: 0.0302 - sparse_categorical_accuracy: 0.9922 - val_loss: 9.3016 - val_sparse_categorical_accuracy: 0.3524\n",
            "Epoch 68/100\n",
            "450/450 [==============================] - 14s 30ms/step - loss: 0.0463 - sparse_categorical_accuracy: 0.9887 - val_loss: 9.6219 - val_sparse_categorical_accuracy: 0.3476\n",
            "Epoch 69/100\n",
            "450/450 [==============================] - 14s 31ms/step - loss: 0.0652 - sparse_categorical_accuracy: 0.9848 - val_loss: 10.5640 - val_sparse_categorical_accuracy: 0.3506\n",
            "Epoch 70/100\n",
            "450/450 [==============================] - 13s 30ms/step - loss: 0.0686 - sparse_categorical_accuracy: 0.9844 - val_loss: 9.9989 - val_sparse_categorical_accuracy: 0.3466\n",
            "Epoch 71/100\n",
            "450/450 [==============================] - 14s 31ms/step - loss: 0.0537 - sparse_categorical_accuracy: 0.9876 - val_loss: 10.3975 - val_sparse_categorical_accuracy: 0.3476\n",
            "Epoch 72/100\n",
            "450/450 [==============================] - 14s 31ms/step - loss: 0.0529 - sparse_categorical_accuracy: 0.9877 - val_loss: 9.9571 - val_sparse_categorical_accuracy: 0.3398\n",
            "Epoch 73/100\n",
            "450/450 [==============================] - 13s 30ms/step - loss: 0.0427 - sparse_categorical_accuracy: 0.9899 - val_loss: 10.5672 - val_sparse_categorical_accuracy: 0.3482\n",
            "Epoch 74/100\n",
            "450/450 [==============================] - 14s 30ms/step - loss: 0.0597 - sparse_categorical_accuracy: 0.9859 - val_loss: 10.7843 - val_sparse_categorical_accuracy: 0.3518\n",
            "Epoch 75/100\n",
            "450/450 [==============================] - 14s 30ms/step - loss: 0.0551 - sparse_categorical_accuracy: 0.9872 - val_loss: 10.9352 - val_sparse_categorical_accuracy: 0.3434\n",
            "Epoch 76/100\n",
            "450/450 [==============================] - 14s 30ms/step - loss: 0.0490 - sparse_categorical_accuracy: 0.9883 - val_loss: 11.0896 - val_sparse_categorical_accuracy: 0.3580\n",
            "Epoch 77/100\n",
            "450/450 [==============================] - 14s 30ms/step - loss: 0.0598 - sparse_categorical_accuracy: 0.9864 - val_loss: 10.5779 - val_sparse_categorical_accuracy: 0.3476\n",
            "Epoch 78/100\n",
            "450/450 [==============================] - 13s 30ms/step - loss: 0.0450 - sparse_categorical_accuracy: 0.9892 - val_loss: 10.4623 - val_sparse_categorical_accuracy: 0.3476\n",
            "Epoch 79/100\n",
            "450/450 [==============================] - 14s 31ms/step - loss: 0.0504 - sparse_categorical_accuracy: 0.9890 - val_loss: 10.3912 - val_sparse_categorical_accuracy: 0.3432\n",
            "Epoch 80/100\n",
            "450/450 [==============================] - 13s 30ms/step - loss: 0.0504 - sparse_categorical_accuracy: 0.9886 - val_loss: 10.5978 - val_sparse_categorical_accuracy: 0.3446\n",
            "Epoch 81/100\n",
            "450/450 [==============================] - 13s 30ms/step - loss: 0.0644 - sparse_categorical_accuracy: 0.9855 - val_loss: 11.1717 - val_sparse_categorical_accuracy: 0.3396\n",
            "Epoch 82/100\n",
            "450/450 [==============================] - 14s 30ms/step - loss: 0.0579 - sparse_categorical_accuracy: 0.9867 - val_loss: 11.4889 - val_sparse_categorical_accuracy: 0.3580\n",
            "Epoch 83/100\n",
            "450/450 [==============================] - 13s 30ms/step - loss: 0.0512 - sparse_categorical_accuracy: 0.9887 - val_loss: 11.7397 - val_sparse_categorical_accuracy: 0.3430\n",
            "Epoch 84/100\n",
            "450/450 [==============================] - 13s 30ms/step - loss: 0.0578 - sparse_categorical_accuracy: 0.9877 - val_loss: 11.6642 - val_sparse_categorical_accuracy: 0.3612\n",
            "Epoch 85/100\n",
            "450/450 [==============================] - 14s 31ms/step - loss: 0.0525 - sparse_categorical_accuracy: 0.9884 - val_loss: 11.2024 - val_sparse_categorical_accuracy: 0.3380\n",
            "Epoch 86/100\n",
            "450/450 [==============================] - 13s 30ms/step - loss: 0.0491 - sparse_categorical_accuracy: 0.9890 - val_loss: 11.1421 - val_sparse_categorical_accuracy: 0.3532\n",
            "Epoch 87/100\n",
            "450/450 [==============================] - 14s 31ms/step - loss: 0.0561 - sparse_categorical_accuracy: 0.9878 - val_loss: 13.5617 - val_sparse_categorical_accuracy: 0.3370\n",
            "Epoch 88/100\n",
            "450/450 [==============================] - 14s 30ms/step - loss: 0.0633 - sparse_categorical_accuracy: 0.9868 - val_loss: 10.8536 - val_sparse_categorical_accuracy: 0.3504\n",
            "Epoch 89/100\n",
            "450/450 [==============================] - 14s 31ms/step - loss: 0.0524 - sparse_categorical_accuracy: 0.9887 - val_loss: 12.1053 - val_sparse_categorical_accuracy: 0.3362\n",
            "Epoch 90/100\n",
            "450/450 [==============================] - 14s 31ms/step - loss: 0.0603 - sparse_categorical_accuracy: 0.9871 - val_loss: 12.1961 - val_sparse_categorical_accuracy: 0.3450\n",
            "Epoch 91/100\n",
            "450/450 [==============================] - 14s 30ms/step - loss: 0.0557 - sparse_categorical_accuracy: 0.9880 - val_loss: 12.5484 - val_sparse_categorical_accuracy: 0.3278\n",
            "Epoch 92/100\n",
            "450/450 [==============================] - 14s 30ms/step - loss: 0.0538 - sparse_categorical_accuracy: 0.9883 - val_loss: 12.7420 - val_sparse_categorical_accuracy: 0.3494\n",
            "Epoch 93/100\n",
            "450/450 [==============================] - 14s 30ms/step - loss: 0.0516 - sparse_categorical_accuracy: 0.9888 - val_loss: 13.6000 - val_sparse_categorical_accuracy: 0.3414\n",
            "Epoch 94/100\n",
            "450/450 [==============================] - 14s 31ms/step - loss: 0.0674 - sparse_categorical_accuracy: 0.9868 - val_loss: 12.9928 - val_sparse_categorical_accuracy: 0.3386\n",
            "Epoch 95/100\n",
            "450/450 [==============================] - 14s 30ms/step - loss: 0.0602 - sparse_categorical_accuracy: 0.9882 - val_loss: 12.4651 - val_sparse_categorical_accuracy: 0.3424\n",
            "Epoch 96/100\n",
            "450/450 [==============================] - 14s 31ms/step - loss: 0.0483 - sparse_categorical_accuracy: 0.9894 - val_loss: 12.8974 - val_sparse_categorical_accuracy: 0.3466\n",
            "Epoch 97/100\n",
            "450/450 [==============================] - 14s 31ms/step - loss: 0.0480 - sparse_categorical_accuracy: 0.9910 - val_loss: 13.3896 - val_sparse_categorical_accuracy: 0.3468\n",
            "Epoch 98/100\n",
            "450/450 [==============================] - 14s 31ms/step - loss: 0.0569 - sparse_categorical_accuracy: 0.9883 - val_loss: 13.1403 - val_sparse_categorical_accuracy: 0.3364\n",
            "Epoch 99/100\n",
            "450/450 [==============================] - 14s 30ms/step - loss: 0.0517 - sparse_categorical_accuracy: 0.9887 - val_loss: 12.9406 - val_sparse_categorical_accuracy: 0.3416\n",
            "Epoch 100/100\n",
            "450/450 [==============================] - 14s 31ms/step - loss: 0.0545 - sparse_categorical_accuracy: 0.9890 - val_loss: 13.1224 - val_sparse_categorical_accuracy: 0.3398\n"
          ]
        }
      ],
      "source": [
        "history = model.fit(X_train, y_train, batch_size=100, validation_split=0.1, epochs=100)"
      ]
    },
    {
      "cell_type": "code",
      "source": [
        "train_loss, train_accuracy = model.evaluate(X_train, y_train, batch_size=100)\n",
        "test_loss, test_accuracy = model.evaluate(X_test, y_test, batch_size=100)"
      ],
      "metadata": {
        "colab": {
          "base_uri": "https://localhost:8080/"
        },
        "id": "guUnJDY3JsmI",
        "outputId": "d8149b90-451a-419a-8e67-95796082c4ea"
      },
      "execution_count": 10,
      "outputs": [
        {
          "output_type": "stream",
          "name": "stdout",
          "text": [
            "500/500 [==============================] - 4s 9ms/step - loss: 1.3482 - sparse_categorical_accuracy: 0.9258\n",
            "100/100 [==============================] - 1s 8ms/step - loss: 12.6234 - sparse_categorical_accuracy: 0.3453\n"
          ]
        }
      ]
    }
  ],
  "metadata": {
    "colab": {
      "provenance": [],
      "gpuType": "T4",
      "authorship_tag": "ABX9TyOdN13xwrNcQFa4gkNx9I7L",
      "include_colab_link": true
    },
    "kernelspec": {
      "display_name": "Python 3",
      "name": "python3"
    },
    "language_info": {
      "name": "python"
    },
    "accelerator": "GPU",
    "gpuClass": "standard"
  },
  "nbformat": 4,
  "nbformat_minor": 0
}