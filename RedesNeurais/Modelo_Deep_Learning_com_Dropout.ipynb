{
  "cells": [
    {
      "cell_type": "markdown",
      "metadata": {
        "id": "view-in-github",
        "colab_type": "text"
      },
      "source": [
        "<a href=\"https://colab.research.google.com/github/LuizHVicari/Sistemas-Inteligentes/blob/main/RedesNeurais/Modelo_Deep_Learning_com_Dropout.ipynb\" target=\"_parent\"><img src=\"https://colab.research.google.com/assets/colab-badge.svg\" alt=\"Open In Colab\"/></a>"
      ]
    },
    {
      "cell_type": "markdown",
      "metadata": {
        "id": "wPCZQ9vj_3HK"
      },
      "source": [
        "# Modelo Deep Learning\n",
        "\n",
        "- Utilizar a base de dados CIFAR100 e ambiente google Colab\n",
        "\n",
        "- Criar uma rede convolucional. Vc deve definir o número de camadas, filtros e kernel, como vc quiser. Inspire-se nos modelos LeNet, AlexNet, VGG e outras vistos em sala. Utilize como exemplo os códigos keras que estão na pasta L13 do github\n",
        "\n",
        "- Treinar a rede na base de treino\n",
        "\n",
        "- Testar a rede na base de teste\n",
        "\n",
        "- Medir acurácia\n",
        "\n",
        "- Compartilhar o código para avaliação"
      ]
    },
    {
      "cell_type": "markdown",
      "metadata": {
        "id": "gCF6qqP9AFcL"
      },
      "source": [
        "## Importando as bibliotecas"
      ]
    },
    {
      "cell_type": "code",
      "execution_count": null,
      "metadata": {
        "id": "E2pa-AkT_mRb"
      },
      "outputs": [],
      "source": [
        "import numpy as np\n",
        "import tensorflow as tf\n",
        "from tensorflow import keras\n",
        "from keras.models import Sequential\n",
        "from tensorflow.keras.datasets import cifar100\n",
        "from keras.layers import Dense, Conv2D, MaxPool2D, Flatten, Dropout\n",
        "from keras import Input"
      ]
    },
    {
      "cell_type": "code",
      "execution_count": null,
      "metadata": {
        "colab": {
          "base_uri": "https://localhost:8080/",
          "height": 35
        },
        "id": "wvz9J9EXUla4",
        "outputId": "01b0e5d4-a774-46cf-caf8-896d8e7d2eac"
      },
      "outputs": [
        {
          "output_type": "execute_result",
          "data": {
            "text/plain": [
              "'2.12.0'"
            ],
            "application/vnd.google.colaboratory.intrinsic+json": {
              "type": "string"
            }
          },
          "metadata": {},
          "execution_count": 2
        }
      ],
      "source": [
        "tf.__version__"
      ]
    },
    {
      "cell_type": "markdown",
      "metadata": {
        "id": "IPwMOGqRAzE6"
      },
      "source": [
        "## Baixando os dados de treino e teste"
      ]
    },
    {
      "cell_type": "code",
      "execution_count": null,
      "metadata": {
        "colab": {
          "base_uri": "https://localhost:8080/"
        },
        "id": "umtTnj6hAK-k",
        "outputId": "de3535d2-69cd-4850-fc30-a707d367da22"
      },
      "outputs": [
        {
          "output_type": "stream",
          "name": "stdout",
          "text": [
            "Downloading data from https://www.cs.toronto.edu/~kriz/cifar-100-python.tar.gz\n",
            "169001437/169001437 [==============================] - 2s 0us/step\n"
          ]
        }
      ],
      "source": [
        "(X_train, y_train), (X_test, y_test) = cifar100.load_data()\n",
        "\n",
        "X_train = X_train / 255.0\n",
        "X_test = X_test / 255.0"
      ]
    },
    {
      "cell_type": "code",
      "execution_count": null,
      "metadata": {
        "colab": {
          "base_uri": "https://localhost:8080/"
        },
        "id": "g1BQsXhhVYVY",
        "outputId": "eb82d77a-7b54-47f0-c7e4-daa982463b66"
      },
      "outputs": [
        {
          "output_type": "execute_result",
          "data": {
            "text/plain": [
              "(50000, 32, 32, 3)"
            ]
          },
          "metadata": {},
          "execution_count": 4
        }
      ],
      "source": [
        "X_train.shape"
      ]
    },
    {
      "cell_type": "markdown",
      "metadata": {
        "id": "H0f4shdvA27G"
      },
      "source": [
        "## Construindo a Rede Neural VGG16\n",
        "\n",
        "![imagem](https://deeplearningmath.org/images/vgg19.png)"
      ]
    },
    {
      "cell_type": "markdown",
      "source": [
        "A priori esse modelo ser a rede VGG16, porém, por questões de tempo de treinamento, algumas camadas intermediárias estão omitidas."
      ],
      "metadata": {
        "id": "hglOKA5TFUet"
      }
    },
    {
      "cell_type": "code",
      "execution_count": null,
      "metadata": {
        "colab": {
          "base_uri": "https://localhost:8080/"
        },
        "id": "3eRFkmI8A2G5",
        "outputId": "bb11126d-53b1-4384-fa7e-b7886d7fc9c5"
      },
      "outputs": [
        {
          "output_type": "stream",
          "name": "stdout",
          "text": [
            "Model: \"sequential_1\"\n",
            "_________________________________________________________________\n",
            " Layer (type)                Output Shape              Param #   \n",
            "=================================================================\n",
            " conv2d_1 (Conv2D)           (None, 32, 32, 64)        1792      \n",
            "                                                                 \n",
            " dropout (Dropout)           (None, 32, 32, 64)        0         \n",
            "                                                                 \n",
            " conv2d_2 (Conv2D)           (None, 32, 32, 64)        36928     \n",
            "                                                                 \n",
            " max_pooling2d (MaxPooling2D  (None, 16, 16, 64)       0         \n",
            " )                                                               \n",
            "                                                                 \n",
            " conv2d_3 (Conv2D)           (None, 16, 16, 128)       73856     \n",
            "                                                                 \n",
            " dropout_1 (Dropout)         (None, 16, 16, 128)       0         \n",
            "                                                                 \n",
            " conv2d_4 (Conv2D)           (None, 16, 16, 128)       147584    \n",
            "                                                                 \n",
            " max_pooling2d_1 (MaxPooling  (None, 8, 8, 128)        0         \n",
            " 2D)                                                             \n",
            "                                                                 \n",
            " flatten (Flatten)           (None, 8192)              0         \n",
            "                                                                 \n",
            " dense (Dense)               (None, 4096)              33558528  \n",
            "                                                                 \n",
            " dropout_2 (Dropout)         (None, 4096)              0         \n",
            "                                                                 \n",
            " dense_1 (Dense)             (None, 4096)              16781312  \n",
            "                                                                 \n",
            " dense_2 (Dense)             (None, 100)               409700    \n",
            "                                                                 \n",
            "=================================================================\n",
            "Total params: 51,009,700\n",
            "Trainable params: 51,009,700\n",
            "Non-trainable params: 0\n",
            "_________________________________________________________________\n"
          ]
        }
      ],
      "source": [
        "model = Sequential()\n",
        "\n",
        "# Input layer\n",
        "model.add(Input(shape=(32, 32, 3)))\n",
        "\n",
        "# First layer\n",
        "model.add(Conv2D(filters=64, kernel_size=(3, 3), padding='same', activation='relu'))\n",
        "model.add(Dropout(0.2))\n",
        "model.add(Conv2D(filters=64, kernel_size=(3, 3), padding='same', activation='relu'))\n",
        "\n",
        "# First maxpool\n",
        "model.add(MaxPool2D(pool_size=(2, 2), strides=(2,2)))\n",
        "\n",
        "# Second layer\n",
        "model.add(Conv2D(filters=128, kernel_size=(3, 3), padding='same', activation='relu'))\n",
        "model.add(Dropout(0.2))\n",
        "model.add(Conv2D(filters=128, kernel_size=(3, 3), padding='same', activation='relu'))\n",
        "\n",
        "# Second maxpool\n",
        "model.add(MaxPool2D(pool_size=(2, 2), strides=(2, 2)))\n",
        "\n",
        "# Third layer\n",
        "# model.add(Conv2D(filters=256, kernel_size=(3, 3), padding='same', activation='relu'))\n",
        "# model.add(Conv2D(filters=256, kernel_size=(3, 3), padding='same', activation='relu'))\n",
        "# model.add(Conv2D(filters=256, kernel_size=(3, 3), padding='same', activation='relu'))\n",
        "# model.add(Conv2D(filters=256, kernel_size=(3, 3), padding='same', activation='relu'))\n",
        "\n",
        "# Third maxpool\n",
        "# model.add(MaxPool2D(pool_size=(2, 2), strides=(2, 2)))\n",
        "\n",
        "# # Fourth layer\n",
        "# model.add(Conv2D(filters=512, kernel_size=(3, 3), padding='same', activation='relu'))\n",
        "# model.add(Conv2D(filters=512, kernel_size=(3, 3), padding='same', activation='relu'))\n",
        "# model.add(Conv2D(filters=512, kernel_size=(3, 3), padding='same', activation='relu'))\n",
        "# model.add(Conv2D(filters=512, kernel_size=(3, 3), padding='same', activation='relu'))\n",
        "\n",
        "# # Fourth maxpool\n",
        "# model.add(MaxPool2D(pool_size=(2, 2), strides=(2, 2)))\n",
        "\n",
        "# # Fifth layer\n",
        "# model.add(Conv2D(filters=512, kernel_size=(3, 3), padding='same', activation='relu'))\n",
        "# model.add(Conv2D(filters=512, kernel_size=(3, 3), padding='same', activation='relu'))\n",
        "# model.add(Conv2D(filters=512, kernel_size=(3, 3), padding='same', activation='relu'))\n",
        "# model.add(Conv2D(filters=512, kernel_size=(3, 3), padding='same', activation='relu'))\n",
        "\n",
        "# Fifth maxpool\n",
        "# model.add(MaxPool2D(pool_size=(2, 2), strides=(2, 2)))\n",
        "\n",
        "# Dense layer\n",
        "model.add(Flatten())\n",
        "model.add(Dense(units=4096, activation='relu'))\n",
        "model.add(Dropout(0.2))\n",
        "model.add(Dense(units=4096, activation='relu'))\n",
        "\n",
        "# Output layer\n",
        "model.add(Dense(units=100, activation='softmax'))\n",
        "\n",
        "optimizer = keras.optimizers.Adam()\n",
        "\n",
        "model.compile(optimizer=optimizer, loss='sparse_categorical_crossentropy', metrics=['sparse_categorical_accuracy'])\n",
        "model.summary()\n"
      ]
    },
    {
      "cell_type": "markdown",
      "metadata": {
        "id": "nuT2-IxsG4Sq"
      },
      "source": [
        "## Training"
      ]
    },
    {
      "cell_type": "code",
      "execution_count": null,
      "metadata": {
        "colab": {
          "base_uri": "https://localhost:8080/"
        },
        "id": "Q2wOZicOG3Sp",
        "outputId": "8739edc5-cbf1-4e7b-88f6-642d790e6583"
      },
      "outputs": [
        {
          "output_type": "stream",
          "name": "stdout",
          "text": [
            "Epoch 1/100\n",
            "450/450 [==============================] - 27s 35ms/step - loss: 4.0435 - sparse_categorical_accuracy: 0.0719 - val_loss: 3.6470 - val_sparse_categorical_accuracy: 0.1344\n",
            "Epoch 2/100\n",
            "450/450 [==============================] - 16s 36ms/step - loss: 3.2820 - sparse_categorical_accuracy: 0.2009 - val_loss: 3.1237 - val_sparse_categorical_accuracy: 0.2316\n",
            "Epoch 3/100\n",
            "450/450 [==============================] - 16s 35ms/step - loss: 2.7923 - sparse_categorical_accuracy: 0.2937 - val_loss: 2.7480 - val_sparse_categorical_accuracy: 0.3102\n",
            "Epoch 4/100\n",
            "450/450 [==============================] - 16s 35ms/step - loss: 2.3747 - sparse_categorical_accuracy: 0.3800 - val_loss: 2.6017 - val_sparse_categorical_accuracy: 0.3392\n",
            "Epoch 5/100\n",
            "450/450 [==============================] - 16s 35ms/step - loss: 1.9739 - sparse_categorical_accuracy: 0.4662 - val_loss: 2.4767 - val_sparse_categorical_accuracy: 0.3828\n",
            "Epoch 6/100\n",
            "450/450 [==============================] - 16s 35ms/step - loss: 1.5684 - sparse_categorical_accuracy: 0.5591 - val_loss: 2.5457 - val_sparse_categorical_accuracy: 0.3848\n",
            "Epoch 7/100\n",
            "450/450 [==============================] - 15s 34ms/step - loss: 1.1692 - sparse_categorical_accuracy: 0.6599 - val_loss: 2.6471 - val_sparse_categorical_accuracy: 0.3960\n",
            "Epoch 8/100\n",
            "450/450 [==============================] - 16s 35ms/step - loss: 0.8379 - sparse_categorical_accuracy: 0.7487 - val_loss: 2.9299 - val_sparse_categorical_accuracy: 0.3914\n",
            "Epoch 9/100\n",
            "450/450 [==============================] - 16s 35ms/step - loss: 0.6050 - sparse_categorical_accuracy: 0.8159 - val_loss: 3.3067 - val_sparse_categorical_accuracy: 0.3826\n",
            "Epoch 10/100\n",
            "450/450 [==============================] - 15s 34ms/step - loss: 0.4587 - sparse_categorical_accuracy: 0.8587 - val_loss: 3.3442 - val_sparse_categorical_accuracy: 0.3906\n",
            "Epoch 11/100\n",
            "450/450 [==============================] - 15s 34ms/step - loss: 0.3700 - sparse_categorical_accuracy: 0.8844 - val_loss: 3.6682 - val_sparse_categorical_accuracy: 0.3866\n",
            "Epoch 12/100\n",
            "450/450 [==============================] - 15s 34ms/step - loss: 0.3094 - sparse_categorical_accuracy: 0.9034 - val_loss: 3.9253 - val_sparse_categorical_accuracy: 0.3836\n",
            "Epoch 13/100\n",
            "450/450 [==============================] - 16s 35ms/step - loss: 0.2741 - sparse_categorical_accuracy: 0.9156 - val_loss: 4.0257 - val_sparse_categorical_accuracy: 0.3840\n",
            "Epoch 14/100\n",
            "450/450 [==============================] - 15s 34ms/step - loss: 0.2509 - sparse_categorical_accuracy: 0.9226 - val_loss: 4.2146 - val_sparse_categorical_accuracy: 0.3784\n",
            "Epoch 15/100\n",
            "450/450 [==============================] - 15s 34ms/step - loss: 0.2240 - sparse_categorical_accuracy: 0.9308 - val_loss: 4.1909 - val_sparse_categorical_accuracy: 0.3726\n",
            "Epoch 16/100\n",
            "450/450 [==============================] - 16s 35ms/step - loss: 0.2216 - sparse_categorical_accuracy: 0.9320 - val_loss: 4.2719 - val_sparse_categorical_accuracy: 0.3724\n",
            "Epoch 17/100\n",
            "450/450 [==============================] - 16s 35ms/step - loss: 0.2109 - sparse_categorical_accuracy: 0.9350 - val_loss: 4.2812 - val_sparse_categorical_accuracy: 0.3754\n",
            "Epoch 18/100\n",
            "450/450 [==============================] - 16s 35ms/step - loss: 0.1950 - sparse_categorical_accuracy: 0.9415 - val_loss: 4.4251 - val_sparse_categorical_accuracy: 0.3764\n",
            "Epoch 19/100\n",
            "450/450 [==============================] - 16s 34ms/step - loss: 0.1955 - sparse_categorical_accuracy: 0.9402 - val_loss: 4.2237 - val_sparse_categorical_accuracy: 0.3748\n",
            "Epoch 20/100\n",
            "450/450 [==============================] - 16s 35ms/step - loss: 0.1754 - sparse_categorical_accuracy: 0.9466 - val_loss: 4.2679 - val_sparse_categorical_accuracy: 0.3802\n",
            "Epoch 21/100\n",
            "450/450 [==============================] - 15s 34ms/step - loss: 0.1983 - sparse_categorical_accuracy: 0.9412 - val_loss: 4.5297 - val_sparse_categorical_accuracy: 0.3748\n",
            "Epoch 22/100\n",
            "450/450 [==============================] - 16s 34ms/step - loss: 0.1708 - sparse_categorical_accuracy: 0.9501 - val_loss: 4.3416 - val_sparse_categorical_accuracy: 0.3658\n",
            "Epoch 23/100\n",
            "450/450 [==============================] - 16s 35ms/step - loss: 0.1534 - sparse_categorical_accuracy: 0.9539 - val_loss: 4.7733 - val_sparse_categorical_accuracy: 0.3668\n",
            "Epoch 24/100\n",
            "450/450 [==============================] - 16s 35ms/step - loss: 0.1623 - sparse_categorical_accuracy: 0.9524 - val_loss: 4.8488 - val_sparse_categorical_accuracy: 0.3706\n",
            "Epoch 25/100\n",
            "450/450 [==============================] - 15s 34ms/step - loss: 0.1662 - sparse_categorical_accuracy: 0.9515 - val_loss: 4.6120 - val_sparse_categorical_accuracy: 0.3770\n",
            "Epoch 26/100\n",
            "450/450 [==============================] - 16s 35ms/step - loss: 0.1627 - sparse_categorical_accuracy: 0.9521 - val_loss: 4.6486 - val_sparse_categorical_accuracy: 0.3742\n",
            "Epoch 27/100\n",
            "450/450 [==============================] - 16s 35ms/step - loss: 0.1490 - sparse_categorical_accuracy: 0.9545 - val_loss: 4.8410 - val_sparse_categorical_accuracy: 0.3702\n",
            "Epoch 28/100\n",
            "450/450 [==============================] - 16s 35ms/step - loss: 0.1608 - sparse_categorical_accuracy: 0.9536 - val_loss: 4.6654 - val_sparse_categorical_accuracy: 0.3770\n",
            "Epoch 29/100\n",
            "450/450 [==============================] - 16s 34ms/step - loss: 0.1416 - sparse_categorical_accuracy: 0.9588 - val_loss: 4.8429 - val_sparse_categorical_accuracy: 0.3736\n",
            "Epoch 30/100\n",
            "450/450 [==============================] - 16s 35ms/step - loss: 0.1450 - sparse_categorical_accuracy: 0.9576 - val_loss: 4.6569 - val_sparse_categorical_accuracy: 0.3684\n",
            "Epoch 31/100\n",
            "450/450 [==============================] - 16s 35ms/step - loss: 0.1418 - sparse_categorical_accuracy: 0.9594 - val_loss: 4.8697 - val_sparse_categorical_accuracy: 0.3734\n",
            "Epoch 32/100\n",
            "450/450 [==============================] - 16s 35ms/step - loss: 0.1481 - sparse_categorical_accuracy: 0.9574 - val_loss: 4.5620 - val_sparse_categorical_accuracy: 0.3698\n",
            "Epoch 33/100\n",
            "450/450 [==============================] - 16s 35ms/step - loss: 0.1354 - sparse_categorical_accuracy: 0.9594 - val_loss: 4.7349 - val_sparse_categorical_accuracy: 0.3632\n",
            "Epoch 34/100\n",
            "450/450 [==============================] - 16s 35ms/step - loss: 0.1281 - sparse_categorical_accuracy: 0.9627 - val_loss: 4.9366 - val_sparse_categorical_accuracy: 0.3660\n",
            "Epoch 35/100\n",
            "450/450 [==============================] - 16s 35ms/step - loss: 0.1379 - sparse_categorical_accuracy: 0.9602 - val_loss: 4.8103 - val_sparse_categorical_accuracy: 0.3652\n",
            "Epoch 36/100\n",
            "450/450 [==============================] - 16s 35ms/step - loss: 0.1363 - sparse_categorical_accuracy: 0.9604 - val_loss: 4.8502 - val_sparse_categorical_accuracy: 0.3748\n",
            "Epoch 37/100\n",
            "450/450 [==============================] - 16s 35ms/step - loss: 0.1279 - sparse_categorical_accuracy: 0.9644 - val_loss: 4.9605 - val_sparse_categorical_accuracy: 0.3692\n",
            "Epoch 38/100\n",
            "450/450 [==============================] - 16s 35ms/step - loss: 0.1260 - sparse_categorical_accuracy: 0.9635 - val_loss: 4.8168 - val_sparse_categorical_accuracy: 0.3718\n",
            "Epoch 39/100\n",
            "450/450 [==============================] - 15s 34ms/step - loss: 0.1231 - sparse_categorical_accuracy: 0.9654 - val_loss: 5.1218 - val_sparse_categorical_accuracy: 0.3680\n",
            "Epoch 40/100\n",
            "450/450 [==============================] - 15s 34ms/step - loss: 0.1307 - sparse_categorical_accuracy: 0.9634 - val_loss: 5.1122 - val_sparse_categorical_accuracy: 0.3764\n",
            "Epoch 41/100\n",
            "450/450 [==============================] - 16s 35ms/step - loss: 0.1292 - sparse_categorical_accuracy: 0.9644 - val_loss: 5.0351 - val_sparse_categorical_accuracy: 0.3558\n",
            "Epoch 42/100\n",
            "450/450 [==============================] - 16s 35ms/step - loss: 0.1194 - sparse_categorical_accuracy: 0.9659 - val_loss: 4.9281 - val_sparse_categorical_accuracy: 0.3676\n",
            "Epoch 43/100\n",
            "450/450 [==============================] - 16s 35ms/step - loss: 0.1137 - sparse_categorical_accuracy: 0.9683 - val_loss: 5.4596 - val_sparse_categorical_accuracy: 0.3646\n",
            "Epoch 44/100\n",
            "450/450 [==============================] - 16s 35ms/step - loss: 0.1235 - sparse_categorical_accuracy: 0.9652 - val_loss: 5.1844 - val_sparse_categorical_accuracy: 0.3664\n",
            "Epoch 45/100\n",
            "450/450 [==============================] - 16s 35ms/step - loss: 0.1186 - sparse_categorical_accuracy: 0.9668 - val_loss: 5.2635 - val_sparse_categorical_accuracy: 0.3700\n",
            "Epoch 46/100\n",
            "450/450 [==============================] - 16s 35ms/step - loss: 0.1277 - sparse_categorical_accuracy: 0.9658 - val_loss: 5.0941 - val_sparse_categorical_accuracy: 0.3698\n",
            "Epoch 47/100\n",
            "450/450 [==============================] - 15s 34ms/step - loss: 0.1290 - sparse_categorical_accuracy: 0.9645 - val_loss: 5.0753 - val_sparse_categorical_accuracy: 0.3572\n",
            "Epoch 48/100\n",
            "450/450 [==============================] - 16s 35ms/step - loss: 0.1034 - sparse_categorical_accuracy: 0.9710 - val_loss: 5.1379 - val_sparse_categorical_accuracy: 0.3712\n",
            "Epoch 49/100\n",
            "450/450 [==============================] - 15s 34ms/step - loss: 0.1149 - sparse_categorical_accuracy: 0.9688 - val_loss: 5.1614 - val_sparse_categorical_accuracy: 0.3724\n",
            "Epoch 50/100\n",
            "450/450 [==============================] - 16s 34ms/step - loss: 0.1172 - sparse_categorical_accuracy: 0.9677 - val_loss: 5.3261 - val_sparse_categorical_accuracy: 0.3644\n",
            "Epoch 51/100\n",
            "450/450 [==============================] - 15s 34ms/step - loss: 0.1084 - sparse_categorical_accuracy: 0.9709 - val_loss: 5.2873 - val_sparse_categorical_accuracy: 0.3618\n",
            "Epoch 52/100\n",
            "450/450 [==============================] - 16s 35ms/step - loss: 0.1222 - sparse_categorical_accuracy: 0.9672 - val_loss: 4.9926 - val_sparse_categorical_accuracy: 0.3616\n",
            "Epoch 53/100\n",
            "450/450 [==============================] - 15s 34ms/step - loss: 0.1016 - sparse_categorical_accuracy: 0.9719 - val_loss: 5.6683 - val_sparse_categorical_accuracy: 0.3676\n",
            "Epoch 54/100\n",
            "450/450 [==============================] - 16s 35ms/step - loss: 0.1170 - sparse_categorical_accuracy: 0.9694 - val_loss: 5.2772 - val_sparse_categorical_accuracy: 0.3604\n",
            "Epoch 55/100\n",
            "450/450 [==============================] - 16s 35ms/step - loss: 0.1074 - sparse_categorical_accuracy: 0.9711 - val_loss: 5.6415 - val_sparse_categorical_accuracy: 0.3522\n",
            "Epoch 56/100\n",
            "450/450 [==============================] - 16s 35ms/step - loss: 0.1056 - sparse_categorical_accuracy: 0.9718 - val_loss: 5.6549 - val_sparse_categorical_accuracy: 0.3648\n",
            "Epoch 57/100\n",
            "450/450 [==============================] - 15s 34ms/step - loss: 0.1224 - sparse_categorical_accuracy: 0.9676 - val_loss: 5.5629 - val_sparse_categorical_accuracy: 0.3576\n",
            "Epoch 58/100\n",
            "450/450 [==============================] - 16s 35ms/step - loss: 0.1058 - sparse_categorical_accuracy: 0.9717 - val_loss: 5.9431 - val_sparse_categorical_accuracy: 0.3564\n",
            "Epoch 59/100\n",
            "450/450 [==============================] - 16s 35ms/step - loss: 0.1134 - sparse_categorical_accuracy: 0.9703 - val_loss: 5.8228 - val_sparse_categorical_accuracy: 0.3454\n",
            "Epoch 60/100\n",
            "450/450 [==============================] - 16s 35ms/step - loss: 0.1042 - sparse_categorical_accuracy: 0.9720 - val_loss: 5.3681 - val_sparse_categorical_accuracy: 0.3658\n",
            "Epoch 61/100\n",
            "450/450 [==============================] - 16s 35ms/step - loss: 0.1116 - sparse_categorical_accuracy: 0.9716 - val_loss: 5.7362 - val_sparse_categorical_accuracy: 0.3582\n",
            "Epoch 62/100\n",
            "450/450 [==============================] - 16s 35ms/step - loss: 0.1188 - sparse_categorical_accuracy: 0.9694 - val_loss: 5.4568 - val_sparse_categorical_accuracy: 0.3516\n",
            "Epoch 63/100\n",
            "450/450 [==============================] - 16s 35ms/step - loss: 0.1082 - sparse_categorical_accuracy: 0.9712 - val_loss: 5.5837 - val_sparse_categorical_accuracy: 0.3492\n",
            "Epoch 64/100\n",
            "450/450 [==============================] - 16s 35ms/step - loss: 0.1054 - sparse_categorical_accuracy: 0.9725 - val_loss: 5.3287 - val_sparse_categorical_accuracy: 0.3648\n",
            "Epoch 65/100\n",
            "450/450 [==============================] - 16s 35ms/step - loss: 0.1019 - sparse_categorical_accuracy: 0.9725 - val_loss: 5.7926 - val_sparse_categorical_accuracy: 0.3520\n",
            "Epoch 66/100\n",
            "450/450 [==============================] - 16s 35ms/step - loss: 0.1046 - sparse_categorical_accuracy: 0.9728 - val_loss: 5.6212 - val_sparse_categorical_accuracy: 0.3586\n",
            "Epoch 67/100\n",
            "450/450 [==============================] - 16s 35ms/step - loss: 0.1069 - sparse_categorical_accuracy: 0.9717 - val_loss: 5.6814 - val_sparse_categorical_accuracy: 0.3512\n",
            "Epoch 68/100\n",
            "450/450 [==============================] - 16s 35ms/step - loss: 0.1043 - sparse_categorical_accuracy: 0.9728 - val_loss: 5.8623 - val_sparse_categorical_accuracy: 0.3602\n",
            "Epoch 69/100\n",
            "450/450 [==============================] - 16s 35ms/step - loss: 0.1000 - sparse_categorical_accuracy: 0.9749 - val_loss: 5.9054 - val_sparse_categorical_accuracy: 0.3570\n",
            "Epoch 70/100\n",
            "450/450 [==============================] - 16s 35ms/step - loss: 0.1175 - sparse_categorical_accuracy: 0.9699 - val_loss: 5.8422 - val_sparse_categorical_accuracy: 0.3546\n",
            "Epoch 71/100\n",
            "450/450 [==============================] - 16s 35ms/step - loss: 0.1075 - sparse_categorical_accuracy: 0.9731 - val_loss: 5.7545 - val_sparse_categorical_accuracy: 0.3518\n",
            "Epoch 72/100\n",
            "450/450 [==============================] - 16s 35ms/step - loss: 0.0930 - sparse_categorical_accuracy: 0.9759 - val_loss: 5.8050 - val_sparse_categorical_accuracy: 0.3642\n",
            "Epoch 73/100\n",
            "450/450 [==============================] - 16s 35ms/step - loss: 0.1105 - sparse_categorical_accuracy: 0.9730 - val_loss: 5.9488 - val_sparse_categorical_accuracy: 0.3588\n",
            "Epoch 74/100\n",
            "450/450 [==============================] - 16s 35ms/step - loss: 0.1080 - sparse_categorical_accuracy: 0.9719 - val_loss: 6.0172 - val_sparse_categorical_accuracy: 0.3576\n",
            "Epoch 75/100\n",
            "450/450 [==============================] - 16s 34ms/step - loss: 0.1014 - sparse_categorical_accuracy: 0.9750 - val_loss: 6.0418 - val_sparse_categorical_accuracy: 0.3504\n",
            "Epoch 76/100\n",
            "450/450 [==============================] - 16s 35ms/step - loss: 0.1027 - sparse_categorical_accuracy: 0.9740 - val_loss: 5.9154 - val_sparse_categorical_accuracy: 0.3656\n",
            "Epoch 77/100\n",
            "450/450 [==============================] - 16s 35ms/step - loss: 0.1188 - sparse_categorical_accuracy: 0.9711 - val_loss: 5.7471 - val_sparse_categorical_accuracy: 0.3446\n",
            "Epoch 78/100\n",
            "450/450 [==============================] - 15s 34ms/step - loss: 0.0935 - sparse_categorical_accuracy: 0.9766 - val_loss: 6.0821 - val_sparse_categorical_accuracy: 0.3512\n",
            "Epoch 79/100\n",
            "450/450 [==============================] - 16s 35ms/step - loss: 0.1106 - sparse_categorical_accuracy: 0.9737 - val_loss: 6.1587 - val_sparse_categorical_accuracy: 0.3478\n",
            "Epoch 80/100\n",
            "450/450 [==============================] - 16s 35ms/step - loss: 0.1152 - sparse_categorical_accuracy: 0.9718 - val_loss: 6.0483 - val_sparse_categorical_accuracy: 0.3532\n",
            "Epoch 81/100\n",
            "450/450 [==============================] - 16s 35ms/step - loss: 0.0964 - sparse_categorical_accuracy: 0.9764 - val_loss: 6.0889 - val_sparse_categorical_accuracy: 0.3562\n",
            "Epoch 82/100\n",
            "450/450 [==============================] - 15s 34ms/step - loss: 0.0999 - sparse_categorical_accuracy: 0.9754 - val_loss: 6.6478 - val_sparse_categorical_accuracy: 0.3524\n",
            "Epoch 83/100\n",
            "450/450 [==============================] - 16s 35ms/step - loss: 0.1023 - sparse_categorical_accuracy: 0.9750 - val_loss: 6.4627 - val_sparse_categorical_accuracy: 0.3572\n",
            "Epoch 84/100\n",
            "450/450 [==============================] - 16s 35ms/step - loss: 0.1025 - sparse_categorical_accuracy: 0.9755 - val_loss: 6.3478 - val_sparse_categorical_accuracy: 0.3578\n",
            "Epoch 85/100\n",
            "450/450 [==============================] - 16s 35ms/step - loss: 0.1188 - sparse_categorical_accuracy: 0.9720 - val_loss: 5.7187 - val_sparse_categorical_accuracy: 0.3552\n",
            "Epoch 86/100\n",
            "450/450 [==============================] - 16s 35ms/step - loss: 0.1038 - sparse_categorical_accuracy: 0.9737 - val_loss: 6.4393 - val_sparse_categorical_accuracy: 0.3594\n",
            "Epoch 87/100\n",
            "450/450 [==============================] - 16s 34ms/step - loss: 0.0919 - sparse_categorical_accuracy: 0.9773 - val_loss: 6.3626 - val_sparse_categorical_accuracy: 0.3614\n",
            "Epoch 88/100\n",
            "450/450 [==============================] - 16s 35ms/step - loss: 0.1045 - sparse_categorical_accuracy: 0.9755 - val_loss: 6.3623 - val_sparse_categorical_accuracy: 0.3490\n",
            "Epoch 89/100\n",
            "450/450 [==============================] - 16s 35ms/step - loss: 0.1108 - sparse_categorical_accuracy: 0.9735 - val_loss: 6.1731 - val_sparse_categorical_accuracy: 0.3582\n",
            "Epoch 90/100\n",
            "450/450 [==============================] - 16s 35ms/step - loss: 0.0973 - sparse_categorical_accuracy: 0.9767 - val_loss: 6.6409 - val_sparse_categorical_accuracy: 0.3460\n",
            "Epoch 91/100\n",
            "450/450 [==============================] - 16s 35ms/step - loss: 0.1005 - sparse_categorical_accuracy: 0.9766 - val_loss: 6.5989 - val_sparse_categorical_accuracy: 0.3528\n",
            "Epoch 92/100\n",
            "450/450 [==============================] - 15s 34ms/step - loss: 0.0982 - sparse_categorical_accuracy: 0.9760 - val_loss: 6.3917 - val_sparse_categorical_accuracy: 0.3486\n",
            "Epoch 93/100\n",
            "450/450 [==============================] - 16s 35ms/step - loss: 0.1000 - sparse_categorical_accuracy: 0.9760 - val_loss: 6.2648 - val_sparse_categorical_accuracy: 0.3614\n",
            "Epoch 94/100\n",
            "450/450 [==============================] - 16s 35ms/step - loss: 0.1041 - sparse_categorical_accuracy: 0.9756 - val_loss: 6.7024 - val_sparse_categorical_accuracy: 0.3542\n",
            "Epoch 95/100\n",
            "450/450 [==============================] - 16s 35ms/step - loss: 0.0988 - sparse_categorical_accuracy: 0.9768 - val_loss: 6.9920 - val_sparse_categorical_accuracy: 0.3488\n",
            "Epoch 96/100\n",
            "450/450 [==============================] - 16s 35ms/step - loss: 0.1014 - sparse_categorical_accuracy: 0.9760 - val_loss: 6.8442 - val_sparse_categorical_accuracy: 0.3504\n",
            "Epoch 97/100\n",
            "450/450 [==============================] - 16s 35ms/step - loss: 0.1085 - sparse_categorical_accuracy: 0.9754 - val_loss: 6.7124 - val_sparse_categorical_accuracy: 0.3572\n",
            "Epoch 98/100\n",
            "450/450 [==============================] - 15s 34ms/step - loss: 0.0964 - sparse_categorical_accuracy: 0.9779 - val_loss: 6.4764 - val_sparse_categorical_accuracy: 0.3548\n",
            "Epoch 99/100\n",
            "450/450 [==============================] - 16s 35ms/step - loss: 0.1116 - sparse_categorical_accuracy: 0.9745 - val_loss: 6.6262 - val_sparse_categorical_accuracy: 0.3576\n",
            "Epoch 100/100\n",
            "450/450 [==============================] - 16s 35ms/step - loss: 0.1057 - sparse_categorical_accuracy: 0.9750 - val_loss: 7.0206 - val_sparse_categorical_accuracy: 0.3448\n"
          ]
        }
      ],
      "source": [
        "history = model.fit(X_train, y_train, batch_size=100, validation_split=0.1, epochs=100)"
      ]
    },
    {
      "cell_type": "code",
      "source": [
        "train_loss, train_accuracy = model.evaluate(X_train, y_train, batch_size=100)\n",
        "test_loss, test_accuracy = model.evaluate(X_test, y_test, batch_size=100)"
      ],
      "metadata": {
        "colab": {
          "base_uri": "https://localhost:8080/"
        },
        "id": "guUnJDY3JsmI",
        "outputId": "c7290740-bd8f-40b9-d426-df4a575c0367"
      },
      "execution_count": null,
      "outputs": [
        {
          "output_type": "stream",
          "name": "stdout",
          "text": [
            "500/500 [==============================] - 4s 8ms/step - loss: 0.7173 - sparse_categorical_accuracy: 0.9301\n",
            "100/100 [==============================] - 1s 8ms/step - loss: 6.7760 - sparse_categorical_accuracy: 0.3536\n"
          ]
        }
      ]
    }
  ],
  "metadata": {
    "colab": {
      "provenance": [],
      "gpuType": "T4",
      "authorship_tag": "ABX9TyOkdwfyfwyFJXfDY+Low+Ps",
      "include_colab_link": true
    },
    "kernelspec": {
      "display_name": "Python 3",
      "name": "python3"
    },
    "language_info": {
      "name": "python"
    },
    "accelerator": "GPU",
    "gpuClass": "standard"
  },
  "nbformat": 4,
  "nbformat_minor": 0
}