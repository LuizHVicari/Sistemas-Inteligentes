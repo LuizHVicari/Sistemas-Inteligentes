{
  "nbformat": 4,
  "nbformat_minor": 0,
  "metadata": {
    "colab": {
      "provenance": [],
      "authorship_tag": "ABX9TyOVXJQD6LCFhBq6+2NmTypa",
      "include_colab_link": true
    },
    "kernelspec": {
      "name": "python3",
      "display_name": "Python 3"
    },
    "language_info": {
      "name": "python"
    }
  },
  "cells": [
    {
      "cell_type": "markdown",
      "metadata": {
        "id": "view-in-github",
        "colab_type": "text"
      },
      "source": [
        "<a href=\"https://colab.research.google.com/github/LuizHVicari/Sistemas-Inteligentes/blob/main/RedesNeurais/Perceptron.ipynb\" target=\"_parent\"><img src=\"https://colab.research.google.com/assets/colab-badge.svg\" alt=\"Open In Colab\"/></a>"
      ]
    },
    {
      "cell_type": "code",
      "execution_count": null,
      "metadata": {
        "colab": {
          "base_uri": "https://localhost:8080/"
        },
        "id": "4aPwwFLbqGQ0",
        "outputId": "9aedccdb-9cbf-4e47-fca1-90882f3d0b2a"
      },
      "outputs": [
        {
          "output_type": "stream",
          "name": "stdout",
          "text": [
            "Epoca 1\n",
            "rodada 0: y: 0.5, y previsto:1, erro:-1, pesos:[-2.5, 0, 1]\n",
            "rodada 1: y: -2.5, y previsto:0, erro:0, pesos:[-2.5, 0, 1]\n",
            "rodada 2: y: -1.5, y previsto:0, erro:1, pesos:[-1.5, 1, 2]\n",
            "rodada 3: y: 2.5, y previsto:1, erro:0, pesos:[-1.5, 1, 2]\n",
            "\n",
            "Epoca 2\n",
            "rodada 0: y: 0.5, y previsto:1, erro:-1, pesos:[-2.5, 1, 1]\n",
            "rodada 1: y: -0.5, y previsto:0, erro:0, pesos:[-2.5, 1, 1]\n",
            "rodada 2: y: -0.5, y previsto:0, erro:1, pesos:[-1.5, 2, 2]\n",
            "rodada 3: y: 4.5, y previsto:1, erro:0, pesos:[-1.5, 2, 2]\n",
            "\n",
            "Epoca 3\n",
            "rodada 0: y: 0.5, y previsto:1, erro:-1, pesos:[-2.5, 2, 1]\n",
            "rodada 1: y: 1.5, y previsto:1, erro:-1, pesos:[-3.5, 0, 1]\n",
            "rodada 2: y: -2.5, y previsto:0, erro:1, pesos:[-2.5, 1, 2]\n",
            "rodada 3: y: 1.5, y previsto:1, erro:0, pesos:[-2.5, 1, 2]\n",
            "\n",
            "Epoca 4\n",
            "rodada 0: y: -0.5, y previsto:0, erro:0, pesos:[-2.5, 1, 2]\n",
            "rodada 1: y: -0.5, y previsto:0, erro:0, pesos:[-2.5, 1, 2]\n",
            "rodada 2: y: 0.5, y previsto:1, erro:0, pesos:[-2.5, 1, 2]\n",
            "rodada 3: y: 1.5, y previsto:1, erro:0, pesos:[-2.5, 1, 2]\n",
            "\n",
            "Pesos finais: [-2.5, 1, 2]\n"
          ]
        }
      ],
      "source": [
        "def calcula_epoca(matriz, pesos):\n",
        "    erro_epoca = 0\n",
        "    for i, linha in enumerate(matriz):\n",
        "        y = linha[0] * pesos[0] + linha[1] * pesos[1] + linha[2] * pesos[2]\n",
        "        y_ = 0 if y <= 0 else 1\n",
        "\n",
        "        err = linha[3] - y_\n",
        "        erro_epoca += abs(err)\n",
        "\n",
        "        if err != 0:\n",
        "            pesos[0] += err * linha[0]\n",
        "            pesos[1] += err * linha[1]\n",
        "            pesos[2] += err * linha[2]\n",
        "\n",
        "        print(f'rodada {i}: y: {y}, y previsto:{y_}, erro:{err}, pesos:{pesos}')\n",
        "\n",
        "    return pesos, erro_epoca\n",
        "\n",
        "mat = [\n",
        "    [1, 0, 1, 0],\n",
        "    [1, 2, 0, 0],\n",
        "    [1, 1, 1, 1],\n",
        "    [1, 2, 1, 1]]\n",
        "\n",
        "pesos = [-1.5, 0, 2]\n",
        "\n",
        "erro_epoca = 100\n",
        "i = 1\n",
        "\n",
        "while(erro_epoca != 0):\n",
        "    print(f'Epoca {i}')\n",
        "    pesos, erro_epoca = calcula_epoca(mat, pesos)\n",
        "    print()\n",
        "    i += 1\n",
        "\n",
        "print(f'Pesos finais: {pesos}')"
      ]
    },
    {
      "cell_type": "code",
      "source": [
        "import pandas as pd\n",
        "\n",
        "df = pd.DataFrame()\n",
        "df['x0'] = [1, 1, 1, 1]\n",
        "df['x1'] = [0, 2, 1, 2]\n",
        "df['x2'] = [1, 0, 1, 1]\n",
        "df['y'] = [0, 0, 1, 1]\n",
        "\n",
        "df"
      ],
      "metadata": {
        "colab": {
          "base_uri": "https://localhost:8080/",
          "height": 175
        },
        "id": "Px17CkOGvHXM",
        "outputId": "7fb96b1e-e0b4-4c11-bd89-ae48f577cc44"
      },
      "execution_count": null,
      "outputs": [
        {
          "output_type": "execute_result",
          "data": {
            "text/plain": [
              "   x0  x1  x2  y\n",
              "0   1   0   1  0\n",
              "1   1   2   0  0\n",
              "2   1   1   1  1\n",
              "3   1   2   1  1"
            ],
            "text/html": [
              "\n",
              "  <div id=\"df-b067e73d-e38c-47e4-b2b2-364e0222f661\">\n",
              "    <div class=\"colab-df-container\">\n",
              "      <div>\n",
              "<style scoped>\n",
              "    .dataframe tbody tr th:only-of-type {\n",
              "        vertical-align: middle;\n",
              "    }\n",
              "\n",
              "    .dataframe tbody tr th {\n",
              "        vertical-align: top;\n",
              "    }\n",
              "\n",
              "    .dataframe thead th {\n",
              "        text-align: right;\n",
              "    }\n",
              "</style>\n",
              "<table border=\"1\" class=\"dataframe\">\n",
              "  <thead>\n",
              "    <tr style=\"text-align: right;\">\n",
              "      <th></th>\n",
              "      <th>x0</th>\n",
              "      <th>x1</th>\n",
              "      <th>x2</th>\n",
              "      <th>y</th>\n",
              "    </tr>\n",
              "  </thead>\n",
              "  <tbody>\n",
              "    <tr>\n",
              "      <th>0</th>\n",
              "      <td>1</td>\n",
              "      <td>0</td>\n",
              "      <td>1</td>\n",
              "      <td>0</td>\n",
              "    </tr>\n",
              "    <tr>\n",
              "      <th>1</th>\n",
              "      <td>1</td>\n",
              "      <td>2</td>\n",
              "      <td>0</td>\n",
              "      <td>0</td>\n",
              "    </tr>\n",
              "    <tr>\n",
              "      <th>2</th>\n",
              "      <td>1</td>\n",
              "      <td>1</td>\n",
              "      <td>1</td>\n",
              "      <td>1</td>\n",
              "    </tr>\n",
              "    <tr>\n",
              "      <th>3</th>\n",
              "      <td>1</td>\n",
              "      <td>2</td>\n",
              "      <td>1</td>\n",
              "      <td>1</td>\n",
              "    </tr>\n",
              "  </tbody>\n",
              "</table>\n",
              "</div>\n",
              "      <button class=\"colab-df-convert\" onclick=\"convertToInteractive('df-b067e73d-e38c-47e4-b2b2-364e0222f661')\"\n",
              "              title=\"Convert this dataframe to an interactive table.\"\n",
              "              style=\"display:none;\">\n",
              "        \n",
              "  <svg xmlns=\"http://www.w3.org/2000/svg\" height=\"24px\"viewBox=\"0 0 24 24\"\n",
              "       width=\"24px\">\n",
              "    <path d=\"M0 0h24v24H0V0z\" fill=\"none\"/>\n",
              "    <path d=\"M18.56 5.44l.94 2.06.94-2.06 2.06-.94-2.06-.94-.94-2.06-.94 2.06-2.06.94zm-11 1L8.5 8.5l.94-2.06 2.06-.94-2.06-.94L8.5 2.5l-.94 2.06-2.06.94zm10 10l.94 2.06.94-2.06 2.06-.94-2.06-.94-.94-2.06-.94 2.06-2.06.94z\"/><path d=\"M17.41 7.96l-1.37-1.37c-.4-.4-.92-.59-1.43-.59-.52 0-1.04.2-1.43.59L10.3 9.45l-7.72 7.72c-.78.78-.78 2.05 0 2.83L4 21.41c.39.39.9.59 1.41.59.51 0 1.02-.2 1.41-.59l7.78-7.78 2.81-2.81c.8-.78.8-2.07 0-2.86zM5.41 20L4 18.59l7.72-7.72 1.47 1.35L5.41 20z\"/>\n",
              "  </svg>\n",
              "      </button>\n",
              "      \n",
              "  <style>\n",
              "    .colab-df-container {\n",
              "      display:flex;\n",
              "      flex-wrap:wrap;\n",
              "      gap: 12px;\n",
              "    }\n",
              "\n",
              "    .colab-df-convert {\n",
              "      background-color: #E8F0FE;\n",
              "      border: none;\n",
              "      border-radius: 50%;\n",
              "      cursor: pointer;\n",
              "      display: none;\n",
              "      fill: #1967D2;\n",
              "      height: 32px;\n",
              "      padding: 0 0 0 0;\n",
              "      width: 32px;\n",
              "    }\n",
              "\n",
              "    .colab-df-convert:hover {\n",
              "      background-color: #E2EBFA;\n",
              "      box-shadow: 0px 1px 2px rgba(60, 64, 67, 0.3), 0px 1px 3px 1px rgba(60, 64, 67, 0.15);\n",
              "      fill: #174EA6;\n",
              "    }\n",
              "\n",
              "    [theme=dark] .colab-df-convert {\n",
              "      background-color: #3B4455;\n",
              "      fill: #D2E3FC;\n",
              "    }\n",
              "\n",
              "    [theme=dark] .colab-df-convert:hover {\n",
              "      background-color: #434B5C;\n",
              "      box-shadow: 0px 1px 3px 1px rgba(0, 0, 0, 0.15);\n",
              "      filter: drop-shadow(0px 1px 2px rgba(0, 0, 0, 0.3));\n",
              "      fill: #FFFFFF;\n",
              "    }\n",
              "  </style>\n",
              "\n",
              "      <script>\n",
              "        const buttonEl =\n",
              "          document.querySelector('#df-b067e73d-e38c-47e4-b2b2-364e0222f661 button.colab-df-convert');\n",
              "        buttonEl.style.display =\n",
              "          google.colab.kernel.accessAllowed ? 'block' : 'none';\n",
              "\n",
              "        async function convertToInteractive(key) {\n",
              "          const element = document.querySelector('#df-b067e73d-e38c-47e4-b2b2-364e0222f661');\n",
              "          const dataTable =\n",
              "            await google.colab.kernel.invokeFunction('convertToInteractive',\n",
              "                                                     [key], {});\n",
              "          if (!dataTable) return;\n",
              "\n",
              "          const docLinkHtml = 'Like what you see? Visit the ' +\n",
              "            '<a target=\"_blank\" href=https://colab.research.google.com/notebooks/data_table.ipynb>data table notebook</a>'\n",
              "            + ' to learn more about interactive tables.';\n",
              "          element.innerHTML = '';\n",
              "          dataTable['output_type'] = 'display_data';\n",
              "          await google.colab.output.renderOutput(dataTable, element);\n",
              "          const docLink = document.createElement('div');\n",
              "          docLink.innerHTML = docLinkHtml;\n",
              "          element.appendChild(docLink);\n",
              "        }\n",
              "      </script>\n",
              "    </div>\n",
              "  </div>\n",
              "  "
            ]
          },
          "metadata": {},
          "execution_count": 3
        }
      ]
    },
    {
      "cell_type": "code",
      "source": [
        "import seaborn as sns\n",
        "import matplotlib.pyplot as plt\n",
        "\n",
        "y = lambda x : (-pesos[1] * x - pesos[0]) / pesos[2]\n",
        "\n",
        "sns.scatterplot(data=df, x='x1', y='x2', hue=df['y'])\n",
        "plt.plot([0, 2], [y(0), y(2)], color='black')\n",
        "plt.plot([0, 2], [y(0) + 0.01, y(2) + 0.01], color='orange', linestyle='dotted', label=\"acima é 1\")\n",
        "plt.plot([0, 2], [y(0) - 0.01, y(2) - 0.01], color='blue',  linestyle='dotted', label=\"abaixo é 0\")\n",
        "plt.grid()\n",
        "plt.show()"
      ],
      "metadata": {
        "colab": {
          "base_uri": "https://localhost:8080/",
          "height": 449
        },
        "id": "stj91kWVFfUS",
        "outputId": "75d923c2-61b6-4823-b2f3-afa0b73aa477"
      },
      "execution_count": null,
      "outputs": [
        {
          "output_type": "display_data",
          "data": {
            "text/plain": [
              "<Figure size 640x480 with 1 Axes>"
            ],
            "image/png": "[encoded data removed]"
          },
          "metadata": {}
        }
      ]
    }
  ]
}